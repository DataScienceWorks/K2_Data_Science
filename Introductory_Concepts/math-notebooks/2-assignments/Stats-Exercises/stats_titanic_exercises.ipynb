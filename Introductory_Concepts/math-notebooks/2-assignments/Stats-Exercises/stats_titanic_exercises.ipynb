{
 "cells": [
  {
   "cell_type": "markdown",
   "metadata": {},
   "source": [
    "# Titanic Data Set - Statistics Review\n",
    "\n",
    "[Variable Descriptions](https://www.kaggle.com/c/titanic/data)."
   ]
  },
  {
   "cell_type": "markdown",
   "metadata": {},
   "source": [
    "**Describe the data. **\n",
    "- How big?\n",
    "- What are the columns and what do they mean?"
   ]
  },
  {
   "cell_type": "code",
   "execution_count": 1,
   "metadata": {
    "collapsed": true
   },
   "outputs": [],
   "source": [
    "import numpy as np\n",
    "import scipy as sp\n",
    "import pandas as pd\n",
    "import matplotlib.pyplot as plt"
   ]
  },
  {
   "cell_type": "code",
   "execution_count": 2,
   "metadata": {
    "collapsed": true
   },
   "outputs": [],
   "source": [
    "% matplotlib inline"
   ]
  },
  {
   "cell_type": "code",
   "execution_count": 3,
   "metadata": {},
   "outputs": [
    {
     "data": {
      "text/html": [
       "<div>\n",
       "<style>\n",
       "    .dataframe thead tr:only-child th {\n",
       "        text-align: right;\n",
       "    }\n",
       "\n",
       "    .dataframe thead th {\n",
       "        text-align: left;\n",
       "    }\n",
       "\n",
       "    .dataframe tbody tr th {\n",
       "        vertical-align: top;\n",
       "    }\n",
       "</style>\n",
       "<table border=\"1\" class=\"dataframe\">\n",
       "  <thead>\n",
       "    <tr style=\"text-align: right;\">\n",
       "      <th></th>\n",
       "      <th>PassengerId</th>\n",
       "      <th>Survived</th>\n",
       "      <th>Pclass</th>\n",
       "      <th>Name</th>\n",
       "      <th>Sex</th>\n",
       "      <th>Age</th>\n",
       "      <th>SibSp</th>\n",
       "      <th>Parch</th>\n",
       "      <th>Ticket</th>\n",
       "      <th>Fare</th>\n",
       "      <th>Cabin</th>\n",
       "      <th>Embarked</th>\n",
       "    </tr>\n",
       "  </thead>\n",
       "  <tbody>\n",
       "    <tr>\n",
       "      <th>0</th>\n",
       "      <td>1</td>\n",
       "      <td>0</td>\n",
       "      <td>3</td>\n",
       "      <td>Braund, Mr. Owen Harris</td>\n",
       "      <td>male</td>\n",
       "      <td>22.0</td>\n",
       "      <td>1</td>\n",
       "      <td>0</td>\n",
       "      <td>A/5 21171</td>\n",
       "      <td>7.2500</td>\n",
       "      <td>NaN</td>\n",
       "      <td>S</td>\n",
       "    </tr>\n",
       "    <tr>\n",
       "      <th>1</th>\n",
       "      <td>2</td>\n",
       "      <td>1</td>\n",
       "      <td>1</td>\n",
       "      <td>Cumings, Mrs. John Bradley (Florence Briggs Th...</td>\n",
       "      <td>female</td>\n",
       "      <td>38.0</td>\n",
       "      <td>1</td>\n",
       "      <td>0</td>\n",
       "      <td>PC 17599</td>\n",
       "      <td>71.2833</td>\n",
       "      <td>C85</td>\n",
       "      <td>C</td>\n",
       "    </tr>\n",
       "    <tr>\n",
       "      <th>2</th>\n",
       "      <td>3</td>\n",
       "      <td>1</td>\n",
       "      <td>3</td>\n",
       "      <td>Heikkinen, Miss. Laina</td>\n",
       "      <td>female</td>\n",
       "      <td>26.0</td>\n",
       "      <td>0</td>\n",
       "      <td>0</td>\n",
       "      <td>STON/O2. 3101282</td>\n",
       "      <td>7.9250</td>\n",
       "      <td>NaN</td>\n",
       "      <td>S</td>\n",
       "    </tr>\n",
       "    <tr>\n",
       "      <th>3</th>\n",
       "      <td>4</td>\n",
       "      <td>1</td>\n",
       "      <td>1</td>\n",
       "      <td>Futrelle, Mrs. Jacques Heath (Lily May Peel)</td>\n",
       "      <td>female</td>\n",
       "      <td>35.0</td>\n",
       "      <td>1</td>\n",
       "      <td>0</td>\n",
       "      <td>113803</td>\n",
       "      <td>53.1000</td>\n",
       "      <td>C123</td>\n",
       "      <td>S</td>\n",
       "    </tr>\n",
       "    <tr>\n",
       "      <th>4</th>\n",
       "      <td>5</td>\n",
       "      <td>0</td>\n",
       "      <td>3</td>\n",
       "      <td>Allen, Mr. William Henry</td>\n",
       "      <td>male</td>\n",
       "      <td>35.0</td>\n",
       "      <td>0</td>\n",
       "      <td>0</td>\n",
       "      <td>373450</td>\n",
       "      <td>8.0500</td>\n",
       "      <td>NaN</td>\n",
       "      <td>S</td>\n",
       "    </tr>\n",
       "  </tbody>\n",
       "</table>\n",
       "</div>"
      ],
      "text/plain": [
       "   PassengerId  Survived  Pclass  \\\n",
       "0            1         0       3   \n",
       "1            2         1       1   \n",
       "2            3         1       3   \n",
       "3            4         1       1   \n",
       "4            5         0       3   \n",
       "\n",
       "                                                Name     Sex   Age  SibSp  \\\n",
       "0                            Braund, Mr. Owen Harris    male  22.0      1   \n",
       "1  Cumings, Mrs. John Bradley (Florence Briggs Th...  female  38.0      1   \n",
       "2                             Heikkinen, Miss. Laina  female  26.0      0   \n",
       "3       Futrelle, Mrs. Jacques Heath (Lily May Peel)  female  35.0      1   \n",
       "4                           Allen, Mr. William Henry    male  35.0      0   \n",
       "\n",
       "   Parch            Ticket     Fare Cabin Embarked  \n",
       "0      0         A/5 21171   7.2500   NaN        S  \n",
       "1      0          PC 17599  71.2833   C85        C  \n",
       "2      0  STON/O2. 3101282   7.9250   NaN        S  \n",
       "3      0            113803  53.1000  C123        S  \n",
       "4      0            373450   8.0500   NaN        S  "
      ]
     },
     "execution_count": 3,
     "metadata": {},
     "output_type": "execute_result"
    }
   ],
   "source": [
    "titanic_data = pd.read_csv('titanic.csv')\n",
    "titanic_data.head()"
   ]
  },
  {
   "cell_type": "code",
   "execution_count": 4,
   "metadata": {},
   "outputs": [
    {
     "data": {
      "text/html": [
       "<div>\n",
       "<style>\n",
       "    .dataframe thead tr:only-child th {\n",
       "        text-align: right;\n",
       "    }\n",
       "\n",
       "    .dataframe thead th {\n",
       "        text-align: left;\n",
       "    }\n",
       "\n",
       "    .dataframe tbody tr th {\n",
       "        vertical-align: top;\n",
       "    }\n",
       "</style>\n",
       "<table border=\"1\" class=\"dataframe\">\n",
       "  <thead>\n",
       "    <tr style=\"text-align: right;\">\n",
       "      <th></th>\n",
       "      <th>PassengerId</th>\n",
       "      <th>Survived</th>\n",
       "      <th>Pclass</th>\n",
       "      <th>Age</th>\n",
       "      <th>SibSp</th>\n",
       "      <th>Parch</th>\n",
       "      <th>Fare</th>\n",
       "    </tr>\n",
       "  </thead>\n",
       "  <tbody>\n",
       "    <tr>\n",
       "      <th>count</th>\n",
       "      <td>891.000000</td>\n",
       "      <td>891.000000</td>\n",
       "      <td>891.000000</td>\n",
       "      <td>714.000000</td>\n",
       "      <td>891.000000</td>\n",
       "      <td>891.000000</td>\n",
       "      <td>891.000000</td>\n",
       "    </tr>\n",
       "    <tr>\n",
       "      <th>mean</th>\n",
       "      <td>446.000000</td>\n",
       "      <td>0.383838</td>\n",
       "      <td>2.308642</td>\n",
       "      <td>29.699118</td>\n",
       "      <td>0.523008</td>\n",
       "      <td>0.381594</td>\n",
       "      <td>32.204208</td>\n",
       "    </tr>\n",
       "    <tr>\n",
       "      <th>std</th>\n",
       "      <td>257.353842</td>\n",
       "      <td>0.486592</td>\n",
       "      <td>0.836071</td>\n",
       "      <td>14.526497</td>\n",
       "      <td>1.102743</td>\n",
       "      <td>0.806057</td>\n",
       "      <td>49.693429</td>\n",
       "    </tr>\n",
       "    <tr>\n",
       "      <th>min</th>\n",
       "      <td>1.000000</td>\n",
       "      <td>0.000000</td>\n",
       "      <td>1.000000</td>\n",
       "      <td>0.420000</td>\n",
       "      <td>0.000000</td>\n",
       "      <td>0.000000</td>\n",
       "      <td>0.000000</td>\n",
       "    </tr>\n",
       "    <tr>\n",
       "      <th>25%</th>\n",
       "      <td>223.500000</td>\n",
       "      <td>0.000000</td>\n",
       "      <td>2.000000</td>\n",
       "      <td>20.125000</td>\n",
       "      <td>0.000000</td>\n",
       "      <td>0.000000</td>\n",
       "      <td>7.910400</td>\n",
       "    </tr>\n",
       "    <tr>\n",
       "      <th>50%</th>\n",
       "      <td>446.000000</td>\n",
       "      <td>0.000000</td>\n",
       "      <td>3.000000</td>\n",
       "      <td>28.000000</td>\n",
       "      <td>0.000000</td>\n",
       "      <td>0.000000</td>\n",
       "      <td>14.454200</td>\n",
       "    </tr>\n",
       "    <tr>\n",
       "      <th>75%</th>\n",
       "      <td>668.500000</td>\n",
       "      <td>1.000000</td>\n",
       "      <td>3.000000</td>\n",
       "      <td>38.000000</td>\n",
       "      <td>1.000000</td>\n",
       "      <td>0.000000</td>\n",
       "      <td>31.000000</td>\n",
       "    </tr>\n",
       "    <tr>\n",
       "      <th>max</th>\n",
       "      <td>891.000000</td>\n",
       "      <td>1.000000</td>\n",
       "      <td>3.000000</td>\n",
       "      <td>80.000000</td>\n",
       "      <td>8.000000</td>\n",
       "      <td>6.000000</td>\n",
       "      <td>512.329200</td>\n",
       "    </tr>\n",
       "  </tbody>\n",
       "</table>\n",
       "</div>"
      ],
      "text/plain": [
       "       PassengerId    Survived      Pclass         Age       SibSp  \\\n",
       "count   891.000000  891.000000  891.000000  714.000000  891.000000   \n",
       "mean    446.000000    0.383838    2.308642   29.699118    0.523008   \n",
       "std     257.353842    0.486592    0.836071   14.526497    1.102743   \n",
       "min       1.000000    0.000000    1.000000    0.420000    0.000000   \n",
       "25%     223.500000    0.000000    2.000000   20.125000    0.000000   \n",
       "50%     446.000000    0.000000    3.000000   28.000000    0.000000   \n",
       "75%     668.500000    1.000000    3.000000   38.000000    1.000000   \n",
       "max     891.000000    1.000000    3.000000   80.000000    8.000000   \n",
       "\n",
       "            Parch        Fare  \n",
       "count  891.000000  891.000000  \n",
       "mean     0.381594   32.204208  \n",
       "std      0.806057   49.693429  \n",
       "min      0.000000    0.000000  \n",
       "25%      0.000000    7.910400  \n",
       "50%      0.000000   14.454200  \n",
       "75%      0.000000   31.000000  \n",
       "max      6.000000  512.329200  "
      ]
     },
     "execution_count": 4,
     "metadata": {},
     "output_type": "execute_result"
    }
   ],
   "source": [
    "titanic_data.describe()"
   ]
  },
  {
   "cell_type": "code",
   "execution_count": 7,
   "metadata": {},
   "outputs": [
    {
     "data": {
      "text/plain": [
       "PassengerId      int64\n",
       "Survived         int64\n",
       "Pclass           int64\n",
       "Name            object\n",
       "Sex             object\n",
       "Age            float64\n",
       "SibSp            int64\n",
       "Parch            int64\n",
       "Ticket          object\n",
       "Fare           float64\n",
       "Cabin           object\n",
       "Embarked        object\n",
       "dtype: object"
      ]
     },
     "execution_count": 7,
     "metadata": {},
     "output_type": "execute_result"
    }
   ],
   "source": [
    "titanic_data.dtypes"
   ]
  },
  {
   "cell_type": "code",
   "execution_count": 8,
   "metadata": {},
   "outputs": [
    {
     "data": {
      "text/plain": [
       "(891, 12)"
      ]
     },
     "execution_count": 8,
     "metadata": {},
     "output_type": "execute_result"
    }
   ],
   "source": [
    "titanic_data.shape"
   ]
  },
  {
   "cell_type": "markdown",
   "metadata": {},
   "source": [
    "**What’s the average age of:**\n",
    "\n",
    "- Any Titanic passenger\n",
    "- A survivor\n",
    "- A non-surviving first-class passenger\n",
    "- Male survivors older than 30 from anywhere but Queenstown"
   ]
  },
  {
   "cell_type": "code",
   "execution_count": 30,
   "metadata": {},
   "outputs": [],
   "source": [
    "# Average age any passenger\n",
    "ave1 = titanic_data.Age.mean()"
   ]
  },
  {
   "cell_type": "code",
   "execution_count": 31,
   "metadata": {},
   "outputs": [],
   "source": [
    "# Ave age of survivors \n",
    "ave2 = titanic_data[titanic_data.Survived == 1].Age.mean()"
   ]
  },
  {
   "cell_type": "code",
   "execution_count": 54,
   "metadata": {},
   "outputs": [],
   "source": [
    "# Ave age of non-surviving first-class passenger\n",
    "ave3 = titanic_data[(titanic_data.Survived == 0) & (titanic_data.Pclass == 1)].Age.mean()"
   ]
  },
  {
   "cell_type": "code",
   "execution_count": 55,
   "metadata": {},
   "outputs": [],
   "source": [
    "# Ave age of male survivors older than 30 from anywhere but Queenstown\n",
    "ave4 = titanic_data[(titanic_data.Sex == 'male') & (titanic_data.Age > 30) & (titanic_data.Survived == 1) \\\n",
    "            & (titanic_data.Embarked != 'Q')].Age.mean()"
   ]
  },
  {
   "cell_type": "code",
   "execution_count": 56,
   "metadata": {},
   "outputs": [
    {
     "name": "stdout",
     "output_type": "stream",
     "text": [
      "29.69911764705882\n",
      "28.343689655172415\n",
      "43.6953125\n",
      "41.48780487804878\n"
     ]
    }
   ],
   "source": [
    "print(ave1)\n",
    "print(ave2)\n",
    "print(ave3)\n",
    "print(ave4)"
   ]
  },
  {
   "cell_type": "markdown",
   "metadata": {},
   "source": [
    "**For the groups from the previous task, how far (in years) are the average ages from the median ages?**"
   ]
  },
  {
   "cell_type": "code",
   "execution_count": 57,
   "metadata": {},
   "outputs": [],
   "source": [
    "# Differences between mean and median (mean - median) for all groups above\n",
    "# Any passenger\n",
    "diff1 = ave1 - titanic_data.Age.median()"
   ]
  },
  {
   "cell_type": "code",
   "execution_count": 58,
   "metadata": {
    "collapsed": true
   },
   "outputs": [],
   "source": [
    "# Survivors\n",
    "diff2 = ave2 - titanic_data[titanic_data.Survived == 1].Age.median()"
   ]
  },
  {
   "cell_type": "code",
   "execution_count": 62,
   "metadata": {
    "collapsed": true
   },
   "outputs": [],
   "source": [
    "# Non-surviving first-class\n",
    "diff3 = ave3 - titanic_data[(titanic_data.Survived == 0) & (titanic_data.Pclass == 1)].Age.median()"
   ]
  },
  {
   "cell_type": "code",
   "execution_count": 63,
   "metadata": {
    "collapsed": true
   },
   "outputs": [],
   "source": [
    "diff4 = ave4 - titanic_data[(titanic_data.Sex == 'male') & (titanic_data.Age > 30) & (titanic_data.Survived == 1) \\\n",
    "            & (titanic_data.Embarked != 'Q')].Age.median()"
   ]
  },
  {
   "cell_type": "code",
   "execution_count": 64,
   "metadata": {},
   "outputs": [
    {
     "name": "stdout",
     "output_type": "stream",
     "text": [
      "1.69911764705882\n",
      "0.34368965517241534\n",
      "-1.5546875\n",
      "3.4878048780487774\n"
     ]
    }
   ],
   "source": [
    "print(diff1)\n",
    "print(diff2)\n",
    "print(diff3)\n",
    "print(diff4)"
   ]
  },
  {
   "cell_type": "markdown",
   "metadata": {},
   "source": [
    "**What’s the most common:**\n",
    "- Passenger class\n",
    "- Port of Embarkation\n",
    "- Number of siblings or spouses aboard for survivors"
   ]
  },
  {
   "cell_type": "code",
   "execution_count": 65,
   "metadata": {},
   "outputs": [
    {
     "data": {
      "text/plain": [
       "0    3\n",
       "dtype: int64"
      ]
     },
     "execution_count": 65,
     "metadata": {},
     "output_type": "execute_result"
    }
   ],
   "source": [
    "# Most common passenger class\n",
    "titanic_data.Pclass.mode()"
   ]
  },
  {
   "cell_type": "code",
   "execution_count": 66,
   "metadata": {},
   "outputs": [
    {
     "data": {
      "text/plain": [
       "0    S\n",
       "dtype: object"
      ]
     },
     "execution_count": 66,
     "metadata": {},
     "output_type": "execute_result"
    }
   ],
   "source": [
    "# Most common port of embarkation\n",
    "titanic_data.Embarked.mode()"
   ]
  },
  {
   "cell_type": "code",
   "execution_count": 67,
   "metadata": {},
   "outputs": [
    {
     "data": {
      "text/plain": [
       "0    0\n",
       "dtype: int64"
      ]
     },
     "execution_count": 67,
     "metadata": {},
     "output_type": "execute_result"
    }
   ],
   "source": [
    "# Most common number of siblings/spouses aboard for survivors\n",
    "titanic_data[titanic_data.Survived == 1].SibSp.mode()"
   ]
  },
  {
   "cell_type": "markdown",
   "metadata": {},
   "source": [
    "**Within what range of standard deviations from the mean (0-1, 1-2, 2-3) is the median ticket price? Is it above or below the mean?**"
   ]
  },
  {
   "cell_type": "code",
   "execution_count": 71,
   "metadata": {},
   "outputs": [
    {
     "name": "stdout",
     "output_type": "stream",
     "text": [
      "The median 14.4542 is below the mean 32.2042079685746 by -17.7500079685746, which is 0.3571902456652297 stds\n"
     ]
    }
   ],
   "source": [
    "fare_mean = titanic_data.Fare.mean()\n",
    "fare_std = titanic_data.Fare.std()\n",
    "fare_median = titanic_data.Fare.median()\n",
    "\n",
    "print('The median {} is below the mean {} by {}, which is {} stds'.format(fare_median, fare_mean, \\\n",
    "                                                                          fare_median - fare_mean, \\\n",
    "                                                                          abs((fare_median - fare_mean) / fare_std)))"
   ]
  },
  {
   "cell_type": "markdown",
   "metadata": {},
   "source": [
    "**How much more expensive was the 90th percentile ticket than the 5th percentile ticket? Are they the same class?**"
   ]
  },
  {
   "cell_type": "code",
   "execution_count": 72,
   "metadata": {},
   "outputs": [
    {
     "data": {
      "text/plain": [
       "70.7333"
      ]
     },
     "execution_count": 72,
     "metadata": {},
     "output_type": "execute_result"
    }
   ],
   "source": [
    "titanic_data.Fare.quantile(.9) - titanic_data.Fare.quantile(.05)"
   ]
  },
  {
   "cell_type": "markdown",
   "metadata": {},
   "source": [
    "**The highest average ticket price was paid by passengers from which port? Null ports don’t count.**"
   ]
  },
  {
   "cell_type": "code",
   "execution_count": 74,
   "metadata": {},
   "outputs": [
    {
     "data": {
      "text/html": [
       "<div>\n",
       "<style>\n",
       "    .dataframe thead tr:only-child th {\n",
       "        text-align: right;\n",
       "    }\n",
       "\n",
       "    .dataframe thead th {\n",
       "        text-align: left;\n",
       "    }\n",
       "\n",
       "    .dataframe tbody tr th {\n",
       "        vertical-align: top;\n",
       "    }\n",
       "</style>\n",
       "<table border=\"1\" class=\"dataframe\">\n",
       "  <thead>\n",
       "    <tr style=\"text-align: right;\">\n",
       "      <th>Embarked</th>\n",
       "      <th>C</th>\n",
       "      <th>Q</th>\n",
       "      <th>S</th>\n",
       "    </tr>\n",
       "  </thead>\n",
       "  <tbody>\n",
       "    <tr>\n",
       "      <th>Fare</th>\n",
       "      <td>59.954144</td>\n",
       "      <td>13.27603</td>\n",
       "      <td>27.079812</td>\n",
       "    </tr>\n",
       "  </tbody>\n",
       "</table>\n",
       "</div>"
      ],
      "text/plain": [
       "Embarked          C         Q          S\n",
       "Fare      59.954144  13.27603  27.079812"
      ]
     },
     "execution_count": 74,
     "metadata": {},
     "output_type": "execute_result"
    }
   ],
   "source": [
    "fare_by_port = pd.pivot_table(titanic_data, columns='Embarked', values='Fare')\n",
    "fare_by_port"
   ]
  },
  {
   "cell_type": "markdown",
   "metadata": {},
   "source": [
    "**What is the most common passenger class for each port?**"
   ]
  },
  {
   "cell_type": "code",
   "execution_count": 76,
   "metadata": {},
   "outputs": [
    {
     "data": {
      "text/html": [
       "<div>\n",
       "<style>\n",
       "    .dataframe thead tr:only-child th {\n",
       "        text-align: right;\n",
       "    }\n",
       "\n",
       "    .dataframe thead th {\n",
       "        text-align: left;\n",
       "    }\n",
       "\n",
       "    .dataframe tbody tr th {\n",
       "        vertical-align: top;\n",
       "    }\n",
       "</style>\n",
       "<table border=\"1\" class=\"dataframe\">\n",
       "  <thead>\n",
       "    <tr style=\"text-align: right;\">\n",
       "      <th>Embarked</th>\n",
       "      <th>C</th>\n",
       "      <th>Q</th>\n",
       "      <th>S</th>\n",
       "    </tr>\n",
       "  </thead>\n",
       "  <tbody>\n",
       "    <tr>\n",
       "      <th>Pclass</th>\n",
       "      <td>([1], [85])</td>\n",
       "      <td>([3], [72])</td>\n",
       "      <td>([3], [353])</td>\n",
       "    </tr>\n",
       "  </tbody>\n",
       "</table>\n",
       "</div>"
      ],
      "text/plain": [
       "Embarked            C            Q             S\n",
       "Pclass    ([1], [85])  ([3], [72])  ([3], [353])"
      ]
     },
     "execution_count": 76,
     "metadata": {},
     "output_type": "execute_result"
    }
   ],
   "source": [
    "import scipy.stats as stats\n",
    "class_by_port = pd.pivot_table(titanic_data, columns='Embarked', values='Pclass', aggfunc=stats.mode)\n",
    "class_by_port"
   ]
  },
  {
   "cell_type": "markdown",
   "metadata": {},
   "source": [
    "**What fraction of surviving 1st-class males paid lower than double the overall median ticket price?**"
   ]
  },
  {
   "cell_type": "code",
   "execution_count": 79,
   "metadata": {},
   "outputs": [
    {
     "data": {
      "text/plain": [
       "0.24444444444444444"
      ]
     },
     "execution_count": 79,
     "metadata": {},
     "output_type": "execute_result"
    }
   ],
   "source": [
    "sur_first_male = titanic_data[(titanic_data.Survived == 1) & (titanic_data.Pclass == 1) & (titanic_data.Sex == 'male')]\n",
    "\n",
    "frac = len(sur_first_male[sur_first_male.Fare < fare_median * 2]) / len(sur_first_male)\n",
    "frac"
   ]
  },
  {
   "cell_type": "markdown",
   "metadata": {},
   "source": [
    "**How much older/younger was the average surviving passenger with family members than the average non-surviving passenger without them?**"
   ]
  },
  {
   "cell_type": "code",
   "execution_count": 81,
   "metadata": {},
   "outputs": [
    {
     "data": {
      "text/plain": [
       "-6.888171076642337"
      ]
     },
     "execution_count": 81,
     "metadata": {},
     "output_type": "execute_result"
    }
   ],
   "source": [
    "sur_fam = titanic_data[(titanic_data.Survived == 1) & ((titanic_data.Parch > 0) | (titanic_data.SibSp > 0))]\n",
    "nonsur_nonfam = titanic_data[(titanic_data.Survived == 0) & (titanic_data.Parch == 0) & (titanic_data.SibSp == 0)]\n",
    "\n",
    "diff_age = sur_fam.Age.mean() - nonsur_nonfam.Age.mean()\n",
    "diff_age\n"
   ]
  },
  {
   "cell_type": "markdown",
   "metadata": {},
   "source": [
    "**Display the relationship (i.e. make a plot) between survival rate and the quantile of the ticket price for 20 integer quantiles.**\n",
    "- To be clearer, what I want is for you to specify 20 quantiles, and for each of those quantiles divide the number of survivors in that quantile by the total number of people in that quantile. That’ll give you the survival rate in that quantile.\n",
    "- Then plot a line of the survival rate against the ticket fare quantiles.\n",
    "- Make sure you label your axes."
   ]
  },
  {
   "cell_type": "code",
   "execution_count": 82,
   "metadata": {
    "collapsed": true
   },
   "outputs": [],
   "source": [
    "import math\n",
    "\n"
   ]
  },
  {
   "cell_type": "markdown",
   "metadata": {},
   "source": [
    "**For each of the following characteristics, find the median in the data:**\n",
    "- Age\n",
    "- Ticket price\n",
    "- Siblings/spouses\n",
    "- Parents/children"
   ]
  },
  {
   "cell_type": "code",
   "execution_count": 85,
   "metadata": {},
   "outputs": [
    {
     "data": {
      "text/plain": [
       "Age                 28.0000\n",
       "Ticket Price        14.4542\n",
       "Siblings/Spouses     0.0000\n",
       "Parents/Children     0.0000\n",
       "dtype: float64"
      ]
     },
     "execution_count": 85,
     "metadata": {},
     "output_type": "execute_result"
    }
   ],
   "source": [
    "medians = pd.Series()\n",
    "medians['Age'] = titanic_data.Age.median()\n",
    "medians['Ticket Price'] = titanic_data.Fare.median()\n",
    "medians['Siblings/Spouses'] = titanic_data.SibSp.median()\n",
    "medians['Parents/Children'] = titanic_data.Parch.median()\n",
    "\n",
    "medians"
   ]
  },
  {
   "cell_type": "markdown",
   "metadata": {},
   "source": [
    "**If you were to use these medians to draw numerical boundaries separating survivors from non-survivors, which of these characteristics would be the best choice and why?**"
   ]
  },
  {
   "cell_type": "code",
   "execution_count": 86,
   "metadata": {
    "collapsed": true
   },
   "outputs": [],
   "source": [
    "def survival_ratio(predicate):\n",
    "    series = titanic_data[predicate]\n",
    "    return len(series[series['Survived'] == True]) / len(series)\n",
    "\n",
    "below_at_median = pd.Series(name='Surv. below/at median')\n",
    "above_median = pd.Series(name='Surv. above median')\n",
    "\n"
   ]
  },
  {
   "cell_type": "markdown",
   "metadata": {},
   "source": [
    "**Plot the distribution of passenger ages. Choose visually-meaningful bin sizes and label your axes.**"
   ]
  },
  {
   "cell_type": "code",
   "execution_count": 87,
   "metadata": {},
   "outputs": [
    {
     "data": {
      "text/plain": [
       "Text(0,0.5,'Number of Passengers')"
      ]
     },
     "execution_count": 87,
     "metadata": {},
     "output_type": "execute_result"
    },
    {
     "data": {
      "image/png": "[encoded data removed]",
      "text/plain": [
       "<matplotlib.figure.Figure at 0x1a13b73c18>"
      ]
     },
     "metadata": {},
     "output_type": "display_data"
    }
   ],
   "source": [
    "ax = titanic_data.Age.hist(figsize=(9,6), bins=10)\n",
    "ax.set_xlabel('Age')\n",
    "ax.set_ylabel('Number of Passengers')"
   ]
  },
  {
   "cell_type": "markdown",
   "metadata": {},
   "source": [
    "**Find the probability that:**\n",
    "- A passenger survived\n",
    "- A passenger was male\n",
    "- A passenger was female and had at least one sibling or spouse on board\n",
    "- A survivor was from Cherbourg\n",
    "- A passenger was less than 10 years old\n",
    "- A passenger was between 25 and 40 years old\n",
    "- A passenger was either younger than 20 years old or older than 50"
   ]
  },
  {
   "cell_type": "code",
   "execution_count": 99,
   "metadata": {},
   "outputs": [
    {
     "name": "stdout",
     "output_type": "stream",
     "text": [
      "0.3838383838383838\n",
      "male    0.647587\n",
      "Name: Sex, dtype: float64\n",
      "female    0.157127\n",
      "Name: Sex, dtype: float64\n",
      "0.10437710437710437\n",
      "0.06958473625140292\n",
      "0.28058361391694725\n",
      "0.2558922558922559\n"
     ]
    }
   ],
   "source": [
    "p_sur = len(titanic_data[titanic_data.Survived == 1]) / len(titanic_data)\n",
    "p_male = titanic_data[titanic_data.Sex == 'male'].Sex.value_counts() / len(titanic_data)\n",
    "p_female_1sibsp = titanic_data[(titanic_data.Sex == 'female') & (titanic_data.SibSp > 0)].Sex.value_counts() / len(titanic_data)\n",
    "\n",
    "df = titanic_data.copy()\n",
    "p_sur_C = len(df[(df.Survived == 1) & (df.Embarked == 'C')])/ len(df)\n",
    "\n",
    "p_lt10 = len(df[df.Age < 10]) / len(df)\n",
    "p_25_40 = len(df[(df.Age > 25) & (df.Age < 40)]) / len(df)\n",
    "p_lt20_gt50 = len(df[(df.Age < 20) | (df.Age > 50)]) / len(df)\n",
    "\n",
    "print(p_sur)\n",
    "print(p_male)\n",
    "print(p_female_1sibsp)\n",
    "print(p_sur_C)\n",
    "print(p_lt10)\n",
    "print(p_25_40)\n",
    "print(p_lt20_gt50)"
   ]
  },
  {
   "cell_type": "markdown",
   "metadata": {},
   "source": [
    "**Knowing nothing else about the passengers aside from the survival rate of the population (see question above), if I choose 100 passengers at random from the passenger list, what’s the probability that exactly 42 passengers survive?**"
   ]
  },
  {
   "cell_type": "code",
   "execution_count": 98,
   "metadata": {},
   "outputs": [
    {
     "data": {
      "text/plain": [
       "0.061330411815167886"
      ]
     },
     "execution_count": 98,
     "metadata": {},
     "output_type": "execute_result"
    }
   ],
   "source": [
    "stats.binom.pmf(k=42, n=100, p=p_sur)"
   ]
  },
  {
   "cell_type": "markdown",
   "metadata": {},
   "source": [
    "**What’s the probability that at least 42 of those 100 passengers survive?**"
   ]
  },
  {
   "cell_type": "code",
   "execution_count": 103,
   "metadata": {},
   "outputs": [
    {
     "data": {
      "text/plain": [
       "0.25940724207261701"
      ]
     },
     "execution_count": 103,
     "metadata": {},
     "output_type": "execute_result"
    }
   ],
   "source": [
    "p_atleast42 = 1 - stats.binom.cdf(k=41, n=100, p=p_sur)\n",
    "p_atleast42"
   ]
  },
  {
   "cell_type": "markdown",
   "metadata": {},
   "source": [
    "**Take random samples of 100 passengers and find out how many you need before the fraction of those samples where at least 42 passengers survive matches the probability you calculated previously (within Δp≈0.05).**\n",
    "\n",
    "Answers will vary based on chosen seeds. What would happen if you drew every sample with the same seed?\n",
    "\n",
    "Plot the survival fraction vs the number of random samples."
   ]
  },
  {
   "cell_type": "code",
   "execution_count": 106,
   "metadata": {},
   "outputs": [
    {
     "name": "stdout",
     "output_type": "stream",
     "text": [
      "False\n",
      "False\n",
      "False\n",
      "False\n",
      "True\n",
      "False\n",
      "False\n",
      "False\n",
      "True\n",
      "9 samples were needed to get a fraction of 0.2222222222222222.\n"
     ]
    }
   ],
   "source": [
    "samples = pd.DataFrame(index=['n_survivors', 'at_least_42', 'cumulative_frac'])\n",
    "cumulative_frac = 0\n",
    "\n",
    "seed = 7\n",
    "_iter = 1\n",
    "\n",
    "while abs(cumulative_frac - p_atleast42) >= 0.05:\n",
    "    sample = df.sample(n=100, random_state=seed)\n",
    "    n_survivors = sample['Survived'].sum()\n",
    "    at_least_42 = n_survivors >= 42\n",
    "    print(at_least_42)\n",
    "    n_prev_success = samples.transpose()['at_least_42'].sum()\n",
    "    cumulative_frac = (at_least_42 + n_prev_success) / ( 1 + len(samples.columns))\n",
    "    samples[_iter] = [n_survivors, at_least_42, cumulative_frac]\n",
    "    _iter += 1\n",
    "    seed = seed + 7\n",
    "    \n",
    "print('{} samples were needed to get a fraction of {}.'.format(_iter-1, cumulative_frac))\n",
    "\n"
   ]
  },
  {
   "cell_type": "markdown",
   "metadata": {},
   "source": [
    "**Is there a statistically significant difference between:**\n",
    "- The ages of male and female survivors?\n",
    "- The fares paid by passengers from Queenstown and the passengers from Cherbourg?\n",
    "\n",
    "**Use a 95% confidence level.**"
   ]
  },
  {
   "cell_type": "code",
   "execution_count": 108,
   "metadata": {},
   "outputs": [
    {
     "name": "stderr",
     "output_type": "stream",
     "text": [
      "/Users/Frank/anaconda3/lib/python3.6/site-packages/ipykernel_launcher.py:2: UserWarning: Boolean Series key will be reindexed to match DataFrame index.\n",
      "  \n",
      "/Users/Frank/anaconda3/lib/python3.6/site-packages/ipykernel_launcher.py:3: UserWarning: Boolean Series key will be reindexed to match DataFrame index.\n",
      "  This is separate from the ipykernel package so we can avoid doing imports until\n"
     ]
    },
    {
     "data": {
      "text/plain": [
       "Ttest_indResult(statistic=-0.79089662277024664, pvalue=0.43018823932007377)"
      ]
     },
     "execution_count": 108,
     "metadata": {},
     "output_type": "execute_result"
    }
   ],
   "source": [
    "sur_age_not_null = df[df.Survived == 1].dropna(subset=['Age'])\n",
    "sur_male_ages = sur_age_not_null[df.Sex == 'male'].Age\n",
    "sur_female_ages = sur_age_not_null[df.Sex == 'female'].Age\n",
    "\n",
    "stats.ttest_ind(a=sur_male_ages, b=sur_female_ages, equal_var=False)"
   ]
  },
  {
   "cell_type": "code",
   "execution_count": 109,
   "metadata": {},
   "outputs": [
    {
     "data": {
      "text/plain": [
       "Ttest_indResult(statistic=-6.9951971047186809, pvalue=4.5792033919567422e-11)"
      ]
     },
     "execution_count": 109,
     "metadata": {},
     "output_type": "execute_result"
    }
   ],
   "source": [
    "q_fares = df[df.Embarked == 'Q'].Fare\n",
    "c_fares = df[df.Embarked == 'C'].Fare\n",
    "\n",
    "stats.ttest_ind(a=q_fares, b=c_fares, equal_var=False)"
   ]
  },
  {
   "cell_type": "markdown",
   "metadata": {},
   "source": [
    "**Accompany your p-values with histograms showing the distributions of both compared populations.**"
   ]
  },
  {
   "cell_type": "code",
   "execution_count": 111,
   "metadata": {},
   "outputs": [
    {
     "data": {
      "text/plain": [
       "Text(0,0.5,'Number of Passengers')"
      ]
     },
     "execution_count": 111,
     "metadata": {},
     "output_type": "execute_result"
    },
    {
     "data": {
      "image/png": "[encoded data removed]",
      "text/plain": [
       "<matplotlib.figure.Figure at 0x1a1b6a9a90>"
      ]
     },
     "metadata": {},
     "output_type": "display_data"
    }
   ],
   "source": [
    "ax = sur_female_ages.hist(bins=10, label='female', figsize=(9,5))\n",
    "ax = sur_male_ages.hist(bins=10, label='male', ax=ax)\n",
    "ax.legend(loc='best')\n",
    "ax.set_xlabel('Age')\n",
    "ax.set_ylabel('Number of Passengers')"
   ]
  },
  {
   "cell_type": "code",
   "execution_count": 116,
   "metadata": {},
   "outputs": [
    {
     "data": {
      "text/plain": [
       "Text(0,0.5,'Number of Passengers')"
      ]
     },
     "execution_count": 116,
     "metadata": {},
     "output_type": "execute_result"
    },
    {
     "data": {
      "image/png": "[encoded data removed]",
      "text/plain": [
       "<matplotlib.figure.Figure at 0x1a1bdd9320>"
      ]
     },
     "metadata": {},
     "output_type": "display_data"
    }
   ],
   "source": [
    "bins0_600 = range(0, 600, 50)\n",
    "bx = c_fares.hist(bins=bins0_600, label='C', figsize=(10,6))\n",
    "bx = q_fares.hist(bins=bins0_600, label='Q', ax=bx)\n",
    "\n",
    "bx.legend()\n",
    "bx.set_xlabel('Fare')\n",
    "bx.set_ylabel('Number of Passengers')"
   ]
  },
  {
   "cell_type": "markdown",
   "metadata": {},
   "source": [
    "**Did survivors pay more for their tickets than those that did not? Use a 95% confidence level.**"
   ]
  },
  {
   "cell_type": "code",
   "execution_count": 118,
   "metadata": {},
   "outputs": [
    {
     "name": "stdout",
     "output_type": "stream",
     "text": [
      "26.277520717093292\n",
      "t-stat =  6.83909925909\n",
      "one-sided p-value =  1.34966617516e-11\n"
     ]
    }
   ],
   "source": [
    "surv_fares = df[df.Survived == 1].Fare\n",
    "nonsurv_fares = df[df.Survived == 0].Fare\n",
    "\n",
    "print(surv_fares.mean() - nonsurv_fares.mean())\n",
    "\n",
    "two_side_ttest = stats.ttest_ind(a=surv_fares, b=nonsurv_fares, equal_var=False)\n",
    "\n",
    "print('t-stat = ', two_side_ttest.statistic)\n",
    "print('one-sided p-value = ', two_side_ttest.pvalue/2)"
   ]
  },
  {
   "cell_type": "markdown",
   "metadata": {},
   "source": [
    "**Did a given first-class passenger have fewer family members on board than a given third-class passenger? Use a 95% confidence level.**"
   ]
  },
  {
   "cell_type": "code",
   "execution_count": 120,
   "metadata": {},
   "outputs": [
    {
     "name": "stdout",
     "output_type": "stream",
     "text": [
      "-0.2349984913630534\n",
      "t-stat =  -2.07990757489\n",
      "one-sided p-value =  0.0189536928743\n"
     ]
    }
   ],
   "source": [
    "first_class = df[df.Pclass == 1]\n",
    "third_class = df[df.Pclass == 3]\n",
    "\n",
    "fam_first = first_class.SibSp + first_class.Parch\n",
    "fam_third = third_class.SibSp + third_class.Parch\n",
    "\n",
    "print(fam_first.mean() - fam_third.mean())\n",
    "\n",
    "ttest2 = stats.ttest_ind(a=fam_first, b=fam_third, equal_var=False)\n",
    "\n",
    "print('t-stat = ', ttest2.statistic)\n",
    "print('one-sided p-value = ', ttest2.pvalue / 2)"
   ]
  },
  {
   "cell_type": "code",
   "execution_count": null,
   "metadata": {
    "collapsed": true
   },
   "outputs": [],
   "source": []
  }
 ],
 "metadata": {
  "anaconda-cloud": {},
  "kernelspec": {
   "display_name": "Python 3",
   "language": "python",
   "name": "python3"
  },
  "language_info": {
   "codemirror_mode": {
    "name": "ipython",
    "version": 3
   },
   "file_extension": ".py",
   "mimetype": "text/x-python",
   "name": "python",
   "nbconvert_exporter": "python",
   "pygments_lexer": "ipython3",
   "version": "3.6.3"
  }
 },
 "nbformat": 4,
 "nbformat_minor": 1
}
