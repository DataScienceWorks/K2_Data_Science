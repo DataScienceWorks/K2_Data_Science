{
 "cells": [
  {
   "cell_type": "markdown",
   "metadata": {},
   "source": [
    "# Introduction"
   ]
  },
  {
   "cell_type": "markdown",
   "metadata": {},
   "source": [
    "[Scipy](http://www.scipy.org/), and [Numpy](http://numpy.scipy.org/), provide a host of functions for performing statistical calculations. This article will describe ways of performing a few simple statistical calculations, as an introduction to using Scipy.\n",
    "\n",
    "Scipy package is organized into several sub-packages. Before using any of these sub-packages, it must be explicitly imported. For example, to use functions in the `scipy.stats` package, we must execute:"
   ]
  },
  {
   "cell_type": "code",
   "execution_count": 6,
   "metadata": {
    "collapsed": true
   },
   "outputs": [],
   "source": [
    "from scipy import stats"
   ]
  },
  {
   "cell_type": "markdown",
   "metadata": {},
   "source": [
    "Scipy is built on top of Numpy and uses Numpy arrays and data types. Hence we can use all the array manipulation and indexing methods provided by Numpy. Scipy imports all functions in the Numpy package, and several commonly used functions from sub-packages, into the top level namespace. For example, the Numpy `array` function is available as `scipy.array`. Similarly, the function `scipy.var` is the same as `numpy.var`. This means that we don’t have to explicitly import Numpy.\n",
    "\n",
    "In this notebook, we will use the [matplotlib](http://matplotlib.sourceforge.net/) library for creating plots.\n",
    "\n",
    "By convention, the top level Scipy package is imported as `sp` and the Numpy package, if needed, is imported as `np`."
   ]
  },
  {
   "cell_type": "code",
   "execution_count": 7,
   "metadata": {
    "collapsed": true
   },
   "outputs": [],
   "source": [
    "import scipy as sp\n",
    "import numpy as np"
   ]
  },
  {
   "cell_type": "markdown",
   "metadata": {},
   "source": [
    "Matplotlib is imported in the following manner:"
   ]
  },
  {
   "cell_type": "code",
   "execution_count": 8,
   "metadata": {
    "collapsed": true
   },
   "outputs": [],
   "source": [
    "import matplotlib as mpl\n",
    "from matplotlib import pyplot as plt\n",
    "% matplotlib inline"
   ]
  },
  {
   "cell_type": "markdown",
   "metadata": {},
   "source": [
    "To get help on any Scipy function or sub-package we can use the Scipy function `info`. For example, `scipy.info`(`scipy.stats`)."
   ]
  },
  {
   "cell_type": "markdown",
   "metadata": {},
   "source": [
    "# Descriptive statistics\n",
    "\n",
    "To illustrate basic functions we will use some pseudo-random numbers from a Gaussian or Normal distribution. The function `scipy.randn` can be used to generate random numbers from a standard Gaussian. This function is the same as the `numpy.random.randn` function."
   ]
  },
  {
   "cell_type": "code",
   "execution_count": 10,
   "metadata": {},
   "outputs": [
    {
     "name": "stdout",
     "output_type": "stream",
     "text": [
      "100\n"
     ]
    }
   ],
   "source": [
    "s = sp.randn(100) # Hundred random numbers from Normal dist\n",
    "print(len(s))"
   ]
  },
  {
   "cell_type": "markdown",
   "metadata": {},
   "source": [
    "Since the value returned is a Numpy array we can use its methods to find descriptive statistics for the data."
   ]
  },
  {
   "cell_type": "code",
   "execution_count": 11,
   "metadata": {},
   "outputs": [
    {
     "name": "stdout",
     "output_type": "stream",
     "text": [
      "Mean: -0.034303\n",
      "Minimum: -1.921548\n",
      "Maximum: 2.442108\n",
      "Variance: 0.821751\n",
      "Standard Dev: 0.906505\n"
     ]
    }
   ],
   "source": [
    "print('Mean: {0:8.6f}'.format(s.mean()))\n",
    "print('Minimum: {0:8.6f}'.format(s.min()))\n",
    "print('Maximum: {0:8.6f}'.format(s.max()))\n",
    "print('Variance: {0:8.6f}'.format(s.var()))\n",
    "print('Standard Dev: {0:8.6f}'.format(s.std()))"
   ]
  },
  {
   "cell_type": "markdown",
   "metadata": {},
   "source": [
    "We can also use Scipy functions for performing the same calculations."
   ]
  },
  {
   "cell_type": "code",
   "execution_count": 12,
   "metadata": {},
   "outputs": [
    {
     "name": "stdout",
     "output_type": "stream",
     "text": [
      "Mean: -0.034303\n",
      "Standard Dev: 0.906505\n"
     ]
    }
   ],
   "source": [
    "print('Mean: {0:8.6f}'.format(sp.mean(s)))\n",
    "print('Standard Dev: {0:8.6f}'.format(sp.std(s)))"
   ]
  },
  {
   "cell_type": "markdown",
   "metadata": {},
   "source": [
    "The median can be calculated using:"
   ]
  },
  {
   "cell_type": "code",
   "execution_count": 13,
   "metadata": {},
   "outputs": [
    {
     "name": "stdout",
     "output_type": "stream",
     "text": [
      "Median: -0.106239\n"
     ]
    }
   ],
   "source": [
    "print('Median: {0:8.6f}'.format(sp.median(s)))"
   ]
  },
  {
   "cell_type": "markdown",
   "metadata": {},
   "source": [
    "Note that both variance calculations above use N in the denominator i.e., they are biased estimators of the variance of the parent distribution. But when we are merely trying to describe the data, these are the appropriate equations to use.\n",
    "\n",
    "The `scipy.var` function takes a keyword parameter `ddof` that can be used to change the denominator. The denominator is set as `N - ddof` and by default `ddof = 0`; set `ddof = 1.0` to find the unbiased estimator of the variance of the parent distribution."
   ]
  },
  {
   "cell_type": "code",
   "execution_count": 14,
   "metadata": {},
   "outputs": [
    {
     "name": "stdout",
     "output_type": "stream",
     "text": [
      "Var with 0 ddof: 0.821751\n",
      "Var with 1 ddof: 0.830051\n"
     ]
    }
   ],
   "source": [
    "print('Var with 0 ddof: {0:8.6f}'.format(sp.var(s)))\n",
    "print('Var with 1 ddof: {0:8.6f}'.format(sp.var(s, ddof=1)))"
   ]
  },
  {
   "cell_type": "markdown",
   "metadata": {},
   "source": [
    "The `scipy.stats` sub-package has a function `describe` that will provide most of the above numbers. In this case, the variance has `N - 1` in the denominator."
   ]
  },
  {
   "cell_type": "code",
   "execution_count": 15,
   "metadata": {},
   "outputs": [
    {
     "name": "stdout",
     "output_type": "stream",
     "text": [
      "Number of elements: 100\n",
      "Minimum: -1.921548 Maximum: 2.442108\n",
      "Mean: -0.034303\n",
      "Variance: 0.830051\n",
      "Skew : 0.319704\n",
      "Kurtosis: -0.261859\n"
     ]
    }
   ],
   "source": [
    "from scipy import stats\n",
    "\n",
    "n, min_max, mean, var, skew, kurt = stats.describe(s)\n",
    "\n",
    "print('Number of elements: {0:d}'.format(n))\n",
    "print(\"Minimum: {0:8.6f} Maximum: {1:8.6f}\".format(min_max[0], min_max[1]))\n",
    "print(\"Mean: {0:8.6f}\".format(mean))\n",
    "print(\"Variance: {0:8.6f}\".format(var))\n",
    "print(\"Skew : {0:8.6f}\".format(skew))\n",
    "print(\"Kurtosis: {0:8.6f}\".format(kurt))"
   ]
  },
  {
   "cell_type": "markdown",
   "metadata": {},
   "source": [
    "# Probability distributions\n",
    "\n",
    "Scipy has functions that deal with several common probability distributions. Currently there are 81 continuous probability distributions and 10 discrete distributions. These are defined in the `scipy.stats` sub-package. This package also defines several statistical functions.\n",
    "\n",
    "Examples of continuous probability distributions are:\n",
    "\n",
    "- norm : Normal or Gaussian\n",
    "- chi2 : Chi-squared\n",
    "- t : Student’s T\n",
    "- uniform : Uniform\n",
    "\n",
    "Examples of discrete probability distributions are:\n",
    "\n",
    "- binom : Binomial\n",
    "- poisson : Poisson\n",
    "\n",
    "Examples of statistical functions:\n",
    "\n",
    "- mode : Modal value\n",
    "- moment : central moment\n",
    "- describe: descriptive statistics\n",
    "- histogram: histogram of data\n",
    "\n",
    "There are two ways of using probability distribution functions."
   ]
  },
  {
   "cell_type": "markdown",
   "metadata": {},
   "source": [
    "*First*. Generate a “frozen” distribution object and then work with the methods of this object. A “frozen” distribution is one with its parameters set to specific values. For example a Gaussian with mean = 3.5 and standard deviation = 2.0.\n",
    "\n",
    "To create a “frozen” Gaussian or Normal distribution with mean = 3.5 and standard deviation = 2.0 we can use."
   ]
  },
  {
   "cell_type": "code",
   "execution_count": 16,
   "metadata": {
    "collapsed": true
   },
   "outputs": [],
   "source": [
    "n = stats.norm(loc=3.5, scale=2.0)"
   ]
  },
  {
   "cell_type": "markdown",
   "metadata": {},
   "source": [
    "Then to draw a random number from this distribution we can execute:"
   ]
  },
  {
   "cell_type": "code",
   "execution_count": 20,
   "metadata": {},
   "outputs": [
    {
     "data": {
      "text/plain": [
       "4.7214630978876553"
      ]
     },
     "execution_count": 20,
     "metadata": {},
     "output_type": "execute_result"
    }
   ],
   "source": [
    "n.rvs()"
   ]
  },
  {
   "cell_type": "markdown",
   "metadata": {},
   "source": [
    "For a normal distribution the keyword parameter `loc` defines the mean and the keyword parameter `scale` defines the standard deviation. For other distributions these will correspond to appropriate parameters of the distribution; the parameters needed by a distribution is specified in the docstring of the distribution, which can be viewed with the Python `help` function. For example, to view the docstring for the Poisson distribution we can use `help(stats.poisson)` or `scipy.info(stats.poisson)`. In the [iPython](http://ipython.scipy.org/) shell we can use `stats.poisson?`."
   ]
  },
  {
   "cell_type": "markdown",
   "metadata": {},
   "source": [
    "*Second*. Use functions in the appropriate class by always passing the parameters that define the distribution, when calling functions associated with the distribution.\n",
    "\n",
    "For example, to draw a random number from a Gaussian or Normal distribution with mean = 3.5 and standard deviation = 2.0 we can use:"
   ]
  },
  {
   "cell_type": "code",
   "execution_count": 22,
   "metadata": {},
   "outputs": [
    {
     "data": {
      "text/plain": [
       "6.1646346645038532"
      ]
     },
     "execution_count": 22,
     "metadata": {},
     "output_type": "execute_result"
    }
   ],
   "source": [
    "stats.norm.rvs(loc=3.5, scale=2.0)"
   ]
  },
  {
   "cell_type": "markdown",
   "metadata": {},
   "source": [
    "Given a probability distribution function we are interested in obtaining properties of the distribution. Functions are available for calculating the following important properties."
   ]
  },
  {
   "cell_type": "markdown",
   "metadata": {},
   "source": [
    "## Probability density function (PDF) and probability mass function (PMF)\n",
    "\n",
    "For continuous variates the `probability density function` (PDF) is proportional to the probability of the variate being in a small interval about the given value. The probability of the variate being in a finite interval is the integral of the PDF over the interval.\n",
    "\n",
    "The value of the PDF at any value of the variate can be obtained using the function pdf of the concerned distribution."
   ]
  },
  {
   "cell_type": "code",
   "execution_count": 23,
   "metadata": {},
   "outputs": [
    {
     "data": {
      "text/plain": [
       "0.3989422804014327"
      ]
     },
     "execution_count": 23,
     "metadata": {},
     "output_type": "execute_result"
    }
   ],
   "source": [
    "# PDF of Normal dist with mean = 0.0 and std dev = 1.0 at 0\n",
    "stats.norm.pdf(0, loc=0.0, scale=1.0)"
   ]
  },
  {
   "cell_type": "markdown",
   "metadata": {},
   "source": [
    "We can also pass an array of values to this function, to get the PDF at the specified values of the variate:"
   ]
  },
  {
   "cell_type": "code",
   "execution_count": 25,
   "metadata": {},
   "outputs": [
    {
     "data": {
      "text/plain": [
       "array([ 0.24197072,  0.39894228,  0.24197072])"
      ]
     },
     "execution_count": 25,
     "metadata": {},
     "output_type": "execute_result"
    }
   ],
   "source": [
    "stats.norm.pdf([-1.0, 0.0, 1.0], loc=0.0, scale=1.0)"
   ]
  },
  {
   "cell_type": "markdown",
   "metadata": {},
   "source": [
    "For discrete variates the `probability mass function` (PMF) gives the probability of the variate having a value x.\n",
    "\n",
    "For example, for a binomial distribution with `p = 0.5` and number of trials `n = 10` we can calculate the PMF using the following:"
   ]
  },
  {
   "cell_type": "code",
   "execution_count": 26,
   "metadata": {},
   "outputs": [
    {
     "name": "stdout",
     "output_type": "stream",
     "text": [
      "[ 0.00976563  0.04394531  0.1171875   0.20507813  0.24609375  0.20507813\n",
      "  0.1171875   0.04394531  0.00976563  0.00097656]\n"
     ]
    }
   ],
   "source": [
    "tries = range(1, 11) # 1 to 10\n",
    "print(stats.binom.pmf(tries, 10, 0.5))"
   ]
  },
  {
   "cell_type": "markdown",
   "metadata": {},
   "source": [
    "The following function plots the PMF of a binomial distribution with `n` tries and probability of success `p`."
   ]
  },
  {
   "cell_type": "code",
   "execution_count": 27,
   "metadata": {
    "collapsed": true
   },
   "outputs": [],
   "source": [
    "def binom_pmf(n=4, p=0.5):\n",
    "    # There are n+1 possible number of \"successes\": 0 to n.\n",
    "    x = range(n+1)\n",
    "    y = stats.binom.pmf(x, n, p)\n",
    "    plt.plot(x, y, 'o', color='black')\n",
    "    \n",
    "    # Format x and y axes.\n",
    "    plt.axis([-(max(x)-min(x))*0.05, max(x)*1.05, -0.01, max(y)*1.10])\n",
    "    plt.xticks(x)\n",
    "    plt.title('Binomial dist PMF for tries = {0} & p = {1}'.format(n, p))\n",
    "    plt.xlabel('Variate')\n",
    "    plt.ylabel('Probability')\n",
    "    \n",
    "    plt.draw()"
   ]
  },
  {
   "cell_type": "markdown",
   "metadata": {},
   "source": [
    "The plot for the binomial distribution with `n = 10` and `p = 0.5` is show below."
   ]
  },
  {
   "cell_type": "code",
   "execution_count": 28,
   "metadata": {},
   "outputs": [
    {
     "data": {
      "image/png": "[encoded data removed]",
      "text/plain": [
       "<matplotlib.figure.Figure at 0x1a111bc198>"
      ]
     },
     "metadata": {},
     "output_type": "display_data"
    }
   ],
   "source": [
    "binom_pmf(n=10, p=0.5)"
   ]
  },
  {
   "cell_type": "markdown",
   "metadata": {},
   "source": [
    "## Cumulative density function (CDF)\n",
    "\n",
    "CDF gives the probability that the variate has a value less than or equal to the given value."
   ]
  },
  {
   "cell_type": "code",
   "execution_count": 29,
   "metadata": {},
   "outputs": [
    {
     "data": {
      "text/plain": [
       "0.5"
      ]
     },
     "execution_count": 29,
     "metadata": {},
     "output_type": "execute_result"
    }
   ],
   "source": [
    "stats.norm.cdf(0.0, loc=0.0, scale=1.0)"
   ]
  },
  {
   "cell_type": "markdown",
   "metadata": {},
   "source": [
    "The following function plots the CDF for a Gaussian distribution of given mean and standard deviation."
   ]
  },
  {
   "cell_type": "code",
   "execution_count": 32,
   "metadata": {
    "collapsed": true
   },
   "outputs": [],
   "source": [
    "def norm_cdf(mean=0.0, std=1.0):\n",
    "    # 50 numbers between -3σ and 3σ\n",
    "    x = np.linspace(-3*std, 3*std, 50)\n",
    "    # CDF at these values\n",
    "    y = stats.norm.cdf(x, loc=mean, scale=std)\n",
    "    \n",
    "    plt.plot(x, y, color='black')\n",
    "    plt.xlabel('Variate')\n",
    "    plt.ylabel('Cumulative Probability')\n",
    "    plt.title('CDF for Normal Dist of mean = {0} and std = {1}'.format(mean, std))\n",
    "    \n",
    "    plt.draw()"
   ]
  },
  {
   "cell_type": "markdown",
   "metadata": {},
   "source": [
    "CDF for the Gaussian of mean = 0.0 and standard deviation = 1.0 is shown below."
   ]
  },
  {
   "cell_type": "code",
   "execution_count": 33,
   "metadata": {},
   "outputs": [
    {
     "data": {
      "image/png": "[encoded data removed]",
      "text/plain": [
       "<matplotlib.figure.Figure at 0x1a18b155c0>"
      ]
     },
     "metadata": {},
     "output_type": "display_data"
    }
   ],
   "source": [
    "norm_cdf(mean=0.0, std=1.0)"
   ]
  },
  {
   "cell_type": "markdown",
   "metadata": {},
   "source": [
    "## Percent point function (PPF) or inverse cumulative function\n",
    "\n",
    "PPF is the inverse of the CDF. That is, PPF gives the value of the variate for which the cumulative probability has the given value.\n"
   ]
  },
  {
   "cell_type": "code",
   "execution_count": 34,
   "metadata": {},
   "outputs": [
    {
     "data": {
      "text/plain": [
       "0.0"
      ]
     },
     "execution_count": 34,
     "metadata": {},
     "output_type": "execute_result"
    }
   ],
   "source": [
    "stats.norm.ppf(0.5, loc=0.0, scale=1.0)"
   ]
  },
  {
   "cell_type": "markdown",
   "metadata": {},
   "source": [
    "The following function plots the PPF for a Gaussian distribution."
   ]
  },
  {
   "cell_type": "code",
   "execution_count": 35,
   "metadata": {
    "collapsed": true
   },
   "outputs": [],
   "source": [
    "def norm_ppf(mean=0.0, std=1.0):\n",
    "    # 100 numbers bewteen 0.0 and 1.0, ie probabilities\n",
    "    x = np.linspace(0.0, 1.0, 100)\n",
    "    # PPF at these values\n",
    "    y = stats.norm.ppf(x, loc=mean, scale=std)\n",
    "    \n",
    "    plt.plot(x, y, color='black')\n",
    "    plt.xlabel('Cumulative Probability')\n",
    "    plt.ylabel('Variate')\n",
    "    plt.title('PPF for Normal Dist with mean = {0} and std = {1}'.format(mean, std))\n",
    "    \n",
    "    plt.show()"
   ]
  },
  {
   "cell_type": "markdown",
   "metadata": {},
   "source": [
    "Example plot of PPF for Gaussian of mean = 0.0 and std. deviation = 1.0."
   ]
  },
  {
   "cell_type": "code",
   "execution_count": 36,
   "metadata": {},
   "outputs": [
    {
     "data": {
      "image/png": "[encoded data removed]",
      "text/plain": [
       "<matplotlib.figure.Figure at 0x1a11178e48>"
      ]
     },
     "metadata": {},
     "output_type": "display_data"
    }
   ],
   "source": [
    "norm_ppf()"
   ]
  },
  {
   "cell_type": "markdown",
   "metadata": {},
   "source": [
    "## Survival function (SF)\n",
    "\n",
    "Survival function gives the probability that the variate has a value greater than the given value; `SF = 1 - CDF`."
   ]
  },
  {
   "cell_type": "code",
   "execution_count": 37,
   "metadata": {},
   "outputs": [
    {
     "data": {
      "text/plain": [
       "0.5"
      ]
     },
     "execution_count": 37,
     "metadata": {},
     "output_type": "execute_result"
    }
   ],
   "source": [
    "stats.norm.sf(0.0, loc=0.0, scale=1.0)"
   ]
  },
  {
   "cell_type": "markdown",
   "metadata": {},
   "source": [
    "A function for plotting the SF for a Gaussian with a given mean and std. deviation is shown below. An example plot for mean = 0.0 and std. deviation = 1.0 is also shown."
   ]
  },
  {
   "cell_type": "code",
   "execution_count": 38,
   "metadata": {
    "collapsed": true
   },
   "outputs": [],
   "source": [
    "def norm_sf(mean=0.0, std=1.0):\n",
    "    # 50 numbers between -3σ and 3 σ\n",
    "    x = np.linspace(-3*std, 3*std, 50)\n",
    "    # SF at these values\n",
    "    y = stats.norm.sf(x, loc=mean, scale=std)\n",
    "    \n",
    "    plt.plot(x, y, color='black')\n",
    "    plt.xlabel('Variate')\n",
    "    plt.ylabel('Probability')\n",
    "    \n",
    "    plt.title('SF of Normal Dist with mean = {0} and std = {1}'.format(mean, std))\n",
    "    plt.show()"
   ]
  },
  {
   "cell_type": "code",
   "execution_count": 39,
   "metadata": {},
   "outputs": [
    {
     "data": {
      "image/png": "[encoded data removed]",
      "text/plain": [
       "<matplotlib.figure.Figure at 0x1a18a456d8>"
      ]
     },
     "metadata": {},
     "output_type": "display_data"
    }
   ],
   "source": [
    "norm_sf()"
   ]
  },
  {
   "cell_type": "markdown",
   "metadata": {},
   "source": [
    "## Inverse survival function (ISF)\n",
    "\n",
    "ISF is the inverse of the survival function. It gives the value of the variate for which the survival function has the given value.\n"
   ]
  },
  {
   "cell_type": "code",
   "execution_count": 40,
   "metadata": {},
   "outputs": [
    {
     "data": {
      "text/plain": [
       "0.0"
      ]
     },
     "execution_count": 40,
     "metadata": {},
     "output_type": "execute_result"
    }
   ],
   "source": [
    "stats.norm.isf(.5, loc=0.0, scale=1.0)"
   ]
  },
  {
   "cell_type": "markdown",
   "metadata": {},
   "source": [
    "Function to plot the ISF, and an example plot, for a Gaussian is given below."
   ]
  },
  {
   "cell_type": "code",
   "execution_count": 41,
   "metadata": {
    "collapsed": true
   },
   "outputs": [],
   "source": [
    "def norm_isf(mean=0.0, std=1.0):\n",
    "    # 100 numbers between 0.0 and 1.0, ie probabilities\n",
    "    x = np.linspace(0.0, 1.0, 100)\n",
    "    # ISF of these values\n",
    "    y = stats.norm.isf(x, loc=mean, scale=std)\n",
    "    \n",
    "    plt.plot(x, y, color='black')\n",
    "    plt.xlabel('Probability')\n",
    "    plt.ylabel('Variate')\n",
    "    plt.title('ISF of Normal Dist with mean = {0} and std = {1}'.format(mean, std))\n",
    "    \n",
    "    plt.show()"
   ]
  },
  {
   "cell_type": "code",
   "execution_count": 42,
   "metadata": {},
   "outputs": [
    {
     "data": {
      "image/png": "[encoded data removed]",
      "text/plain": [
       "<matplotlib.figure.Figure at 0x1a18b5d438>"
      ]
     },
     "metadata": {},
     "output_type": "display_data"
    }
   ],
   "source": [
    "norm_isf()"
   ]
  },
  {
   "cell_type": "markdown",
   "metadata": {},
   "source": [
    "## Random variates\n",
    "\n",
    "A random value or several random values can be drawn from a distribution using the rvs method of the appropriate class.\n"
   ]
  },
  {
   "cell_type": "code",
   "execution_count": 43,
   "metadata": {},
   "outputs": [
    {
     "data": {
      "text/plain": [
       "array([-0.36166893, -0.64830214, -0.22233958,  0.50552694,  1.66238075,\n",
       "       -0.51750477, -0.57918175,  1.37170062, -0.63713595,  2.30774264,\n",
       "       -1.04270832,  1.24899732,  1.11224144, -0.61433647,  0.22053757,\n",
       "       -1.86814262,  0.13822175,  1.09362185,  0.70221894,  0.94060672,\n",
       "       -1.2138521 , -0.5869317 , -0.2376226 ,  0.54696582, -1.74330085,\n",
       "        0.91528093, -0.03272366, -1.28901577, -0.02440078,  1.05287162,\n",
       "        0.64165471,  0.02454202, -0.73606019,  0.55767549, -1.06444607,\n",
       "       -0.49785117,  1.65792754, -0.83775782, -1.14692041, -0.90924645,\n",
       "        0.75348605, -1.69416801, -0.04180075,  1.16273623,  1.01798338,\n",
       "       -2.02409705, -1.01775476,  2.57054081, -1.16743861,  0.31842874,\n",
       "        0.11346119,  0.86849717,  0.0167034 , -1.3830372 , -0.81004678,\n",
       "       -0.56496067, -0.37202027, -0.77772058, -2.6597644 ,  0.1797773 ,\n",
       "       -0.50644295,  1.45922481,  1.04016716, -0.194764  ,  1.43084868,\n",
       "       -0.50313854, -0.55287199, -0.59984975,  1.06141462,  1.56836291,\n",
       "        0.81532244,  0.4191297 , -0.66802765,  0.73558483, -0.31372659,\n",
       "        0.44225279,  0.05192271,  2.7877469 ,  0.59618444,  1.27207765,\n",
       "       -0.69723998, -1.45495776,  0.89727449, -0.17198044, -0.33395868,\n",
       "       -0.30006225,  0.94454697,  1.07511974, -1.52784986, -0.10735627,\n",
       "       -1.51422845,  0.83960624, -0.72990177, -0.51352702, -0.62239475,\n",
       "        0.94222567, -0.09525383, -1.15533142,  1.13291077, -0.73549909])"
      ]
     },
     "execution_count": 43,
     "metadata": {},
     "output_type": "execute_result"
    }
   ],
   "source": [
    "# 100 random values from a Norma dist with μ = 1.0\n",
    "stats.norm.rvs(loc=0.0, scale=1.0, size=100)"
   ]
  },
  {
   "cell_type": "code",
   "execution_count": 44,
   "metadata": {},
   "outputs": [
    {
     "data": {
      "text/plain": [
       "array([0, 1, 1, 1, 2, 1, 1, 1, 2, 0, 2, 0, 1, 1, 1, 1, 1, 0, 1, 0, 3, 2, 2,\n",
       "       1, 1, 2, 1, 1, 1, 0, 1, 3, 1, 2, 1, 3, 0, 1, 2, 1, 0, 2, 1, 2, 0, 2,\n",
       "       2, 0, 0, 1, 0, 1, 0, 0, 0, 2, 3, 1, 0, 1, 1, 1, 1, 0, 3, 1, 1, 0, 1,\n",
       "       0, 2, 2, 0, 1, 1, 0, 2, 0, 1, 0, 1, 1, 0, 1, 2, 2, 0, 1, 0, 3, 0, 0,\n",
       "       1, 1, 4, 0, 0, 2, 0, 0])"
      ]
     },
     "execution_count": 44,
     "metadata": {},
     "output_type": "execute_result"
    }
   ],
   "source": [
    "# 100 random values from Poisson dist with μ = 1.0\n",
    "stats.poisson.rvs(1.0, size=100)"
   ]
  },
  {
   "cell_type": "markdown",
   "metadata": {},
   "source": [
    "The following plot shows the histogram of events recorded in a series of 2 second intervals. The data is simulated by drawing 100 random events from a Poisson distribution with mean `μ` = 1.69. Also plotted is the Probability Mass Function (PMF) of the Poisson distribution with mean `μ` = 1.69. Poisson is a discrete distribution and the solid line is just a smooth line drawn through the points of the Poisson distribution PMF. The mean μ and the standard deviation `σ = sqrt(μ)` are marked."
   ]
  },
  {
   "cell_type": "code",
   "execution_count": 54,
   "metadata": {},
   "outputs": [
    {
     "data": {
      "image/png": "[encoded data removed]",
      "text/plain": [
       "<matplotlib.figure.Figure at 0x10b5be978>"
      ]
     },
     "metadata": {},
     "output_type": "display_data"
    }
   ],
   "source": [
    "import scipy as sp\n",
    "from scipy import stats\n",
    "from matplotlib import pyplot as plt\n",
    "from scipy import interpolate\n",
    "import warnings\n",
    "warnings.filterwarnings('ignore')\n",
    "\n",
    "def simulate_poisson():\n",
    "    # Mean is 1.69\n",
    "    mu = 1.69\n",
    "    sigma = sp.sqrt(mu)\n",
    "    mu_plus_sigma = mu + sigma\n",
    "\n",
    "    # Draw random samples from the Poisson distribution, to simulate\n",
    "    # the observed events per 2 second interval.\n",
    "    counts = stats.poisson.rvs(mu, size=100)\n",
    "\n",
    "    # Bins for the histogram: only the last bin is closed on both\n",
    "    # sides. We need one more bin than the maximum value of count, so\n",
    "    # that the maximum value goes in its own bin instead of getting\n",
    "    # added to the previous bin.\n",
    "    # [0,1), [1, 2), ..., [max(counts), max(counts)+1]\n",
    "    bins = range(0, max(counts)+2)\n",
    "\n",
    "    # Plot histogram.\n",
    "    plt.hist(counts, bins=bins, align=\"left\", histtype=\"step\", color=\"black\")\n",
    "\n",
    "    # Create Poisson distribution for given mu.\n",
    "    x = range(0,10)\n",
    "    prob = stats.poisson.pmf(x, mu)*100 \n",
    "\n",
    "    # Plot the PMF.\n",
    "    plt.plot(x, prob, \"o\", color=\"black\")\n",
    "\n",
    "    # Draw a smooth curve through the PMF.\n",
    "    l = sp.linspace(0,11,100)\n",
    "    s = interpolate.spline(x, prob, l)\n",
    "    plt.plot(l,s,color=\"black\")\n",
    "\n",
    "    plt.xlabel(\"Number of counts per 2 seconds\")\n",
    "    plt.ylabel(\"Number of occurrences (Poisson)\")\n",
    "\n",
    "    # Interpolated probability at x = μ + σ; for marking σ in the graph.\n",
    "    xx = sp.searchsorted(l,mu_plus_sigma) - 1\n",
    "    v = ((s[xx+1] -  s[xx])/(l[xx+1]-l[xx])) * (mu_plus_sigma - l[xx])\n",
    "    v += s[xx]\n",
    "\n",
    "    ax = plt.gca()\n",
    "    # Reset axis range and ticks.\n",
    "    ax.axis([-0.5,10, 0, 40])\n",
    "    ax.set_xticks(range(1,10), minor=True)\n",
    "    ax.set_yticks(range(0,41,8))\n",
    "    ax.set_yticks(range(4,41,8), minor=True)\n",
    "\n",
    "    # Draw arrow and then place an opaque box with μ in it.\n",
    "    ax.annotate(\"\", xy=(mu,29), xycoords=\"data\", xytext=(mu, 13),\n",
    "                textcoords=\"data\", arrowprops=dict(arrowstyle=\"->\",\n",
    "                                                   connectionstyle=\"arc3\"))\n",
    "    bbox_props = dict(boxstyle=\"round\", fc=\"w\", ec=\"w\")\n",
    "    ax.text(mu, 21, r\"$\\mu$\", va=\"center\", ha=\"center\",\n",
    "            size=15, bbox=bbox_props)\n",
    "\n",
    "    # Draw arrow and then place an opaque box with σ in it.\n",
    "    ax.annotate(\"\", xy=(mu,v), xytext=(mu_plus_sigma,v),\n",
    "                arrowprops=dict(arrowstyle=\"<->\", connectionstyle=\"arc3\"))\n",
    "    bbox_props = dict(boxstyle=\"round\", fc=\"w\", ec=\"w\")\n",
    "    ax.text(mu+(sigma/2.0), v, r\"$\\sigma$\", va=\"center\", ha=\"center\",\n",
    "            size=15, bbox=bbox_props)\n",
    "\n",
    "    # Refresh plot and save figure.\n",
    "    plt.draw()\n",
    "    plt.savefig(\"simulate_poisson.png\")\n",
    "\n",
    "simulate_poisson()"
   ]
  },
  {
   "cell_type": "code",
   "execution_count": null,
   "metadata": {
    "collapsed": true
   },
   "outputs": [],
   "source": []
  }
 ],
 "metadata": {
  "anaconda-cloud": {},
  "kernelspec": {
   "display_name": "Python 3",
   "language": "python",
   "name": "python3"
  },
  "language_info": {
   "codemirror_mode": {
    "name": "ipython",
    "version": 3
   },
   "file_extension": ".py",
   "mimetype": "text/x-python",
   "name": "python",
   "nbconvert_exporter": "python",
   "pygments_lexer": "ipython3",
   "version": "3.6.3"
  }
 },
 "nbformat": 4,
 "nbformat_minor": 1
}
