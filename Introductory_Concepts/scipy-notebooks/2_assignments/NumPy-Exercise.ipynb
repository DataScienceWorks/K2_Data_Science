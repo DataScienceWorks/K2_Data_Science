{
 "cells": [
  {
   "cell_type": "markdown",
   "metadata": {},
   "source": [
    "# NumPy Exercise\n",
    "NumPy is the fundamental package for scientific computing in Python. It is a Python library that provides a multidimensional array object, various derived objects (such as masked arrays and matrices), and an assortment of routines for fast operations on arrays, including mathematical, logical, shape manipulation, sorting, selecting, I/O, discrete Fourier transforms, basic linear algebra, basic statistical operations, random simulation and much more.\n",
    "\n",
    "At the core of the NumPy package, is the ndarray object. This encapsulates n-dimensional arrays of homogeneous data types, with many operations being performed in compiled code for performance. There are several important differences between NumPy arrays and the standard Python sequences:\n",
    "\n",
    "- NumPy arrays have a fixed size at creation, unlike Python lists (which can grow dynamically). Changing the size of an ndarray will create a new array and delete the original.\n",
    "- The elements in a NumPy array are all required to be of the same data type, and thus will be the same size in memory. The exception: one can have arrays of (Python, including NumPy) objects, thereby allowing for arrays of different sized elements.\n",
    "- NumPy arrays facilitate advanced mathematical and other types of operations on large numbers of data. Typically, such operations are executed more efficiently and with less code than is possible using Python’s built-in sequences.\n",
    "- A growing plethora of scientific and mathematical Python-based packages are using NumPy arrays; though these typically support Python-sequence input, they convert such input to NumPy arrays prior to processing, and they often output NumPy arrays. In other words, in order to efficiently use much (perhaps even most) of today’s scientific/mathematical Python-based software, just knowing how to use Python’s built-in sequence types is insufficient - one also needs to know how to use NumPy arrays.\n",
    "\n",
    "Using only NumPy, perform the following.\n",
    "\n",
    "1. Create an array of the form $b = \\begin{bmatrix} 1 \\\\ 2 \\end{bmatrix}$\n",
    "1. Create a 2x2 array of the form $X = \\begin{bmatrix} 1 & 2 \\\\ 3 & 4 \\end{bmatrix}$\n",
    "1. Multiply the two arrays element wise, then using matrix multiplication, and finally the inner product of $b \\bullet b$.\n",
    "1. For each of your results in part (3), print the shape and data type.\n",
    "1. Reshape (or flatten), the array $X$ such that it consists of only 1 row.\n",
    "1. Create an array of the integers 1 to 10, inclusive, setting the datatype to float.\n",
    "1. Create a 10x10 identity matrix using the built in numpy function.\n",
    "1. Create a 10x10 identity matrix using a for loop.\n",
    "1. Generate a set of random data, $X$, drawn from a normal distribution, consisting of 9 columns of 100 rows each, then attach a column of all ones, resulting in a 100x10 matrix for $X$.  Next generate a random array $\\beta$, drawn from a uniform distribution, of length 10.  Also make an array, $\\epsilon$ of length 100, drawn from a normal distribution.  Finally, compute a vector $\\vec{y}$ such that $\\vec{y} = X\\beta + \\epsilon$.  Be sure to set the random seed to 0 before drawing any random numbers.  All random numbers should be on the interval [0, 1).\n",
    "1. Using the vector $\\vec{y}$ computed in part 9, create a vector $\\vec{c}$ containing the labels \"positive\" or \"negative\" for each value in $\\vec{y}$, treating 0 as positive.  **Bonus:** Do it with a one-liner.\n",
    "1. Using the classes generated in part 10, separate the matrix X into two smaller matricies, $X_p$, $X_n$, containing only rows which map to positive or negative values respectively.\n",
    "1. Generate a meshgrid on the interval [0, 1], of shape 100x100.  Then compute the Euclidean Distance given by $d = \\sqrt{x^2 + y^2}$ from the origin for each unit, $(x_n, y_n)$, in the grid.  **Bonus:** Do it with a one-liner.\n",
    "1. Generate a set of 100 values, $p$,  on the interval $[0, 2\\pi]$ and two vectors, $\\vec{x}, \\vec{y}$ such that $\\vec{x} = cos(p)$ and $\\vec{y} = sin(p)$.  Then compute the vector $\\vec{r} = \\sqrt{x^2 + y^2}$.  Comment on your results.\n",
    "1. Generate two lists, `a`, `b`, consisting of 10 randomly drawn values from a normal and uniform distribution respectively.  Compute the mean and median of each.\n",
    "1. Using `a` from part 14, create a new list `c` by calling `a = c`.  Now change the shape of `c`.  Comment on your results.\n",
    "1. How would you solve the problem that appeared in part 15?"
   ]
  },
  {
   "cell_type": "code",
   "execution_count": 1,
   "metadata": {
    "collapsed": true
   },
   "outputs": [],
   "source": [
    "import numpy as np"
   ]
  },
  {
   "cell_type": "code",
   "execution_count": 19,
   "metadata": {},
   "outputs": [
    {
     "data": {
      "text/plain": [
       "array([1, 2])"
      ]
     },
     "execution_count": 19,
     "metadata": {},
     "output_type": "execute_result"
    }
   ],
   "source": [
    "# part 1\n",
    "b = np.array([1, 2])\n",
    "b"
   ]
  },
  {
   "cell_type": "code",
   "execution_count": 20,
   "metadata": {},
   "outputs": [
    {
     "data": {
      "text/plain": [
       "array([[1, 2],\n",
       "       [3, 4]])"
      ]
     },
     "execution_count": 20,
     "metadata": {},
     "output_type": "execute_result"
    }
   ],
   "source": [
    "# part 2\n",
    "X = np.array([[1, 2], [3, 4]])\n",
    "X"
   ]
  },
  {
   "cell_type": "code",
   "execution_count": 21,
   "metadata": {},
   "outputs": [
    {
     "name": "stdout",
     "output_type": "stream",
     "text": [
      "[[1 4]\n",
      " [3 8]]\n"
     ]
    }
   ],
   "source": [
    "# part 3\n",
    "# Element-wise\n",
    "y1 = b * X\n",
    "print(y1)"
   ]
  },
  {
   "cell_type": "code",
   "execution_count": 22,
   "metadata": {},
   "outputs": [
    {
     "name": "stdout",
     "output_type": "stream",
     "text": [
      "[ 7 10]\n"
     ]
    }
   ],
   "source": [
    "# Matrix multiplication\n",
    "y2 = np.matmul(b, X)\n",
    "print(y2)"
   ]
  },
  {
   "cell_type": "code",
   "execution_count": 23,
   "metadata": {},
   "outputs": [
    {
     "name": "stdout",
     "output_type": "stream",
     "text": [
      "5\n"
     ]
    }
   ],
   "source": [
    "# Inner product of b\n",
    "y3 = np.inner(b, b)\n",
    "print(y3)"
   ]
  },
  {
   "cell_type": "code",
   "execution_count": 25,
   "metadata": {},
   "outputs": [
    {
     "name": "stdout",
     "output_type": "stream",
     "text": [
      "int64 (2, 2)\n",
      "int64 (2,)\n",
      "int64 ()\n"
     ]
    }
   ],
   "source": [
    "# part 4\n",
    "print(y1.dtype, y1.shape)\n",
    "print(y2.dtype, y2.shape)\n",
    "print(y3.dtype, y3.shape)"
   ]
  },
  {
   "cell_type": "code",
   "execution_count": 28,
   "metadata": {},
   "outputs": [
    {
     "data": {
      "text/plain": [
       "array([[1, 2, 3, 4]])"
      ]
     },
     "execution_count": 28,
     "metadata": {},
     "output_type": "execute_result"
    }
   ],
   "source": [
    "# part 5\n",
    "X.reshape(1, 4)"
   ]
  },
  {
   "cell_type": "code",
   "execution_count": 30,
   "metadata": {},
   "outputs": [
    {
     "name": "stdout",
     "output_type": "stream",
     "text": [
      "[  1.   2.   3.   4.   5.   6.   7.   8.   9.  10.]\n"
     ]
    }
   ],
   "source": [
    "# part 6\n",
    "a = np.arange(1, 11, dtype='float')\n",
    "print(a)"
   ]
  },
  {
   "cell_type": "code",
   "execution_count": 31,
   "metadata": {},
   "outputs": [
    {
     "name": "stdout",
     "output_type": "stream",
     "text": [
      "[[ 1.  0.  0.  0.  0.  0.  0.  0.  0.  0.]\n",
      " [ 0.  1.  0.  0.  0.  0.  0.  0.  0.  0.]\n",
      " [ 0.  0.  1.  0.  0.  0.  0.  0.  0.  0.]\n",
      " [ 0.  0.  0.  1.  0.  0.  0.  0.  0.  0.]\n",
      " [ 0.  0.  0.  0.  1.  0.  0.  0.  0.  0.]\n",
      " [ 0.  0.  0.  0.  0.  1.  0.  0.  0.  0.]\n",
      " [ 0.  0.  0.  0.  0.  0.  1.  0.  0.  0.]\n",
      " [ 0.  0.  0.  0.  0.  0.  0.  1.  0.  0.]\n",
      " [ 0.  0.  0.  0.  0.  0.  0.  0.  1.  0.]\n",
      " [ 0.  0.  0.  0.  0.  0.  0.  0.  0.  1.]]\n"
     ]
    }
   ],
   "source": [
    "# part 7\n",
    "i = np.eye(10)\n",
    "print(i)"
   ]
  },
  {
   "cell_type": "code",
   "execution_count": 36,
   "metadata": {},
   "outputs": [
    {
     "data": {
      "text/plain": [
       "[[1, 0, 0, 0, 0, 0, 0, 0, 0, 0],\n",
       " [0, 1, 0, 0, 0, 0, 0, 0, 0, 0],\n",
       " [0, 0, 1, 0, 0, 0, 0, 0, 0, 0],\n",
       " [0, 0, 0, 1, 0, 0, 0, 0, 0, 0],\n",
       " [0, 0, 0, 0, 1, 0, 0, 0, 0, 0],\n",
       " [0, 0, 0, 0, 0, 1, 0, 0, 0, 0],\n",
       " [0, 0, 0, 0, 0, 0, 1, 0, 0, 0],\n",
       " [0, 0, 0, 0, 0, 0, 0, 1, 0, 0],\n",
       " [0, 0, 0, 0, 0, 0, 0, 0, 1, 0],\n",
       " [0, 0, 0, 0, 0, 0, 0, 0, 0, 1]]"
      ]
     },
     "execution_count": 36,
     "metadata": {},
     "output_type": "execute_result"
    }
   ],
   "source": [
    "# part 8\n",
    "I = []\n",
    "for i in range(10):\n",
    "    row = [0] * 10\n",
    "    for j in range(10):\n",
    "        if i == j:\n",
    "            row[j] = 1\n",
    "    I.append(row)\n",
    "    \n",
    "I"
   ]
  },
  {
   "cell_type": "code",
   "execution_count": 52,
   "metadata": {},
   "outputs": [
    {
     "name": "stdout",
     "output_type": "stream",
     "text": [
      "[ -2.07191192e+00   8.26404275e-01   3.08951410e+00   1.79363754e+00\n",
      "  -1.55083977e-01  -1.45322874e+00   6.27011621e-01  -8.39289815e-01\n",
      "   1.88752558e+00   4.78077914e+00   1.10691597e+00   7.65578333e-01\n",
      "   1.20020907e+00   9.24952019e-01   3.95477604e+00  -3.93726237e-01\n",
      "   6.08075757e-01   1.62958027e+00   1.20874055e-01   1.92762825e+00\n",
      "  -5.75849924e-01   6.03047046e-01   3.42850339e+00  -1.81398464e+00\n",
      "   2.47877739e+00   2.72925992e+00  -1.02362515e+00   5.64383161e-01\n",
      "   1.41293504e+00   5.27903802e+00  -2.43119529e-01   1.68872594e-02\n",
      "   3.77000782e+00  -2.51229787e+00  -7.04491636e-01  -1.13099876e-01\n",
      "  -8.59674364e-01   1.30450122e+00   7.87917306e-01   4.03440846e+00\n",
      "   2.61085312e+00   3.44762358e+00   1.78091337e+00   6.52348541e-02\n",
      "  -7.57782272e-01   7.08309329e-01   1.04107211e+00   2.79413340e-01\n",
      "   1.64510089e+00  -1.23728430e+00  -7.15501091e-01   2.20365499e+00\n",
      "   4.17426032e+00  -1.39682450e+00   4.15870619e-01   9.48746159e-01\n",
      "   3.16126658e+00  -2.77125713e+00   1.98296159e+00  -1.27553106e+00\n",
      "   1.10048814e+00  -9.92676331e-01  -7.80206771e-01   1.60893647e+00\n",
      "   1.27290931e-01  -1.15458438e+00   1.23341857e+00   1.64520416e+00\n",
      "   1.40987402e+00   1.89924940e+00   4.42448972e+00   3.86286424e+00\n",
      "   3.64620338e+00   4.38818525e+00  -8.68338020e-02   1.22238961e+00\n",
      "  -8.73913167e-01  -1.70393566e+00   4.00300719e+00  -4.35221083e-01\n",
      "  -1.51787053e+00  -5.04048361e-01   4.61373381e-03   1.94023980e+00\n",
      "   4.90918186e+00  -1.36621587e+00  -2.04450703e+00   1.49401875e+00\n",
      "  -1.92020070e+00   3.83921623e+00   2.47232510e+00   1.19231716e+00\n",
      "   6.60621833e-01  -3.89863438e-02  -1.75079039e+00  -1.00977931e+00\n",
      "   3.41264730e-01   3.00559291e+00  -1.88862914e-01   1.91836861e+00]\n"
     ]
    }
   ],
   "source": [
    "# part 9\n",
    "X = np.random.randn(100, 9)\n",
    "ones = np.ones((100, 1))\n",
    "\n",
    "X = np.hstack((X, ones))\n",
    "beta = np.random.rand(10)\n",
    "ep = np.random.randn(100)\n",
    "\n",
    "y_vec = np.matmul(X, beta) + ep\n",
    "\n",
    "print(y_vec)"
   ]
  },
  {
   "cell_type": "code",
   "execution_count": 61,
   "metadata": {},
   "outputs": [],
   "source": [
    "# part 10\n",
    "c_vec = ['positive' if val >= 0 else 'negative' for val in y_vec]"
   ]
  },
  {
   "cell_type": "code",
   "execution_count": 69,
   "metadata": {},
   "outputs": [],
   "source": [
    "# part 11\n",
    "c_vec = np.array(c_vec)\n",
    "Xp = X[c_vec == 'positive']\n",
    "Xn = X[c_vec == 'negative']"
   ]
  },
  {
   "cell_type": "code",
   "execution_count": 70,
   "metadata": {
    "collapsed": true
   },
   "outputs": [],
   "source": [
    "# part 12\n",
    "xx, yy = np.meshgrid(np.linspace(0, 1, 100), np.linspace(0, 1, 100))\n",
    "\n",
    "d = []\n",
    "for i in range(100):\n",
    "    for j in range(100):\n",
    "        d.append(np.sqrt(xx[i, j]**2 + yy[i, j]**2))\n",
    "        \n",
    "d = [np.sqrt(xx[i, j]**2 + yy[i, j]**2) for i in range(100) for j in range(100)]"
   ]
  },
  {
   "cell_type": "code",
   "execution_count": 74,
   "metadata": {},
   "outputs": [
    {
     "data": {
      "text/plain": [
       "array([ 1.,  1.,  1.,  1.,  1.,  1.,  1.,  1.,  1.,  1.,  1.,  1.,  1.,\n",
       "        1.,  1.,  1.,  1.,  1.,  1.,  1.,  1.,  1.,  1.,  1.,  1.,  1.,\n",
       "        1.,  1.,  1.,  1.,  1.,  1.,  1.,  1.,  1.,  1.,  1.,  1.,  1.,\n",
       "        1.,  1.,  1.,  1.,  1.,  1.,  1.,  1.,  1.,  1.,  1.,  1.,  1.,\n",
       "        1.,  1.,  1.,  1.,  1.,  1.,  1.,  1.,  1.,  1.,  1.,  1.,  1.,\n",
       "        1.,  1.,  1.,  1.,  1.,  1.,  1.,  1.,  1.,  1.,  1.,  1.,  1.,\n",
       "        1.,  1.,  1.,  1.,  1.,  1.,  1.,  1.,  1.,  1.,  1.,  1.,  1.,\n",
       "        1.,  1.,  1.,  1.,  1.,  1.,  1.,  1.,  1.])"
      ]
     },
     "execution_count": 74,
     "metadata": {},
     "output_type": "execute_result"
    }
   ],
   "source": [
    "# part 13\n",
    "p = np.linspace(0, 2*np.pi, 100)\n",
    "x = np.cos(p)\n",
    "y = np.sin(p)\n",
    "\n",
    "r = np.sqrt(x**2 + y**2)\n",
    "r\n",
    "\n",
    "# The result is simply an array of 100 1s"
   ]
  },
  {
   "cell_type": "code",
   "execution_count": 87,
   "metadata": {},
   "outputs": [
    {
     "name": "stdout",
     "output_type": "stream",
     "text": [
      "Normal dist mean:  -0.223138304935\n",
      "Normal dist median:  -0.394292060332\n",
      "Uniform dist mean:  0.458940640573\n",
      "Uniform dist median:  0.475621065963\n"
     ]
    }
   ],
   "source": [
    "# part 14\n",
    "norm = np.random.randn(10)\n",
    "uni = np.random.rand(10)\n",
    "\n",
    "print('Normal dist mean: ', np.mean(norm))\n",
    "print('Normal dist median: ', np.median(norm))\n",
    "print('Uniform dist mean: ', np.mean(uni))\n",
    "print('Uniform dist median: ', np.median(uni))\n"
   ]
  },
  {
   "cell_type": "code",
   "execution_count": 94,
   "metadata": {},
   "outputs": [
    {
     "data": {
      "text/plain": [
       "array([[-1.54774807, -1.28539727],\n",
       "       [ 1.74484292,  0.11826392],\n",
       "       [-0.10023402, -0.60520186],\n",
       "       [-0.18338226, -0.89011285],\n",
       "       [ 1.6452823 , -1.12769586]])"
      ]
     },
     "execution_count": 94,
     "metadata": {},
     "output_type": "execute_result"
    }
   ],
   "source": [
    "# part 15\n",
    "c = norm\n",
    "c.shape = (5,2)\n",
    "norm"
   ]
  },
  {
   "cell_type": "code",
   "execution_count": 96,
   "metadata": {},
   "outputs": [
    {
     "name": "stdout",
     "output_type": "stream",
     "text": [
      "[0 1 2 3 4 5 6 7 8 9]\n",
      "[[0 1]\n",
      " [2 3]\n",
      " [4 5]\n",
      " [6 7]\n",
      " [8 9]]\n"
     ]
    }
   ],
   "source": [
    "# part 16\n",
    "a = np.arange(10)\n",
    "c = a.copy()\n",
    "\n",
    "c.shape = (5, 2)\n",
    "\n",
    "print(a)\n",
    "print(c)"
   ]
  },
  {
   "cell_type": "code",
   "execution_count": null,
   "metadata": {
    "collapsed": true
   },
   "outputs": [],
   "source": []
  },
  {
   "cell_type": "code",
   "execution_count": null,
   "metadata": {
    "collapsed": true
   },
   "outputs": [],
   "source": []
  }
 ],
 "metadata": {
  "anaconda-cloud": {},
  "kernelspec": {
   "display_name": "Python 3",
   "language": "python",
   "name": "python3"
  },
  "language_info": {
   "codemirror_mode": {
    "name": "ipython",
    "version": 3
   },
   "file_extension": ".py",
   "mimetype": "text/x-python",
   "name": "python",
   "nbconvert_exporter": "python",
   "pygments_lexer": "ipython3",
   "version": "3.6.3"
  }
 },
 "nbformat": 4,
 "nbformat_minor": 2
}
