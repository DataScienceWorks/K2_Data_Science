{
 "cells": [
  {
   "cell_type": "markdown",
   "metadata": {},
   "source": [
    "# Introduction\n",
    "\n",
    "Object-oriented programming and design is an approach that is based around 'objects'. \n",
    "You have already been working\n",
    "regularly with objects such as lists, tuples, dictionaries, and NumPy arrays.\n",
    "\n",
    "The topic of object-oriented programming is a whole lecture course on its own, so in this notebook \n",
    "we will focus on:\n",
    "\n",
    "- Classes\n",
    "- Attributes of objects\n",
    "- Class methods\n",
    "\n",
    "We will do this primarily by example. We will not delve into inheritance and polymorphism.\n",
    "\n",
    "Python supports the object-oriented programming paradigm; in fact, everything in Python is an object.\n",
    "You have been using concepts from object-oriented computing throughout this course.\n",
    "\n",
    "\n",
    "## Objectives\n",
    "\n",
    "- Appreciate objects as instantiations of classes\n",
    "- Understanding of attributes and methods of classes\n",
    "- Learn to create simple classes\n",
    "- Implement and use class methods"
   ]
  },
  {
   "cell_type": "markdown",
   "metadata": {},
   "source": [
    "We will be using NumPy, so we import it here:"
   ]
  },
  {
   "cell_type": "code",
   "execution_count": 1,
   "metadata": {
    "collapsed": true
   },
   "outputs": [],
   "source": [
    "import numpy as np"
   ]
  },
  {
   "cell_type": "markdown",
   "metadata": {
    "collapsed": true
   },
   "source": [
    "# Example: Numpy array objects\n",
    "\n",
    "Consider a NumPy array:"
   ]
  },
  {
   "cell_type": "code",
   "execution_count": 2,
   "metadata": {},
   "outputs": [
    {
     "name": "stdout",
     "output_type": "stream",
     "text": [
      "[[ 1 -4  7]\n",
      " [ 2  6 -1]]\n"
     ]
    }
   ],
   "source": [
    "A = np.array([[1, -4, 7], [2, 6, -1]])\n",
    "print(A)"
   ]
  },
  {
   "cell_type": "markdown",
   "metadata": {},
   "source": [
    "We already know how to check the type of an object:"
   ]
  },
  {
   "cell_type": "code",
   "execution_count": 3,
   "metadata": {},
   "outputs": [
    {
     "name": "stdout",
     "output_type": "stream",
     "text": [
      "<class 'numpy.ndarray'>\n"
     ]
    }
   ],
   "source": [
    "print(type(A))"
   ]
  },
  {
   "cell_type": "markdown",
   "metadata": {},
   "source": [
    "This says that `A` is an *instantiation* of the class `numpy.ndarray`. You can read this as '`A` is a `numpy.ndarray`'.\n",
    "\n",
    "So what is a `numpy.ndarray`? Is is a class that has *attributes* and *member functions*."
   ]
  },
  {
   "cell_type": "markdown",
   "metadata": {},
   "source": [
    "## Attributes\n",
    "\n",
    "Attributes are *data* that belong to an object. The array `A` has a number of attributes. An attribute we have seen already is `shape`:"
   ]
  },
  {
   "cell_type": "code",
   "execution_count": 4,
   "metadata": {},
   "outputs": [
    {
     "name": "stdout",
     "output_type": "stream",
     "text": [
      "(2, 3)\n"
     ]
    }
   ],
   "source": [
    "s = A.shape\n",
    "print(s)"
   ]
  },
  {
   "cell_type": "markdown",
   "metadata": {},
   "source": [
    "Every object of type `numpy.ndarray` has the attribute `shape` which describes the number on entries in the array in each direction. Other attributes are `size`, which is the total number of entries:"
   ]
  },
  {
   "cell_type": "code",
   "execution_count": 5,
   "metadata": {},
   "outputs": [
    {
     "name": "stdout",
     "output_type": "stream",
     "text": [
      "6\n"
     ]
    }
   ],
   "source": [
    "s = A.size\n",
    "print(s)"
   ]
  },
  {
   "cell_type": "markdown",
   "metadata": {},
   "source": [
    "and `ndim`, which is the number of array dimensions (i.e. 1 for a vector, 2 for a matrix): "
   ]
  },
  {
   "cell_type": "code",
   "execution_count": 6,
   "metadata": {},
   "outputs": [
    {
     "name": "stdout",
     "output_type": "stream",
     "text": [
      "2\n"
     ]
    }
   ],
   "source": [
    "d = A.ndim\n",
    "print(d)"
   ]
  },
  {
   "cell_type": "markdown",
   "metadata": {},
   "source": [
    "Notice that after an attribute name there are no braces, i.e. no `()`. This is a feature of attributes - we are\n",
    "just accessing some data that belongs to an object. We are not calling a function or doing any computational work."
   ]
  },
  {
   "cell_type": "markdown",
   "metadata": {},
   "source": [
    "## Methods\n",
    "\n",
    "Methods are *functions* that are associated with a class, and perform operations on the data associated with an instantiation of a class. A `numpy.ndarray` object has a method '`min`', which return the minimum entry in \n",
    "the array:"
   ]
  },
  {
   "cell_type": "code",
   "execution_count": 7,
   "metadata": {},
   "outputs": [
    {
     "name": "stdout",
     "output_type": "stream",
     "text": [
      "-4\n"
     ]
    }
   ],
   "source": [
    "print(A.min())"
   ]
  },
  {
   "cell_type": "markdown",
   "metadata": {},
   "source": [
    "Methods are functions, and as functions can take arguments. For example, we can use the method `sort` to sort the rows of an array: "
   ]
  },
  {
   "cell_type": "code",
   "execution_count": 8,
   "metadata": {},
   "outputs": [
    {
     "name": "stdout",
     "output_type": "stream",
     "text": [
      "[[-4  1  7]\n",
      " [-1  2  6]]\n"
     ]
    }
   ],
   "source": [
    "A.sort(kind='quicksort')\n",
    "print(A)"
   ]
  },
  {
   "cell_type": "markdown",
   "metadata": {},
   "source": [
    "where we have called the `sort` method that belongs to `numpy.ndarray`, and we have passed an argument that specifies that it should use quicksort."
   ]
  },
  {
   "cell_type": "markdown",
   "metadata": {},
   "source": [
    "Object methods can take other objects as arguments. Given a two-dimensional array (matrix) $A$ and\n",
    "a one-dimensional array (vector) $x$:"
   ]
  },
  {
   "cell_type": "code",
   "execution_count": 9,
   "metadata": {},
   "outputs": [
    {
     "name": "stdout",
     "output_type": "stream",
     "text": [
      "[ 1.  1.  1.]\n"
     ]
    }
   ],
   "source": [
    "A = np.array([[1, -4, 7], [2, 6, -1]])\n",
    "\n",
    "x = np.ones(A.shape[1])\n",
    "print(x)"
   ]
  },
  {
   "cell_type": "markdown",
   "metadata": {},
   "source": [
    "we can compute $b = Ax$ using the `dot` method:"
   ]
  },
  {
   "cell_type": "code",
   "execution_count": 10,
   "metadata": {},
   "outputs": [
    {
     "name": "stdout",
     "output_type": "stream",
     "text": [
      "[ 4.  7.]\n"
     ]
    }
   ],
   "source": [
    "b = A.dot(x)\n",
    "print(b)"
   ]
  },
  {
   "cell_type": "markdown",
   "metadata": {},
   "source": [
    "# Finding class attributes and methods\n",
    "\n",
    "Class attributes and methods are usually listed in documentation. For `numpy.ndarray`, all attributes and methods are listed and explained at http://docs.scipy.org/doc/numpy/reference/generated/numpy.ndarray.html.\n",
    "\n",
    "Using Jupyter (or IPython) you can use 'tab-completion' to see the available attributes and methods. You will often know from the name which one you need."
   ]
  },
  {
   "cell_type": "markdown",
   "metadata": {},
   "source": [
    "# Creating classes\n",
    "\n",
    "Sometimes we cannot find a class (object type) that suits our problem. In this case we can make our own.\n",
    "As a simple example, consider a class that holds a person's surname and forename:"
   ]
  },
  {
   "cell_type": "code",
   "execution_count": 11,
   "metadata": {
    "collapsed": true
   },
   "outputs": [],
   "source": [
    "class PersonName:\n",
    "    def __init__(self, surname, forename):\n",
    "        self.surname = surname  # Attribute\n",
    "        self.forename = forename  # Attribute\n",
    "        \n",
    "    # This is a method\n",
    "    def full_name(self):\n",
    "        \"Return full name (forename surname)\"\n",
    "        return self.forename + \" \" + self.surname\n",
    "\n",
    "    # This is a method\n",
    "    def surname_forename(self, sep=\",\"):\n",
    "        \"Return 'surname, forename', with option to specify separator\"\n",
    "        return self.surname + sep + \" \" + self.forename"
   ]
  },
  {
   "cell_type": "markdown",
   "metadata": {},
   "source": [
    "Before dissecting the syntax of this class, we will use it. \n",
    "We first create an object (an instantiation) of type `PersonName`:"
   ]
  },
  {
   "cell_type": "code",
   "execution_count": 12,
   "metadata": {},
   "outputs": [
    {
     "name": "stdout",
     "output_type": "stream",
     "text": [
      "<class '__main__.PersonName'>\n"
     ]
    }
   ],
   "source": [
    "name_entry = PersonName(\"Bloggs\", \"Joanna\")\n",
    "print(type(name_entry))"
   ]
  },
  {
   "cell_type": "markdown",
   "metadata": {},
   "source": [
    "We first test the attributes:"
   ]
  },
  {
   "cell_type": "code",
   "execution_count": 15,
   "metadata": {},
   "outputs": [
    {
     "name": "stdout",
     "output_type": "stream",
     "text": [
      "Bloggs\n",
      "Joanna\n"
     ]
    }
   ],
   "source": [
    "print(name_entry.surname)\n",
    "print(name_entry.forename)"
   ]
  },
  {
   "cell_type": "markdown",
   "metadata": {},
   "source": [
    "Next, we test the class methods:"
   ]
  },
  {
   "cell_type": "code",
   "execution_count": 17,
   "metadata": {},
   "outputs": [
    {
     "name": "stdout",
     "output_type": "stream",
     "text": [
      "Joanna Bloggs\n",
      "Bloggs, Joanna\n",
      "Bloggs    /     Joanna\n"
     ]
    }
   ],
   "source": [
    "print(name_entry.full_name())\n",
    "print(name_entry.surname_forename())\n",
    "print(name_entry.surname_forename('    /    '))"
   ]
  },
  {
   "cell_type": "markdown",
   "metadata": {},
   "source": [
    "Dissecting the class, is it declared by\n",
    "```python\n",
    "class PersonName:\n",
    "```\n",
    "We then have what is known as the *intialiser*:\n",
    "```python\n",
    "    def __init__(self, surname, forename):\n",
    "        self.surname = surname\n",
    "        self.forename = forename\n",
    "```\n",
    "This is the 'function' that is called when we create an object, i.e. when we use `name_entry = PersonName(\"Bloggs\", \"Joanna\")`. The keyword '`self`' refers to the object itself - it can take time to \n",
    "develop an understanding of `self`. The initialiser in this case is stores the surname and forename of the person (attributes). You can test when the initialiser is called by inserting a print statement.\n",
    "\n",
    "This class has two methods:\n",
    "```python\n",
    "    def full_name(self):\n",
    "        \"Return full name (forname surname)\"\n",
    "        return self.forename + \" \" + self.surname\n",
    "\n",
    "    def surname_forename(self, sep=\",\"):\n",
    "        \"Return 'surname, forname', with option to specify separator\"\n",
    "        return self.surname + sep + \" \" + self.forename\n",
    "```\n",
    "These methods are functions that do something with the class data. In this case, from the forename and surname\n",
    "they return the full name of the person, formatted in different ways."
   ]
  },
  {
   "cell_type": "markdown",
   "metadata": {},
   "source": [
    "# Operators\n",
    "\n",
    "Operators like `+`, `-`, `*` and `/` are actually functions - in Python they are shorthand for functions with \n",
    "the names `__add__`, `__sub__`, `__mul__` and `__truediv__`, respectively. By\n",
    "adding these methods to a class, we can define what the mathematical operators should do."
   ]
  },
  {
   "cell_type": "markdown",
   "metadata": {},
   "source": [
    "## Mixed-up maths\n",
    "\n",
    "Say we want to create our own numbers with their own operations. As a simple (and very silly) example, \n",
    "we decide we want to change notation such that '`*`' means division and '`/`' means multiplication.\n",
    "\n",
    "To switch '`*`' and '`/`' for our special numbers, we create a class to represent our special numbers, and\n",
    "and provide it with its own `__mul__` and `__truediv__` functions.\n",
    "We will also provide the method `__repr__(self)` - this is called when we use the `print` function. "
   ]
  },
  {
   "cell_type": "code",
   "execution_count": 18,
   "metadata": {
    "collapsed": true
   },
   "outputs": [],
   "source": [
    "class crazynumber:\n",
    "    ''' A crazy number class that switches the mult and div operations '''\n",
    "    \n",
    "    # Initializer\n",
    "    def __init__(self, x):\n",
    "        self.x = x # This is an attribute\n",
    "        \n",
    "    # Define mult (*) (this is a method)\n",
    "    def __mul__(self, y):\n",
    "        return crazynumber(self.x/y.x)\n",
    "    \n",
    "    # Defin div (/) (this is a method)\n",
    "    def __truediv__(self, y):\n",
    "        return crazynumber(self.x*y.x)\n",
    "    \n",
    "    # This is called when we use 'print' (this is a method)\n",
    "    def __repr__(self):\n",
    "        return str(self.x)  # Convert type to a string and return"
   ]
  },
  {
   "cell_type": "markdown",
   "metadata": {},
   "source": [
    "We now create two `crazynumber` objects:"
   ]
  },
  {
   "cell_type": "code",
   "execution_count": 19,
   "metadata": {
    "collapsed": true
   },
   "outputs": [],
   "source": [
    "u = crazynumber(10)\n",
    "v = crazynumber(2)"
   ]
  },
  {
   "cell_type": "markdown",
   "metadata": {},
   "source": [
    "Since we have defined `*` to be division, we expect u\\*v to be equal to 5:"
   ]
  },
  {
   "cell_type": "code",
   "execution_count": 17,
   "metadata": {},
   "outputs": [
    {
     "name": "stdout",
     "output_type": "stream",
     "text": [
      "5.0\n"
     ]
    }
   ],
   "source": [
    "a = u*v  # This will call '__mul__(self, y)'\n",
    "print(a)  # This will call '__repr__(self)'"
   ]
  },
  {
   "cell_type": "markdown",
   "metadata": {},
   "source": [
    "Testing '`/`':"
   ]
  },
  {
   "cell_type": "code",
   "execution_count": 18,
   "metadata": {},
   "outputs": [
    {
     "name": "stdout",
     "output_type": "stream",
     "text": [
      "20\n"
     ]
    }
   ],
   "source": [
    "b = u/v\n",
    "print(b)"
   ]
  },
  {
   "cell_type": "markdown",
   "metadata": {},
   "source": [
    "By providing methods, we have defined how the mathematical operators should be interpreted."
   ]
  },
  {
   "cell_type": "markdown",
   "metadata": {},
   "source": [
    "## Equality testing\n",
    "\n",
    "We have previously used library versions of sorting functions, and seen that they are much faster than our own implementations. What if we have a list of our own objects that we want to sort them? For example,\n",
    "we might have a `StudentEntry` class, and then have a list with a `StudentEntry` object for each student.\n",
    "The built-in sort functions cannot know how we want to sort our list.\n",
    "\n",
    "Another case is if we have a list of numbers, and we we want to sort according to a custom rule?\n",
    "\n",
    "The built-in sort functions do not care about the details of our data. All they rely on\n",
    "are *comparisons*, e.g. the `<`, `>`, and `==` operators. If we equip our class with comparison operators\n",
    "we can use built-in sorting functions."
   ]
  },
  {
   "cell_type": "markdown",
   "metadata": {},
   "source": [
    "### Custom sorting\n",
    "\n",
    "Say we want to sort a list of numbers such that all even numbers appear before odd numbers, but otherwise the usual ordering rule applies. We do not want to write our own sorting function. We can do this custom sorting by creating our own class for holding a number and equipping it with `<`, `>`, and `==` operators.\n",
    "The functions corresponding to the operators are:\n",
    "\n",
    "- `__lt__(self, other)` (less than `other`, `<`)\n",
    "- `__gt__(self, other)` (greater than `other`, `>`)\n",
    "- `__eq__(self, other)` (equal to `other`, `==`)\n",
    "\n",
    "The functions return `True` or `False`."
   ]
  },
  {
   "cell_type": "markdown",
   "metadata": {},
   "source": [
    "Below is class for storing a number which obeys our custom ordering rules:"
   ]
  },
  {
   "cell_type": "code",
   "execution_count": 21,
   "metadata": {
    "collapsed": true
   },
   "outputs": [],
   "source": [
    "class MyNumber:\n",
    "\n",
    "    def __init__(self, x):\n",
    "        self.x = x  # Store value (attribute)\n",
    "        \n",
    "    # Custom '<' operator (method)\n",
    "    def __lt__(self, other):\n",
    "        if self.x % 2 == 0 and other.x % 2 != 0:  # I am even, other is odd, so I am less than                   \n",
    "            return True\n",
    "        elif self.x % 2 != 0 and other.x % 2 == 0:  # I am odd, other is even, so I am not less than \n",
    "            return False\n",
    "        else:\n",
    "            return self.x < other.x  # Use usual ordering of numbers\n",
    "\n",
    "    # Custom '==' operator (method)\n",
    "    def __eq__(self, other):\n",
    "        return self.x == other.x\n",
    "\n",
    "    # Custom '>' operator (method)\n",
    "    def __gt__(self, other):\n",
    "        if self.x % 2 == 0 and other.x % 2 != 0:  # I am even, other is odd, so I am not greater                    \n",
    "            return False\n",
    "        elif self.x % 2 != 0 and other.x % 2 == 0:  # I am odd, other is even, so I am greater                    \n",
    "            return True\n",
    "        else:\n",
    "            return self.x > other.x  # Use usual ordering of numbers\n",
    "\n",
    "    # This function is called by Python when we try to print something   \n",
    "    def __repr__(self):\n",
    "        return str(self.x)"
   ]
  },
  {
   "cell_type": "markdown",
   "metadata": {},
   "source": [
    "We can perform some simple tests on the operators (insert print statements into the methods if you want\n",
    "to verify which function is called)"
   ]
  },
  {
   "cell_type": "code",
   "execution_count": 22,
   "metadata": {},
   "outputs": [
    {
     "name": "stdout",
     "output_type": "stream",
     "text": [
      "True\n",
      "False\n"
     ]
    }
   ],
   "source": [
    "x = MyNumber(4)\n",
    "y = MyNumber(3)\n",
    "print(x < y)  # Expect True (since x is even and y is odd)\n",
    "print(y < x)  # Expect False"
   ]
  },
  {
   "cell_type": "markdown",
   "metadata": {},
   "source": [
    "We now try applying a the built-in list sort function to check that the sorted list obeys our \n",
    "custom sorting rule:"
   ]
  },
  {
   "cell_type": "code",
   "execution_count": 23,
   "metadata": {},
   "outputs": [
    {
     "name": "stdout",
     "output_type": "stream",
     "text": [
      "[16, 50, 72, 76, 120, 194, 41, 43, 115, 131]\n"
     ]
    }
   ],
   "source": [
    "# Create am array of random integers\n",
    "x = np.random.randint(0, 200, 10)\n",
    "\n",
    "# Create a list of 'MyNumber' from x (using list comprehension)\n",
    "y = [MyNumber(v) for v in x]\n",
    "\n",
    "# Use the built-in list sort method to sort the list of 'MyNumber' objects\n",
    "y.sort()\n",
    "print(y)"
   ]
  },
  {
   "cell_type": "markdown",
   "metadata": {},
   "source": [
    "Without modifying the sort algorithm, we have applied our own ordering. Approaches like this are a feature of \n",
    "object-oriented computing. The sort algorithms sort *objects*, and the objects simply need\n",
    "the comparison operators. The sort algorithms do not need to know the details of the objects."
   ]
  },
  {
   "cell_type": "markdown",
   "metadata": {},
   "source": [
    "# Exercises"
   ]
  },
  {
   "cell_type": "markdown",
   "metadata": {},
   "source": [
    "## Exercise 12.1\n",
    "\n",
    "Create a class to represent vectors of arbitrary length and which is initialised with a list of values, e.g.:\n",
    "```python\n",
    "x = MyVector([0, 2, 4])\n",
    "```\n",
    "\n",
    "Equip the class with methods that:\n",
    "\n",
    "1. Return the length of the vector\n",
    "2. Compute the norm of the vector $\\sqrt{x \\cdot x}$\n",
    "3. Compute the dot product of the vector with another vector\n",
    "\n",
    "Test your implementation using two vectors of length 3. To help you get started, a skeleton of the class is provided below. Don't forget to use `self` where necessary."
   ]
  },
  {
   "cell_type": "code",
   "execution_count": 44,
   "metadata": {
    "collapsed": true
   },
   "outputs": [],
   "source": [
    "class MyVector:\n",
    "    def __init__(self,x):\n",
    "        self.x = x\n",
    "        \n",
    "    # Methods\n",
    "    def size(self):\n",
    "        ''' Return the length of the vector '''\n",
    "        return len(self.x)\n",
    "    \n",
    "    def __getitem__(self, index):\n",
    "        ''' This allows access by index, ex y[2] '''\n",
    "        return self.x[index]\n",
    "    \n",
    "    def norm(self):\n",
    "        ''' Return the norm of the vector '''\n",
    "        sqr_sum = 0\n",
    "        \n",
    "        for xi in self.x:\n",
    "            sqr_sum += xi**2\n",
    "            \n",
    "        return np.sqrt(sqr_sum)\n",
    "    \n",
    "    def dot(self, other):\n",
    "        ''' Return the dot product of vector and another vector '''\n",
    "        prod = 0.0\n",
    "        \n",
    "        for i in range(self.size()):\n",
    "            prod += self.x[i] * other[i]\n",
    "            \n",
    "        return prod"
   ]
  },
  {
   "cell_type": "code",
   "execution_count": 43,
   "metadata": {},
   "outputs": [],
   "source": [
    "v1 = MyVector((3.0,4.0))\n",
    "v2 = MyVector((1.0,2.0,3.0))\n",
    "v3 = MyVector((1.0,5.0))\n",
    "v4 = MyVector((2.0,3.0,2.0))\n",
    "\n",
    "# Test cases\n",
    "assert v1.size() == 2\n",
    "assert v2.size() == 3\n",
    "assert v1.norm() == 5.0\n",
    "assert v1.dot(v3) == 23.0\n",
    "assert v2.dot(v4) == 14.0\n"
   ]
  },
  {
   "cell_type": "markdown",
   "metadata": {},
   "source": [
    "## Exercise 12.2\n",
    "\n",
    "1. Create a class for holding a student record entry. It should have the following attributes:\n",
    "   - Surname\n",
    "   - Forename\n",
    "   - Birth year\n",
    "   - Tripos year\n",
    "   - College\n",
    "   - CRSid (optional field)\n",
    "1. Equip your class with the method '`age`' that returns the age of the student\n",
    "1. Equip your class with the method '`__repr__`' such using `print` on a student record displays with the format\n",
    "\n",
    "       Surname: Bloggs, Forename: Andrea, College: Churchill\n",
    "\n",
    "1. Equip your class with the method `__lt__(self, other)` so that a list of record entries can be sorted by \n",
    "   (surname, forename). Create a list of entries and test the sorting. Make sure you have two entries with the same\n",
    "   surname.\n",
    "\n",
    "*Hint:* To get the current year:"
   ]
  },
  {
   "cell_type": "code",
   "execution_count": 45,
   "metadata": {},
   "outputs": [
    {
     "name": "stdout",
     "output_type": "stream",
     "text": [
      "2018\n"
     ]
    }
   ],
   "source": [
    "import datetime\n",
    "year = datetime.date.today().year\n",
    "print(year)"
   ]
  },
  {
   "cell_type": "code",
   "execution_count": 54,
   "metadata": {
    "collapsed": true
   },
   "outputs": [],
   "source": [
    "class Student:\n",
    "    def __init__(self, sur, fore, bir_yr, tri_yr, col, crs_id=None):\n",
    "        self.surname = sur\n",
    "        self.forename = fore\n",
    "        self.birth_year = bir_yr\n",
    "        self.tripos_year = tri_yr\n",
    "        self.college = col\n",
    "        self.crs_id = crs_id\n",
    "        \n",
    "    # Methods\n",
    "    def age(self):\n",
    "        ''' Returns the age of the student '''\n",
    "        curr_year = datetime.date.today().year\n",
    "        return curr_year - self.birth_year\n",
    "    \n",
    "    def __repr__(self):\n",
    "        ''' Uses print function to print to screen with specific format '''\n",
    "        return \"Surname: {}, Forename: {}, College: {}\".format(self.surname, self.forename, self.college)\n",
    "    \n",
    "    def __lt__(self, other):\n",
    "        ''' Custom sorting by (surname, forename) '''\n",
    "        \n",
    "        if self.surname < other.surname:\n",
    "            return True\n",
    "        elif self.surname > other.surname:\n",
    "            return False\n",
    "        else:\n",
    "            if self.forename < other.forename:\n",
    "                return True\n",
    "            else:\n",
    "                return False\n",
    "        "
   ]
  },
  {
   "cell_type": "code",
   "execution_count": 56,
   "metadata": {},
   "outputs": [],
   "source": [
    "s1 = Student('Smith', 'John', 1983, 1, 'UofI')\n",
    "s2 = Student('Smith', 'Sarah', 1999, 5, 'UofM')\n",
    "s3 = Student('Iverson', 'Allen', 1976, 0, 'Georgetown')\n",
    "s4 = Student('Woodson', 'Charles', 1977, 4, 'UofM')"
   ]
  },
  {
   "cell_type": "code",
   "execution_count": 58,
   "metadata": {},
   "outputs": [
    {
     "name": "stdout",
     "output_type": "stream",
     "text": [
      "Surname: Smith, Forename: John, College: UofI\n",
      "Surname: Smith, Forename: Sarah, College: UofM\n",
      "Surname: Iverson, Forename: Allen, College: Georgetown\n",
      "Surname: Woodson, Forename: Charles, College: UofM\n"
     ]
    }
   ],
   "source": [
    "print(s1)\n",
    "print(s2)\n",
    "print(s3)\n",
    "print(s4)"
   ]
  },
  {
   "cell_type": "code",
   "execution_count": 59,
   "metadata": {
    "collapsed": true
   },
   "outputs": [],
   "source": [
    "assert s1.age() == 35\n",
    "assert s3.age() == 42"
   ]
  },
  {
   "cell_type": "code",
   "execution_count": 61,
   "metadata": {},
   "outputs": [
    {
     "data": {
      "text/plain": [
       "True"
      ]
     },
     "execution_count": 61,
     "metadata": {},
     "output_type": "execute_result"
    }
   ],
   "source": [
    "s1 < s2"
   ]
  },
  {
   "cell_type": "code",
   "execution_count": null,
   "metadata": {
    "collapsed": true
   },
   "outputs": [],
   "source": []
  }
 ],
 "metadata": {
  "anaconda-cloud": {},
  "kernelspec": {
   "display_name": "Python 3",
   "language": "python",
   "name": "python3"
  },
  "language_info": {
   "codemirror_mode": {
    "name": "ipython",
    "version": 3
   },
   "file_extension": ".py",
   "mimetype": "text/x-python",
   "name": "python",
   "nbconvert_exporter": "python",
   "pygments_lexer": "ipython3",
   "version": "3.6.3"
  }
 },
 "nbformat": 4,
 "nbformat_minor": 1
}
