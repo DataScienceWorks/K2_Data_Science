{
 "cells": [
  {
   "cell_type": "markdown",
   "metadata": {},
   "source": [
    "#### This is a testing notebook to run some cleaning of the current database"
   ]
  },
  {
   "cell_type": "code",
   "execution_count": 2,
   "metadata": {
    "collapsed": true
   },
   "outputs": [],
   "source": [
    "import requests\n",
    "import pandas as pd\n",
    "import numpy as np\n",
    "import json\n",
    "import datetime\n",
    "import quandl"
   ]
  },
  {
   "cell_type": "code",
   "execution_count": 31,
   "metadata": {
    "collapsed": true
   },
   "outputs": [],
   "source": [
    "import matplotlib.pyplot as plt"
   ]
  },
  {
   "cell_type": "code",
   "execution_count": 33,
   "metadata": {
    "collapsed": true
   },
   "outputs": [],
   "source": [
    "% matplotlib inline"
   ]
  },
  {
   "cell_type": "code",
   "execution_count": 42,
   "metadata": {
    "collapsed": true
   },
   "outputs": [],
   "source": [
    "import sqlite3"
   ]
  },
  {
   "cell_type": "code",
   "execution_count": 45,
   "metadata": {
    "collapsed": true
   },
   "outputs": [],
   "source": [
    "sqlite_file = 'securities_master_db.sqlite'"
   ]
  },
  {
   "cell_type": "code",
   "execution_count": 3,
   "metadata": {
    "collapsed": true
   },
   "outputs": [],
   "source": [
    "# Copied in the relevant functions from database creation\n",
    "\n",
    "def create_df_crypto(symbol, curr='USD', limit=2500):\n",
    "    ''' This function takes in a symbol of a cryptocurrency to be\n",
    "        used with the Cryptocompare API, and returns a formatted dataframe\n",
    "        for later processing.\n",
    "\n",
    "        Args: symbol - cryptocurrency symbol\n",
    "              curr - currency to report in (default USD)\n",
    "              limit - max number of data points (default 2500)\n",
    "\n",
    "        Return: df - dataframe of daily price info for symbol\n",
    "    '''\n",
    "    # Set url and params for the call to Cryptocompare API\n",
    "    url = 'https://min-api.cryptocompare.com/data/histoday'\n",
    "    params = {'fsym': symbol, 'tsym': curr, 'limit': limit}\n",
    "\n",
    "    # Call API for symbol and put data into pandas dataframe\n",
    "    response = requests.get(url, params=params)\n",
    "    data = response.json()['Data']\n",
    "    df = pd.DataFrame(data)\n",
    "\n",
    "    # Add date column and set to index\n",
    "    df['Date'] =[datetime.date.fromtimestamp(d) for d in df.time]\n",
    "    df = df[['open', 'high', 'low', 'close', 'volumeto', 'Date']]\n",
    "    df.set_index('Date', inplace=True)\n",
    "\n",
    "    # Rename volumeto column\n",
    "    df.rename(columns={'volumeto': 'volume'}, inplace=True)\n",
    "\n",
    "    return df\n",
    "\n",
    "def create_df_quandl(symbol, api_key):\n",
    "    ''' This function takes in a symbol of a futures contract to be used\n",
    "        with the Quandl API as well as the API key, and returns a formatted\n",
    "        dataframe for processing.\n",
    "\n",
    "        Args: symbol - a symbol for a continuous futures contract\n",
    "              api_key - Quandl API key\n",
    "\n",
    "        Return: df - dataframe for daily price info for symbol\n",
    "    '''\n",
    "    # Quandl API call which puts price data into dataframe\n",
    "    df = quandl.get('SCF/CME_{s}1_FW'.format(s=symbol), authtoken=api_key)\n",
    "\n",
    "    # Drop open interest column and rename Settle column\n",
    "    df.drop(['Prev. Day Open Interest'], axis=1, inplace=True)\n",
    "    df.rename(columns={'Open': 'open',\n",
    "                      'High': 'high',\n",
    "                      'Low': 'low',\n",
    "                      'Settle': 'close',\n",
    "                      'Volume': 'volume'}, inplace=True)\n",
    "    return df\n",
    "\n",
    "def generate_df_dict(product_dict, api_key=None):\n",
    "    ''' This function takes in a dict of product symbols mapped to\n",
    "        information about the product  and a Quandl API key and returns\n",
    "        a dict object with the symbols as keys and a dataframe of price\n",
    "        info as values.\n",
    "\n",
    "        Args: product_dict - a dict of symbols for products with maps to\n",
    "                             a list of info\n",
    "              api_key - Quandl API key\n",
    "\n",
    "        Return: df_dict - a dictionary of symbols mapped to dataframes\n",
    "                          of price info\n",
    "    '''\n",
    "    df_dict = {}\n",
    "\n",
    "    # Iterate through list\n",
    "    for product, info in product_dict.items():\n",
    "        # Determine what dataframe creator to use\n",
    "        if info[0] == 1:\n",
    "            df = create_df_crypto(product)\n",
    "        if info[0] == 2:\n",
    "            df = create_df_quandl(product, api_key)\n",
    "\n",
    "        df_dict[product] = df\n",
    "\n",
    "    return df_dict"
   ]
  },
  {
   "cell_type": "code",
   "execution_count": 6,
   "metadata": {
    "collapsed": true
   },
   "outputs": [],
   "source": [
    "# Setting up the products, database and api key\n",
    "# Sqlite3 db info and Quandl key\n",
    "sqlite_file = 'securities_master_db.sqlite'\n",
    "api_key = 'Hv95pPh1xQWzt5DFhxS7'\n",
    "\n",
    "# Dict of all products with maps to data_id, name, sector, and exchange\n",
    "products = {'CL': [2, 'Crude', 'Energy', 'CME'],\n",
    "                'HO': [2, 'HeatOil', 'Energy', 'CME'],\n",
    "                'NG': [2, 'NatGas', 'Energy', 'CME'],\n",
    "                'GC': [2, 'Gold', 'Metals', 'CME'],\n",
    "                'SI': [2, 'Silver', 'Metals', 'CME'],\n",
    "                'AD': [2, 'Aussie', 'Forex', 'CME'],\n",
    "                'CD': [2, 'Canadien', 'Forex', 'CME'],\n",
    "                'EC': [2, 'Euro', 'Forex', 'CME'],\n",
    "                'BP': [2, 'Pound', 'Forex', 'CME'],\n",
    "                'JY': [2, 'Yen', 'Forex', 'CME'],\n",
    "                'US': [2, '30-yr', 'Treasuries', 'CME'],\n",
    "                'C': [2, 'Corn', 'Grains', 'CME'],\n",
    "                'W': [2, 'Wheat', 'Grains', 'CME'],\n",
    "                'S': [2, 'Soybeans', 'Grains', 'CME'],\n",
    "                'ES': [2, 'E-mini', 'Indexes', 'CME'],\n",
    "                'BTC': [1, 'Bitcoin', 'Cryptocurrency', 'CCAgg'],\n",
    "                'ETH': [1, 'Ethereum', 'Cryptocurrency', 'CCAgg'],\n",
    "                'XRP': [1, 'Ripple', 'Cryptocurrency', 'CCAgg'],\n",
    "                'BCH': [1, 'BitcoinCash', 'Cryptocurrency', 'CCAgg'],\n",
    "                'LTC': [1, 'Litecoin', 'Cryptocurrency', 'CCAgg'],\n",
    "                'ADA': [1, 'Cardano', 'Cryptocurrency', 'CCAgg'],\n",
    "                'NEO': [1, 'Neo', 'Cryptocurrency', 'CCAgg'],\n",
    "                'XLM': [1, 'Stellar', 'Cryptocurrency', 'CCAgg'],\n",
    "                'EOS': [1, 'EOS', 'Cryptocurrency', 'CCAgg'],\n",
    "                'XMR': [1, 'Monero', 'Cryptocurrency', 'CCAgg'],}"
   ]
  },
  {
   "cell_type": "code",
   "execution_count": 8,
   "metadata": {},
   "outputs": [],
   "source": [
    "# Create a dict for cryptocurrencies only as these will need to have 0 data deleted\n",
    "crypto_dict = {prod: info for prod, info in products.items() if info[0] == 1}"
   ]
  },
  {
   "cell_type": "code",
   "execution_count": 10,
   "metadata": {},
   "outputs": [],
   "source": [
    "df_dict_crypto = generate_df_dict(crypto_dict)"
   ]
  },
  {
   "cell_type": "code",
   "execution_count": 11,
   "metadata": {},
   "outputs": [
    {
     "data": {
      "text/html": [
       "<div>\n",
       "<table border=\"1\" class=\"dataframe\">\n",
       "  <thead>\n",
       "    <tr style=\"text-align: right;\">\n",
       "      <th></th>\n",
       "      <th>open</th>\n",
       "      <th>high</th>\n",
       "      <th>low</th>\n",
       "      <th>close</th>\n",
       "      <th>volume</th>\n",
       "    </tr>\n",
       "    <tr>\n",
       "      <th>Date</th>\n",
       "      <th></th>\n",
       "      <th></th>\n",
       "      <th></th>\n",
       "      <th></th>\n",
       "      <th></th>\n",
       "    </tr>\n",
       "  </thead>\n",
       "  <tbody>\n",
       "    <tr>\n",
       "      <th>2012-09-28</th>\n",
       "      <td>0.0</td>\n",
       "      <td>0.0</td>\n",
       "      <td>0.0</td>\n",
       "      <td>0.0</td>\n",
       "      <td>0.0</td>\n",
       "    </tr>\n",
       "    <tr>\n",
       "      <th>2012-09-29</th>\n",
       "      <td>0.0</td>\n",
       "      <td>0.0</td>\n",
       "      <td>0.0</td>\n",
       "      <td>0.0</td>\n",
       "      <td>0.0</td>\n",
       "    </tr>\n",
       "    <tr>\n",
       "      <th>2012-09-30</th>\n",
       "      <td>0.0</td>\n",
       "      <td>0.0</td>\n",
       "      <td>0.0</td>\n",
       "      <td>0.0</td>\n",
       "      <td>0.0</td>\n",
       "    </tr>\n",
       "    <tr>\n",
       "      <th>2012-10-01</th>\n",
       "      <td>0.0</td>\n",
       "      <td>0.0</td>\n",
       "      <td>0.0</td>\n",
       "      <td>0.0</td>\n",
       "      <td>0.0</td>\n",
       "    </tr>\n",
       "    <tr>\n",
       "      <th>2012-10-02</th>\n",
       "      <td>0.0</td>\n",
       "      <td>0.0</td>\n",
       "      <td>0.0</td>\n",
       "      <td>0.0</td>\n",
       "      <td>0.0</td>\n",
       "    </tr>\n",
       "  </tbody>\n",
       "</table>\n",
       "</div>"
      ],
      "text/plain": [
       "            open  high  low  close  volume\n",
       "Date                                      \n",
       "2012-09-28   0.0   0.0  0.0    0.0     0.0\n",
       "2012-09-29   0.0   0.0  0.0    0.0     0.0\n",
       "2012-09-30   0.0   0.0  0.0    0.0     0.0\n",
       "2012-10-01   0.0   0.0  0.0    0.0     0.0\n",
       "2012-10-02   0.0   0.0  0.0    0.0     0.0"
      ]
     },
     "execution_count": 11,
     "metadata": {},
     "output_type": "execute_result"
    }
   ],
   "source": [
    "eth = df_dict_crypto['ETH']\n",
    "eth.head()"
   ]
  },
  {
   "cell_type": "code",
   "execution_count": 27,
   "metadata": {},
   "outputs": [
    {
     "data": {
      "text/plain": [
       "datetime.date(2016, 3, 4)"
      ]
     },
     "execution_count": 27,
     "metadata": {},
     "output_type": "execute_result"
    }
   ],
   "source": [
    "eth_vol = eth[eth.volume > 1000000.0]\n",
    "start_date = eth.index[eth.volume > 1000000.0].tolist()[0]\n",
    "start_date"
   ]
  },
  {
   "cell_type": "code",
   "execution_count": 25,
   "metadata": {},
   "outputs": [
    {
     "data": {
      "text/html": [
       "<div>\n",
       "<table border=\"1\" class=\"dataframe\">\n",
       "  <thead>\n",
       "    <tr style=\"text-align: right;\">\n",
       "      <th></th>\n",
       "      <th>open</th>\n",
       "      <th>high</th>\n",
       "      <th>low</th>\n",
       "      <th>close</th>\n",
       "      <th>volume</th>\n",
       "    </tr>\n",
       "    <tr>\n",
       "      <th>Date</th>\n",
       "      <th></th>\n",
       "      <th></th>\n",
       "      <th></th>\n",
       "      <th></th>\n",
       "      <th></th>\n",
       "    </tr>\n",
       "  </thead>\n",
       "  <tbody>\n",
       "    <tr>\n",
       "      <th>2016-03-04</th>\n",
       "      <td>9.96</td>\n",
       "      <td>12.00</td>\n",
       "      <td>9.75</td>\n",
       "      <td>11.00</td>\n",
       "      <td>1726260.37</td>\n",
       "    </tr>\n",
       "    <tr>\n",
       "      <th>2016-03-11</th>\n",
       "      <td>11.25</td>\n",
       "      <td>13.48</td>\n",
       "      <td>11.03</td>\n",
       "      <td>13.25</td>\n",
       "      <td>1669862.35</td>\n",
       "    </tr>\n",
       "    <tr>\n",
       "      <th>2016-03-12</th>\n",
       "      <td>13.25</td>\n",
       "      <td>15.18</td>\n",
       "      <td>12.00</td>\n",
       "      <td>15.00</td>\n",
       "      <td>1539173.65</td>\n",
       "    </tr>\n",
       "    <tr>\n",
       "      <th>2016-03-13</th>\n",
       "      <td>15.00</td>\n",
       "      <td>15.00</td>\n",
       "      <td>10.50</td>\n",
       "      <td>12.50</td>\n",
       "      <td>1909296.28</td>\n",
       "    </tr>\n",
       "    <tr>\n",
       "      <th>2016-03-16</th>\n",
       "      <td>12.92</td>\n",
       "      <td>13.00</td>\n",
       "      <td>10.20</td>\n",
       "      <td>11.14</td>\n",
       "      <td>1442272.97</td>\n",
       "    </tr>\n",
       "  </tbody>\n",
       "</table>\n",
       "</div>"
      ],
      "text/plain": [
       "             open   high    low  close      volume\n",
       "Date                                              \n",
       "2016-03-04   9.96  12.00   9.75  11.00  1726260.37\n",
       "2016-03-11  11.25  13.48  11.03  13.25  1669862.35\n",
       "2016-03-12  13.25  15.18  12.00  15.00  1539173.65\n",
       "2016-03-13  15.00  15.00  10.50  12.50  1909296.28\n",
       "2016-03-16  12.92  13.00  10.20  11.14  1442272.97"
      ]
     },
     "execution_count": 25,
     "metadata": {},
     "output_type": "execute_result"
    }
   ],
   "source": [
    "eth_vol.head()"
   ]
  },
  {
   "cell_type": "code",
   "execution_count": 28,
   "metadata": {},
   "outputs": [
    {
     "data": {
      "text/html": [
       "<div>\n",
       "<table border=\"1\" class=\"dataframe\">\n",
       "  <thead>\n",
       "    <tr style=\"text-align: right;\">\n",
       "      <th></th>\n",
       "      <th>open</th>\n",
       "      <th>high</th>\n",
       "      <th>low</th>\n",
       "      <th>close</th>\n",
       "      <th>volume</th>\n",
       "    </tr>\n",
       "    <tr>\n",
       "      <th>Date</th>\n",
       "      <th></th>\n",
       "      <th></th>\n",
       "      <th></th>\n",
       "      <th></th>\n",
       "      <th></th>\n",
       "    </tr>\n",
       "  </thead>\n",
       "  <tbody>\n",
       "    <tr>\n",
       "      <th>2016-03-04</th>\n",
       "      <td>9.96</td>\n",
       "      <td>12.00</td>\n",
       "      <td>9.75</td>\n",
       "      <td>11.00</td>\n",
       "      <td>1726260.37</td>\n",
       "    </tr>\n",
       "    <tr>\n",
       "      <th>2016-03-05</th>\n",
       "      <td>11.00</td>\n",
       "      <td>11.90</td>\n",
       "      <td>9.75</td>\n",
       "      <td>10.98</td>\n",
       "      <td>845841.96</td>\n",
       "    </tr>\n",
       "    <tr>\n",
       "      <th>2016-03-06</th>\n",
       "      <td>10.98</td>\n",
       "      <td>11.47</td>\n",
       "      <td>9.06</td>\n",
       "      <td>9.50</td>\n",
       "      <td>732233.35</td>\n",
       "    </tr>\n",
       "    <tr>\n",
       "      <th>2016-03-07</th>\n",
       "      <td>9.50</td>\n",
       "      <td>10.89</td>\n",
       "      <td>8.49</td>\n",
       "      <td>9.88</td>\n",
       "      <td>592001.58</td>\n",
       "    </tr>\n",
       "    <tr>\n",
       "      <th>2016-03-08</th>\n",
       "      <td>9.88</td>\n",
       "      <td>12.00</td>\n",
       "      <td>9.60</td>\n",
       "      <td>11.55</td>\n",
       "      <td>568223.02</td>\n",
       "    </tr>\n",
       "  </tbody>\n",
       "</table>\n",
       "</div>"
      ],
      "text/plain": [
       "             open   high   low  close      volume\n",
       "Date                                             \n",
       "2016-03-04   9.96  12.00  9.75  11.00  1726260.37\n",
       "2016-03-05  11.00  11.90  9.75  10.98   845841.96\n",
       "2016-03-06  10.98  11.47  9.06   9.50   732233.35\n",
       "2016-03-07   9.50  10.89  8.49   9.88   592001.58\n",
       "2016-03-08   9.88  12.00  9.60  11.55   568223.02"
      ]
     },
     "execution_count": 28,
     "metadata": {},
     "output_type": "execute_result"
    }
   ],
   "source": [
    "eth_mil_vol = eth[start_date:]\n",
    "eth_mil_vol.head()"
   ]
  },
  {
   "cell_type": "code",
   "execution_count": 29,
   "metadata": {},
   "outputs": [
    {
     "data": {
      "text/html": [
       "<div>\n",
       "<table border=\"1\" class=\"dataframe\">\n",
       "  <thead>\n",
       "    <tr style=\"text-align: right;\">\n",
       "      <th></th>\n",
       "      <th>open</th>\n",
       "      <th>high</th>\n",
       "      <th>low</th>\n",
       "      <th>close</th>\n",
       "      <th>volume</th>\n",
       "    </tr>\n",
       "  </thead>\n",
       "  <tbody>\n",
       "    <tr>\n",
       "      <th>count</th>\n",
       "      <td>748.000000</td>\n",
       "      <td>748.000000</td>\n",
       "      <td>748.000000</td>\n",
       "      <td>748.000000</td>\n",
       "      <td>7.480000e+02</td>\n",
       "    </tr>\n",
       "    <tr>\n",
       "      <th>mean</th>\n",
       "      <td>210.007045</td>\n",
       "      <td>220.404813</td>\n",
       "      <td>197.495668</td>\n",
       "      <td>210.707968</td>\n",
       "      <td>1.378052e+08</td>\n",
       "    </tr>\n",
       "    <tr>\n",
       "      <th>std</th>\n",
       "      <td>298.505673</td>\n",
       "      <td>313.713006</td>\n",
       "      <td>279.228463</td>\n",
       "      <td>298.652208</td>\n",
       "      <td>2.509914e+08</td>\n",
       "    </tr>\n",
       "    <tr>\n",
       "      <th>min</th>\n",
       "      <td>6.690000</td>\n",
       "      <td>7.300000</td>\n",
       "      <td>5.970000</td>\n",
       "      <td>6.690000</td>\n",
       "      <td>1.095651e+05</td>\n",
       "    </tr>\n",
       "    <tr>\n",
       "      <th>25%</th>\n",
       "      <td>11.210000</td>\n",
       "      <td>11.592500</td>\n",
       "      <td>10.857500</td>\n",
       "      <td>11.210000</td>\n",
       "      <td>1.290058e+06</td>\n",
       "    </tr>\n",
       "    <tr>\n",
       "      <th>50%</th>\n",
       "      <td>25.880000</td>\n",
       "      <td>30.460000</td>\n",
       "      <td>25.105000</td>\n",
       "      <td>28.515000</td>\n",
       "      <td>1.357504e+07</td>\n",
       "    </tr>\n",
       "    <tr>\n",
       "      <th>75%</th>\n",
       "      <td>303.217500</td>\n",
       "      <td>311.247500</td>\n",
       "      <td>292.415000</td>\n",
       "      <td>303.655000</td>\n",
       "      <td>1.805907e+08</td>\n",
       "    </tr>\n",
       "    <tr>\n",
       "      <th>max</th>\n",
       "      <td>1385.020000</td>\n",
       "      <td>1422.860000</td>\n",
       "      <td>1271.070000</td>\n",
       "      <td>1385.020000</td>\n",
       "      <td>2.034011e+09</td>\n",
       "    </tr>\n",
       "  </tbody>\n",
       "</table>\n",
       "</div>"
      ],
      "text/plain": [
       "              open         high          low        close        volume\n",
       "count   748.000000   748.000000   748.000000   748.000000  7.480000e+02\n",
       "mean    210.007045   220.404813   197.495668   210.707968  1.378052e+08\n",
       "std     298.505673   313.713006   279.228463   298.652208  2.509914e+08\n",
       "min       6.690000     7.300000     5.970000     6.690000  1.095651e+05\n",
       "25%      11.210000    11.592500    10.857500    11.210000  1.290058e+06\n",
       "50%      25.880000    30.460000    25.105000    28.515000  1.357504e+07\n",
       "75%     303.217500   311.247500   292.415000   303.655000  1.805907e+08\n",
       "max    1385.020000  1422.860000  1271.070000  1385.020000  2.034011e+09"
      ]
     },
     "execution_count": 29,
     "metadata": {},
     "output_type": "execute_result"
    }
   ],
   "source": [
    "eth_mil_vol.describe()"
   ]
  },
  {
   "cell_type": "code",
   "execution_count": 36,
   "metadata": {},
   "outputs": [
    {
     "data": {
      "image/png": "[encoded data removed]",
      "text/plain": [
       "<matplotlib.figure.Figure at 0x1109dea90>"
      ]
     },
     "metadata": {},
     "output_type": "display_data"
    }
   ],
   "source": [
    "plt.hist(eth_mil_vol.close)\n",
    "plt.show()"
   ]
  },
  {
   "cell_type": "code",
   "execution_count": 37,
   "metadata": {},
   "outputs": [
    {
     "data": {
      "image/png": "[encoded data removed]",
      "text/plain": [
       "<matplotlib.figure.Figure at 0x1110ef1d0>"
      ]
     },
     "metadata": {},
     "output_type": "display_data"
    }
   ],
   "source": [
    "plt.plot(eth_mil_vol.index, eth_mil_vol.close)\n",
    "plt.show()"
   ]
  },
  {
   "cell_type": "code",
   "execution_count": 41,
   "metadata": {},
   "outputs": [
    {
     "name": "stderr",
     "output_type": "stream",
     "text": [
      "/Users/Frank/anaconda3/lib/python3.6/site-packages/ipykernel_launcher.py:1: FutureWarning: \n",
      "The default value for 'return_type' will change to 'axes' in a future release.\n",
      " To use the future behavior now, set return_type='axes'.\n",
      " To keep the previous behavior and silence this warning, set return_type='dict'.\n",
      "  \"\"\"Entry point for launching an IPython kernel.\n"
     ]
    },
    {
     "data": {
      "text/plain": [
       "{'boxes': [<matplotlib.lines.Line2D at 0x110970fd0>],\n",
       " 'caps': [<matplotlib.lines.Line2D at 0x11097a3c8>,\n",
       "  <matplotlib.lines.Line2D at 0x11097afd0>],\n",
       " 'fliers': [<matplotlib.lines.Line2D at 0x1109856a0>],\n",
       " 'means': [],\n",
       " 'medians': [<matplotlib.lines.Line2D at 0x1109852b0>],\n",
       " 'whiskers': [<matplotlib.lines.Line2D at 0x11097a048>,\n",
       "  <matplotlib.lines.Line2D at 0x11097a588>]}"
      ]
     },
     "execution_count": 41,
     "metadata": {},
     "output_type": "execute_result"
    },
    {
     "data": {
      "image/png": "[encoded data removed]",
      "text/plain": [
       "<matplotlib.figure.Figure at 0x1108bcb38>"
      ]
     },
     "metadata": {},
     "output_type": "display_data"
    }
   ],
   "source": [
    "eth_mil_vol.boxplot(column='close', whis='range')"
   ]
  },
  {
   "cell_type": "code",
   "execution_count": 47,
   "metadata": {},
   "outputs": [
    {
     "ename": "OperationalError",
     "evalue": "no such table: Symbols",
     "output_type": "error",
     "traceback": [
      "\u001b[0;31m---------------------------------------------------------------------------\u001b[0m",
      "\u001b[0;31mOperationalError\u001b[0m                          Traceback (most recent call last)",
      "\u001b[0;32m<ipython-input-47-1ca98ea5a687>\u001b[0m in \u001b[0;36m<module>\u001b[0;34m()\u001b[0m\n\u001b[1;32m      2\u001b[0m \u001b[0mc\u001b[0m \u001b[0;34m=\u001b[0m \u001b[0mconn\u001b[0m\u001b[0;34m.\u001b[0m\u001b[0mcursor\u001b[0m\u001b[0;34m(\u001b[0m\u001b[0;34m)\u001b[0m\u001b[0;34m\u001b[0m\u001b[0m\n\u001b[1;32m      3\u001b[0m \u001b[0;34m\u001b[0m\u001b[0m\n\u001b[0;32m----> 4\u001b[0;31m \u001b[0mc\u001b[0m\u001b[0;34m.\u001b[0m\u001b[0mexecute\u001b[0m\u001b[0;34m(\u001b[0m\u001b[0;34m\"SELECT * FROM Symbols LIMIT 5\"\u001b[0m\u001b[0;34m)\u001b[0m\u001b[0;34m\u001b[0m\u001b[0m\n\u001b[0m\u001b[1;32m      5\u001b[0m \u001b[0mc\u001b[0m\u001b[0;34m.\u001b[0m\u001b[0mfetchall\u001b[0m\u001b[0;34m(\u001b[0m\u001b[0;34m)\u001b[0m\u001b[0;34m\u001b[0m\u001b[0m\n",
      "\u001b[0;31mOperationalError\u001b[0m: no such table: Symbols"
     ]
    }
   ],
   "source": [
    "conn = sqlite3.connect(sqlite_file)\n",
    "c = conn.cursor()\n",
    "\n",
    "c.execute(\"SELECT * FROM Symbols LIMIT 5\")\n",
    "c.fetchall()"
   ]
  },
  {
   "cell_type": "code",
   "execution_count": 48,
   "metadata": {
    "collapsed": true
   },
   "outputs": [],
   "source": [
    "conn.close()"
   ]
  },
  {
   "cell_type": "code",
   "execution_count": null,
   "metadata": {
    "collapsed": true
   },
   "outputs": [],
   "source": []
  }
 ],
 "metadata": {
  "kernelspec": {
   "display_name": "Python 3",
   "language": "python",
   "name": "python3"
  },
  "language_info": {
   "codemirror_mode": {
    "name": "ipython",
    "version": 3
   },
   "file_extension": ".py",
   "mimetype": "text/x-python",
   "name": "python",
   "nbconvert_exporter": "python",
   "pygments_lexer": "ipython3",
   "version": "3.6.3"
  }
 },
 "nbformat": 4,
 "nbformat_minor": 2
}
