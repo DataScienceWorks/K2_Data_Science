{
 "cells": [
  {
   "cell_type": "markdown",
   "metadata": {},
   "source": [
    "# Cryptocompare API Exercise"
   ]
  },
  {
   "cell_type": "markdown",
   "metadata": {},
   "source": [
    "Going through the API notebook using the [Cryptocompare.com](https://www.cryptocompare.com/) API as it is relevant to the question I want to answer in my EDA project."
   ]
  },
  {
   "cell_type": "code",
   "execution_count": 1,
   "metadata": {
    "collapsed": true
   },
   "outputs": [],
   "source": [
    "import requests"
   ]
  },
  {
   "cell_type": "code",
   "execution_count": 6,
   "metadata": {},
   "outputs": [
    {
     "name": "stdout",
     "output_type": "stream",
     "text": [
      "200\n"
     ]
    }
   ],
   "source": [
    "# Make a request to get historical Bitcoin data\n",
    "response = requests.get('https://min-api.cryptocompare.com/data/histoday')\n",
    "\n",
    "print(response.status_code)"
   ]
  },
  {
   "cell_type": "code",
   "execution_count": 26,
   "metadata": {},
   "outputs": [
    {
     "name": "stdout",
     "output_type": "stream",
     "text": [
      "b'{\"Response\":\"Success\",\"Type\":100,\"Aggregated\":false,\"Data\":[{\"time\":1512432000,\"close\":11667.13,\"high\":11901.87,\"low\":11486.13,\"open\":11624.37,\"volumefrom\":89687.21,\"volumeto\":1048839303.8},{\"time\":1512518400,\"close\":13749.57,\"high\":13843.2,\"low\":11661.76,\"open\":11667.13,\"volumefrom\":191576.66,\"volumeto\":2437037791.81},{\"time\":1512604800,\"close\":16850.31,\"high\":16879.26,\"low\":13401.61,\"open\":13750.09,\"volumefrom\":297108.66,\"volumeto\":4510225316.19},{\"time\":1512691200,\"close\":16047.61,\"high\":17294.85,\"low\":13906.1,\"open\":16867.98,\"volumefrom\":286762.02,\"volumeto\":4546014731.58},{\"time\":1512777600,\"close\":14843.42,\"high\":16313.18,\"low\":13151.47,\"open\":16048.18,\"volumefrom\":181979.81,\"volumeto\":2699876215.33},{\"time\":1512864000,\"close\":15059.6,\"high\":15783.2,\"low\":13031,\"open\":14839.98,\"volumefrom\":201620.09,\"volumeto\":2904037859.64},{\"time\":1512950400,\"close\":16732.47,\"high\":17399.18,\"low\":15024.56,\"open\":15060.45,\"volumefrom\":159724.56,\"volumeto\":2634267594.52},{\"time\":1513036800,\"close\":17083.9,\"high\":17560.65,\"low\":16254.53,\"open\":16733.29,\"volumefrom\":132846.57,\"volumeto\":2246138895.89},{\"time\":1513123200,\"close\":16286.82,\"high\":17267.96,\"low\":15669.86,\"open\":17083.9,\"volumefrom\":155407.35,\"volumeto\":2576055941.69},{\"time\":1513209600,\"close\":16467.91,\"high\":16941.08,\"low\":16023.64,\"open\":16286.82,\"volumefrom\":107918.03,\"volumeto\":1773813863.46},{\"time\":1513296000,\"close\":17604.85,\"high\":17987.03,\"low\":16442.2,\"open\":16467.91,\"volumefrom\":153651.15,\"volumeto\":2682351213.91},{\"time\":1513382400,\"close\":19345.49,\"high\":19587.7,\"low\":17318.54,\"open\":17594.08,\"volumefrom\":112173.97,\"volumeto\":2078806368.79},{\"time\":1513468800,\"close\":19065.71,\"high\":19870.62,\"low\":18750.91,\"open\":19346.6,\"volumefrom\":117408.38,\"volumeto\":2264650369.71},{\"time\":1513555200,\"close\":18972.32,\"high\":19221.1,\"low\":18114.42,\"open\":19065.71,\"volumefrom\":139251.39,\"volumeto\":2597510049.89},{\"time\":1513641600,\"close\":17523.7,\"high\":19021.97,\"low\":16812.8,\"open\":18971.19,\"volumefrom\":174543.37,\"volumeto\":3136709262.09},{\"time\":1513728000,\"close\":16461.97,\"high\":17813.6,\"low\":15642.69,\"open\":17521.73,\"volumefrom\":227676.13,\"volumeto\":3791752510.78},{\"time\":1513814400,\"close\":15632.12,\"high\":17301.83,\"low\":14952.98,\"open\":16461.09,\"volumefrom\":163735.02,\"volumeto\":2619295475.76},{\"time\":1513900800,\"close\":13664.97,\"high\":15823.72,\"low\":10875.71,\"open\":15632.12,\"volumefrom\":466980.6,\"volumeto\":6245731508.4},{\"time\":1513987200,\"close\":14396.46,\"high\":15493.23,\"low\":13356.07,\"open\":13664.97,\"volumefrom\":170169.39,\"volumeto\":2491903154.48},{\"time\":1514073600,\"close\":13789.95,\"high\":14413.72,\"low\":12166.45,\"open\":14396.63,\"volumefrom\":182417.29,\"volumeto\":2428437693.16},{\"time\":1514160000,\"close\":13833.49,\"high\":14467.43,\"low\":13010.71,\"open\":13789.95,\"volumefrom\":107475.98,\"volumeto\":1487888106.52},{\"time\":1514246400,\"close\":15756.56,\"high\":16094.67,\"low\":13748.49,\"open\":13830.19,\"volumefrom\":143135.26,\"volumeto\":2198577125.17},{\"time\":1514332800,\"close\":15416.64,\"high\":16514.59,\"low\":14534.66,\"open\":15757.02,\"volumefrom\":138705.28,\"volumeto\":2162831128.76},{\"time\":1514419200,\"close\":14398.7,\"high\":15505.51,\"low\":13466.07,\"open\":15416.34,\"volumefrom\":170366.63,\"volumeto\":2425912717.56},{\"time\":1514505600,\"close\":14392.57,\"high\":15109.81,\"low\":13951.08,\"open\":14398.45,\"volumefrom\":118874.63,\"volumeto\":1733583750.2},{\"time\":1514592000,\"close\":12531.52,\"high\":14461.46,\"low\":11962.09,\"open\":14392.14,\"volumefrom\":182065.44,\"volumeto\":2387311023.42},{\"time\":1514678400,\"close\":13850.4,\"high\":14241.82,\"low\":12359.43,\"open\":12532.38,\"volumefrom\":111270.55,\"volumeto\":1492142483.58},{\"time\":1514764800,\"close\":13444.88,\"high\":13921.53,\"low\":12877.67,\"open\":13850.49,\"volumefrom\":78425.21,\"volumeto\":1057521524.42},{\"time\":1514851200,\"close\":14754.13,\"high\":15306.13,\"low\":12934.16,\"open\":13444.88,\"volumefrom\":137732.17,\"volumeto\":1956783037.35},{\"time\":1514937600,\"close\":15156.62,\"high\":15435.01,\"low\":14579.71,\"open\":14754.09,\"volumefrom\":106543.39,\"volumeto\":1604206990.04},{\"time\":1515024000,\"close\":15180.08,\"high\":15408.66,\"low\":14244.67,\"open\":15156.49,\"volumefrom\":110968.82,\"volumeto\":1656714736.62},{\"time\":1515110400,\"close\":16954.78,\"high\":17126.95,\"low\":14832.36,\"open\":15180.08,\"volumefrom\":141960.42,\"volumeto\":2283988962.92},{\"time\":1515196800,\"close\":17172.3,\"high\":17252.85,\"low\":16286.57,\"open\":16954.76,\"volumefrom\":83927.99,\"volumeto\":1412703790.73},{\"time\":1515283200,\"close\":16228.16,\"high\":17184.81,\"low\":15791.13,\"open\":17174.5,\"volumefrom\":79006.37,\"volumeto\":1309532650.11},{\"time\":1515369600,\"close\":14976.17,\"high\":16302.92,\"low\":13902.31,\"open\":16228.26,\"volumefrom\":142453.96,\"volumeto\":2166366561.33},{\"time\":1515456000,\"close\":14468.5,\"high\":15390.28,\"low\":14221.55,\"open\":14976.17,\"volumefrom\":99730.65,\"volumeto\":1486802326.34},{\"time\":1515542400,\"close\":14919.49,\"high\":14919.49,\"low\":13450.54,\"open\":14468.09,\"volumefrom\":142303.9,\"volumeto\":2025083791.13},{\"time\":1515628800,\"close\":13308.06,\"high\":14979.96,\"low\":12825.95,\"open\":14920.36,\"volumefrom\":173452.27,\"volumeto\":2373494121.74},{\"time\":1515715200,\"close\":13841.19,\"high\":14129.08,\"low\":12851.91,\"open\":13308.06,\"volumefrom\":102068.02,\"volumeto\":1402292716.89},{\"time\":1515801600,\"close\":14243.12,\"high\":14595.04,\"low\":13830.28,\"open\":13841.19,\"volumefrom\":71300.93,\"volumeto\":1021352776.21},{\"time\":1515888000,\"close\":13638.63,\"high\":14415.67,\"low\":13031.91,\"open\":14244.12,\"volumefrom\":81536,\"volumeto\":1112590573.36},{\"time\":1515974400,\"close\":13631.98,\"high\":14355.82,\"low\":13416.71,\"open\":13638.63,\"volumefrom\":84089.84,\"volumeto\":1170462750.59},{\"time\":1516060800,\"close\":11282.49,\"high\":13648.84,\"low\":10032.69,\"open\":13634.6,\"volumefrom\":325702.79,\"volumeto\":3842651741.45},{\"time\":1516147200,\"close\":11162.7,\"high\":11736.3,\"low\":9205.38,\"open\":11282.49,\"volumefrom\":348631.94,\"volumeto\":3666978316.26},{\"time\":1516233600,\"close\":11175.52,\"high\":12018.43,\"low\":10642.33,\"open\":11162.7,\"volumefrom\":204918.02,\"volumeto\":2357251805.09},{\"time\":1516320000,\"close\":11521.76,\"high\":11780.49,\"low\":10867.18,\"open\":11175.52,\"volumefrom\":110885.87,\"volumeto\":1264875700.45},{\"time\":1516406400,\"close\":12783.94,\"high\":13031.04,\"low\":11502.11,\"open\":11521.82,\"volumefrom\":119084.84,\"volumeto\":1492721765.44},{\"time\":1516492800,\"close\":11549.93,\"high\":12787.35,\"low\":11101.73,\"open\":12783.54,\"volumefrom\":130427.64,\"volumeto\":1552755289.93},{\"time\":1516579200,\"close\":10814.52,\"high\":11913.74,\"low\":10067.76,\"open\":11549.98,\"volumefrom\":165723.08,\"volumeto\":1811992345.95},{\"time\":1516665600,\"close\":10858.23,\"high\":11388.52,\"low\":9980.5,\"open\":10814.52,\"volumefrom\":158868.59,\"volumeto\":1710180828.64},{\"time\":1516752000,\"close\":11429.02,\"high\":11531.6,\"low\":10506.55,\"open\":10853.78,\"volumefrom\":115804.82,\"volumeto\":1286435482.05},{\"time\":1516838400,\"close\":11175.87,\"high\":11741.92,\"low\":10930.34,\"open\":11428.11,\"volumefrom\":93317.76,\"volumeto\":1061064251.44},{\"time\":1516924800,\"close\":11104.2,\"high\":11656.54,\"low\":10346.86,\"open\":11175.87,\"volumefrom\":142350.84,\"volumeto\":1560135332.27},{\"time\":1517011200,\"close\":11459.71,\"high\":11638.69,\"low\":10879.2,\"open\":11104.34,\"volumefrom\":90873.81,\"volumeto\":1031091633.68},{\"time\":1517097600,\"close\":11767.74,\"high\":12064.19,\"low\":11407.94,\"open\":11460.39,\"volumefrom\":87917.22,\"volumeto\":1038153169.8},{\"time\":1517184000,\"close\":11233.95,\"high\":11860.29,\"low\":11089.52,\"open\":11767.74,\"volumefrom\":80713.7,\"volumeto\":920836244.04},{\"time\":1517270400,\"close\":10107.26,\"high\":11263.7,\"low\":9871.21,\"open\":11234.32,\"volumefrom\":164072.93,\"volumeto\":1720894077.2},{\"time\":1517356800,\"close\":10226.86,\"high\":10377.96,\"low\":9698.13,\"open\":10107.4,\"volumefrom\":122260.49,\"volumeto\":1230902973.11},{\"time\":1517443200,\"close\":9114.72,\"high\":10280.84,\"low\":8726.95,\"open\":10226.86,\"volumefrom\":208918.8,\"volumeto\":1964308989.29},{\"time\":1517529600,\"close\":8870.82,\"high\":9147.93,\"low\":7786.2,\"open\":9114.73,\"volumefrom\":322596.22,\"volumeto\":2768759876.15},{\"time\":1517616000,\"close\":9251.27,\"high\":9504.37,\"low\":8194.68,\"open\":8872.87,\"volumefrom\":139226.07,\"volumeto\":1253484523.4},{\"time\":1517702400,\"close\":8218.05,\"high\":9400.99,\"low\":7889.83,\"open\":9251.27,\"volumefrom\":164609.06,\"volumeto\":1413207410.82},{\"time\":1517788800,\"close\":6937.08,\"high\":8391.29,\"low\":6627.31,\"open\":8218.05,\"volumefrom\":341828.54,\"volumeto\":2534149181.03},{\"time\":1517875200,\"close\":7701.25,\"high\":7932.38,\"low\":5968.36,\"open\":6936.43,\"volumefrom\":495883.24,\"volumeto\":3397596513.74},{\"time\":1517961600,\"close\":7592.72,\"high\":8572.68,\"low\":7208.86,\"open\":7701.25,\"volumefrom\":271450.37,\"volumeto\":2159765331.36},{\"time\":1518048000,\"close\":8260.69,\"high\":8643.94,\"low\":7590.48,\"open\":7593.78,\"volumefrom\":193040.33,\"volumeto\":1594673973.51},{\"time\":1518134400,\"close\":8696.83,\"high\":8743.2,\"low\":7775.36,\"open\":8259.26,\"volumefrom\":162279.68,\"volumeto\":1348072086.15},{\"time\":1518220800,\"close\":8569.29,\"high\":9081.49,\"low\":8176.25,\"open\":8696.83,\"volumefrom\":155616.78,\"volumeto\":1348923336.33},{\"time\":1518307200,\"close\":8084.61,\"high\":8573.35,\"low\":7862.31,\"open\":8569.32,\"volumefrom\":123293.84,\"volumeto\":1013771945.88},{\"time\":1518393600,\"close\":8911.27,\"high\":8997.34,\"low\":8084.41,\"open\":8084.61,\"volumefrom\":124923.98,\"volumeto\":1085921871.17},{\"time\":1518480000,\"close\":8544.69,\"high\":8955.15,\"low\":8379.35,\"open\":8911.17,\"volumefrom\":98632.88,\"volumeto\":853320352.71},{\"time\":1518566400,\"close\":9485.64,\"high\":9508.22,\"low\":8542.98,\"open\":8544.69,\"volumefrom\":133702.54,\"volumeto\":1220863360.18},{\"time\":1518652800,\"close\":10033.75,\"high\":10223.58,\"low\":9363.38,\"open\":9485.64,\"volumefrom\":168776.78,\"volumeto\":1666668487.88},{\"time\":1518739200,\"close\":10188.73,\"high\":10303.14,\"low\":9720.38,\"open\":10033.75,\"volumefrom\":105556.67,\"volumeto\":1061827697.26},{\"time\":1518825600,\"close\":11097.21,\"high\":11119.45,\"low\":10074.07,\"open\":10188.73,\"volumefrom\":123660.48,\"volumeto\":1327921168.02},{\"time\":1518912000,\"close\":10417.23,\"high\":11288.34,\"low\":10161.01,\"open\":11097.21,\"volumefrom\":154431.22,\"volumeto\":1659704217.34},{\"time\":1518998400,\"close\":11182.28,\"high\":11265.96,\"low\":10336.32,\"open\":10418.12,\"volumefrom\":108244.29,\"volumeto\":1186535653.61},{\"time\":1519084800,\"close\":11256.43,\"high\":11802.23,\"low\":11130.95,\"open\":11182.28,\"volumefrom\":142449.23,\"volumeto\":1640343867.77},{\"time\":1519171200,\"close\":10481.66,\"high\":11295.58,\"low\":10256.21,\"open\":11256.78,\"volumefrom\":183274.25,\"volumeto\":1982721124.63},{\"time\":1519257600,\"close\":9847.96,\"high\":10941.57,\"low\":9757.19,\"open\":10481.66,\"volumefrom\":175506.26,\"volumeto\":1795951829.82},{\"time\":1519344000,\"close\":10175.51,\"high\":10420.67,\"low\":9604,\"open\":9847.96,\"volumefrom\":139373.76,\"volumeto\":1399448203.16},{\"time\":1519430400,\"close\":9705.73,\"high\":10528,\"low\":9396.54,\"open\":10175.51,\"volumefrom\":125269.68,\"volumeto\":1244484468.57},{\"time\":1519516800,\"close\":9610.11,\"high\":9873.79,\"low\":9329.44,\"open\":9705.73,\"volumefrom\":82430.45,\"volumeto\":793093192.66},{\"time\":1519603200,\"close\":10326.5,\"high\":10457.51,\"low\":9411.82,\"open\":9610.11,\"volumefrom\":117416.47,\"volumeto\":1181729273.47},{\"time\":1519689600,\"close\":10594.76,\"high\":10879.38,\"low\":10154.24,\"open\":10326.5,\"volumefrom\":99772.39,\"volumeto\":1060840699.02},{\"time\":1519776000,\"close\":10334.44,\"high\":11067.76,\"low\":10303.14,\"open\":10594.76,\"volumefrom\":105434.79,\"volumeto\":1126074675.67},{\"time\":1519862400,\"close\":10929.37,\"high\":11090.3,\"low\":10247.56,\"open\":10334.44,\"volumefrom\":88432.44,\"volumeto\":952472120.03},{\"time\":1519948800,\"close\":11043.12,\"high\":11191.94,\"low\":10801.45,\"open\":10929.37,\"volumefrom\":77195.49,\"volumeto\":852908489.64},{\"time\":1520035200,\"close\":11465.36,\"high\":11530.66,\"low\":11043.12,\"open\":11043.12,\"volumefrom\":71279.36,\"volumeto\":812200126.22},{\"time\":1520121600,\"close\":11504.42,\"high\":11539.79,\"low\":11084.01,\"open\":11465.36,\"volumefrom\":61016.39,\"volumeto\":690727335.55},{\"time\":1520208000,\"close\":11440.73,\"high\":11694.15,\"low\":11431.55,\"open\":11503.94,\"volumefrom\":68323.51,\"volumeto\":791471905.1},{\"time\":1520294400,\"close\":10735.45,\"high\":11441.65,\"low\":10589.28,\"open\":11440.33,\"volumefrom\":109876.55,\"volumeto\":1210081181.36},{\"time\":1520380800,\"close\":9928.56,\"high\":10913.7,\"low\":9470.73,\"open\":10735.45,\"volumefrom\":183060.08,\"volumeto\":1858869115},{\"time\":1520467200,\"close\":9316.72,\"high\":10119.21,\"low\":9086.85,\"open\":9928.56,\"volumefrom\":154879.22,\"volumeto\":1492236089.97},{\"time\":1520553600,\"close\":9252.76,\"high\":9433.38,\"low\":8393.45,\"open\":9316.77,\"volumefrom\":233598.15,\"volumeto\":2081621422.7},{\"time\":1520640000,\"close\":8797.27,\"high\":9518.62,\"low\":8727.43,\"open\":9252.76,\"volumefrom\":117409.38,\"volumeto\":1084925795.69},{\"time\":1520726400,\"close\":9544.84,\"high\":9735.64,\"low\":8484.32,\"open\":8797.27,\"volumefrom\":149877.66,\"volumeto\":1374814644.2},{\"time\":1520812800,\"close\":9142.15,\"high\":9907.41,\"low\":8796.52,\"open\":9543.98,\"volumefrom\":152959.8,\"volumeto\":1435404200.39},{\"time\":1520899200,\"close\":9160.12,\"high\":9486.12,\"low\":8856.65,\"open\":9142.27,\"volumefrom\":133768.47,\"volumeto\":1228556284.3},{\"time\":1520985600,\"close\":8217.7,\"high\":9360.66,\"low\":7966.94,\"open\":9160.12,\"volumefrom\":161775.05,\"volumeto\":1385572511.72},{\"time\":1521072000,\"close\":8188.97,\"high\":8280.23,\"low\":8072.63,\"open\":8216.22,\"volumefrom\":5938.52,\"volumeto\":48676261.47}],\"TimeTo\":1521072000,\"TimeFrom\":1512432000,\"FirstValueInArray\":true,\"ConversionType\":{\"type\":\"direct\",\"conversionSymbol\":\"\"}}'\n"
     ]
    }
   ],
   "source": [
    "params = {'fsym': 'BTC', 'tsym': 'USD', 'limit': 100}\n",
    "\n",
    "response = requests.get('https://min-api.cryptocompare.com/data/histoday', params=params)\n",
    "\n",
    "print(response.content)"
   ]
  },
  {
   "cell_type": "code",
   "execution_count": 11,
   "metadata": {
    "collapsed": true
   },
   "outputs": [],
   "source": [
    "import json"
   ]
  },
  {
   "cell_type": "code",
   "execution_count": 15,
   "metadata": {},
   "outputs": [
    {
     "name": "stdout",
     "output_type": "stream",
     "text": [
      "{'time': 1519344000, 'close': 10175.51, 'high': 10420.67, 'low': 9604, 'open': 9847.96, 'volumefrom': 139373.76, 'volumeto': 1399448203.16}\n"
     ]
    }
   ],
   "source": [
    "data = response.json()['Data']\n",
    "print(data[0])"
   ]
  },
  {
   "cell_type": "code",
   "execution_count": 16,
   "metadata": {
    "collapsed": true
   },
   "outputs": [],
   "source": [
    "import pandas as pd\n",
    "import datetime"
   ]
  },
  {
   "cell_type": "code",
   "execution_count": 17,
   "metadata": {
    "collapsed": true
   },
   "outputs": [],
   "source": [
    "df = pd.DataFrame(data)\n",
    "df['timestamp'] = [datetime.datetime.fromtimestamp(d) for d in df.time]"
   ]
  },
  {
   "cell_type": "code",
   "execution_count": 18,
   "metadata": {},
   "outputs": [
    {
     "data": {
      "text/html": [
       "<div>\n",
       "<style>\n",
       "    .dataframe thead tr:only-child th {\n",
       "        text-align: right;\n",
       "    }\n",
       "\n",
       "    .dataframe thead th {\n",
       "        text-align: left;\n",
       "    }\n",
       "\n",
       "    .dataframe tbody tr th {\n",
       "        vertical-align: top;\n",
       "    }\n",
       "</style>\n",
       "<table border=\"1\" class=\"dataframe\">\n",
       "  <thead>\n",
       "    <tr style=\"text-align: right;\">\n",
       "      <th></th>\n",
       "      <th>close</th>\n",
       "      <th>high</th>\n",
       "      <th>low</th>\n",
       "      <th>open</th>\n",
       "      <th>time</th>\n",
       "      <th>volumefrom</th>\n",
       "      <th>volumeto</th>\n",
       "      <th>timestamp</th>\n",
       "    </tr>\n",
       "  </thead>\n",
       "  <tbody>\n",
       "    <tr>\n",
       "      <th>0</th>\n",
       "      <td>10175.51</td>\n",
       "      <td>10420.67</td>\n",
       "      <td>9604.00</td>\n",
       "      <td>9847.96</td>\n",
       "      <td>1519344000</td>\n",
       "      <td>139373.76</td>\n",
       "      <td>1.399448e+09</td>\n",
       "      <td>2018-02-22 18:00:00</td>\n",
       "    </tr>\n",
       "    <tr>\n",
       "      <th>1</th>\n",
       "      <td>9705.73</td>\n",
       "      <td>10528.00</td>\n",
       "      <td>9396.54</td>\n",
       "      <td>10175.51</td>\n",
       "      <td>1519430400</td>\n",
       "      <td>125269.68</td>\n",
       "      <td>1.244484e+09</td>\n",
       "      <td>2018-02-23 18:00:00</td>\n",
       "    </tr>\n",
       "    <tr>\n",
       "      <th>2</th>\n",
       "      <td>9610.11</td>\n",
       "      <td>9873.79</td>\n",
       "      <td>9329.44</td>\n",
       "      <td>9705.73</td>\n",
       "      <td>1519516800</td>\n",
       "      <td>82430.45</td>\n",
       "      <td>7.930932e+08</td>\n",
       "      <td>2018-02-24 18:00:00</td>\n",
       "    </tr>\n",
       "    <tr>\n",
       "      <th>3</th>\n",
       "      <td>10326.50</td>\n",
       "      <td>10457.51</td>\n",
       "      <td>9411.82</td>\n",
       "      <td>9610.11</td>\n",
       "      <td>1519603200</td>\n",
       "      <td>117416.47</td>\n",
       "      <td>1.181729e+09</td>\n",
       "      <td>2018-02-25 18:00:00</td>\n",
       "    </tr>\n",
       "    <tr>\n",
       "      <th>4</th>\n",
       "      <td>10594.76</td>\n",
       "      <td>10879.38</td>\n",
       "      <td>10154.24</td>\n",
       "      <td>10326.50</td>\n",
       "      <td>1519689600</td>\n",
       "      <td>99772.39</td>\n",
       "      <td>1.060841e+09</td>\n",
       "      <td>2018-02-26 18:00:00</td>\n",
       "    </tr>\n",
       "  </tbody>\n",
       "</table>\n",
       "</div>"
      ],
      "text/plain": [
       "      close      high       low      open        time  volumefrom  \\\n",
       "0  10175.51  10420.67   9604.00   9847.96  1519344000   139373.76   \n",
       "1   9705.73  10528.00   9396.54  10175.51  1519430400   125269.68   \n",
       "2   9610.11   9873.79   9329.44   9705.73  1519516800    82430.45   \n",
       "3  10326.50  10457.51   9411.82   9610.11  1519603200   117416.47   \n",
       "4  10594.76  10879.38  10154.24  10326.50  1519689600    99772.39   \n",
       "\n",
       "       volumeto           timestamp  \n",
       "0  1.399448e+09 2018-02-22 18:00:00  \n",
       "1  1.244484e+09 2018-02-23 18:00:00  \n",
       "2  7.930932e+08 2018-02-24 18:00:00  \n",
       "3  1.181729e+09 2018-02-25 18:00:00  \n",
       "4  1.060841e+09 2018-02-26 18:00:00  "
      ]
     },
     "execution_count": 18,
     "metadata": {},
     "output_type": "execute_result"
    }
   ],
   "source": [
    "df.head()"
   ]
  },
  {
   "cell_type": "code",
   "execution_count": 19,
   "metadata": {},
   "outputs": [
    {
     "data": {
      "text/html": [
       "<div>\n",
       "<style>\n",
       "    .dataframe thead tr:only-child th {\n",
       "        text-align: right;\n",
       "    }\n",
       "\n",
       "    .dataframe thead th {\n",
       "        text-align: left;\n",
       "    }\n",
       "\n",
       "    .dataframe tbody tr th {\n",
       "        vertical-align: top;\n",
       "    }\n",
       "</style>\n",
       "<table border=\"1\" class=\"dataframe\">\n",
       "  <thead>\n",
       "    <tr style=\"text-align: right;\">\n",
       "      <th></th>\n",
       "      <th>open</th>\n",
       "      <th>high</th>\n",
       "      <th>low</th>\n",
       "      <th>close</th>\n",
       "      <th>volumeto</th>\n",
       "      <th>timestamp</th>\n",
       "    </tr>\n",
       "  </thead>\n",
       "  <tbody>\n",
       "    <tr>\n",
       "      <th>0</th>\n",
       "      <td>9847.96</td>\n",
       "      <td>10420.67</td>\n",
       "      <td>9604.00</td>\n",
       "      <td>10175.51</td>\n",
       "      <td>1.399448e+09</td>\n",
       "      <td>2018-02-22 18:00:00</td>\n",
       "    </tr>\n",
       "    <tr>\n",
       "      <th>1</th>\n",
       "      <td>10175.51</td>\n",
       "      <td>10528.00</td>\n",
       "      <td>9396.54</td>\n",
       "      <td>9705.73</td>\n",
       "      <td>1.244484e+09</td>\n",
       "      <td>2018-02-23 18:00:00</td>\n",
       "    </tr>\n",
       "    <tr>\n",
       "      <th>2</th>\n",
       "      <td>9705.73</td>\n",
       "      <td>9873.79</td>\n",
       "      <td>9329.44</td>\n",
       "      <td>9610.11</td>\n",
       "      <td>7.930932e+08</td>\n",
       "      <td>2018-02-24 18:00:00</td>\n",
       "    </tr>\n",
       "    <tr>\n",
       "      <th>3</th>\n",
       "      <td>9610.11</td>\n",
       "      <td>10457.51</td>\n",
       "      <td>9411.82</td>\n",
       "      <td>10326.50</td>\n",
       "      <td>1.181729e+09</td>\n",
       "      <td>2018-02-25 18:00:00</td>\n",
       "    </tr>\n",
       "    <tr>\n",
       "      <th>4</th>\n",
       "      <td>10326.50</td>\n",
       "      <td>10879.38</td>\n",
       "      <td>10154.24</td>\n",
       "      <td>10594.76</td>\n",
       "      <td>1.060841e+09</td>\n",
       "      <td>2018-02-26 18:00:00</td>\n",
       "    </tr>\n",
       "  </tbody>\n",
       "</table>\n",
       "</div>"
      ],
      "text/plain": [
       "       open      high       low     close      volumeto           timestamp\n",
       "0   9847.96  10420.67   9604.00  10175.51  1.399448e+09 2018-02-22 18:00:00\n",
       "1  10175.51  10528.00   9396.54   9705.73  1.244484e+09 2018-02-23 18:00:00\n",
       "2   9705.73   9873.79   9329.44   9610.11  7.930932e+08 2018-02-24 18:00:00\n",
       "3   9610.11  10457.51   9411.82  10326.50  1.181729e+09 2018-02-25 18:00:00\n",
       "4  10326.50  10879.38  10154.24  10594.76  1.060841e+09 2018-02-26 18:00:00"
      ]
     },
     "execution_count": 19,
     "metadata": {},
     "output_type": "execute_result"
    }
   ],
   "source": [
    "df = df[['open', 'high', 'low', 'close', 'volumeto', 'timestamp']]\n",
    "df.head()"
   ]
  },
  {
   "cell_type": "code",
   "execution_count": 27,
   "metadata": {
    "collapsed": true
   },
   "outputs": [],
   "source": [
    "# Create list of coins that we want databases for\n",
    "coin_list = ['BTC', 'ETH', 'XRP', 'BCH', 'LTC', 'ADA', 'NEO', 'XLM', 'EOS', 'XMR']\n",
    "\n",
    "# Create a function to generate desired dataframe for given coin name\n",
    "def generate_historical_dataframe(sym, curr='USD', limit=100):\n",
    "    url = 'https://min-api.cryptocompare.com/data/histoday'\n",
    "    params = {'fsym': sym, 'tsym': curr, 'limit': limit}\n",
    "    \n",
    "    response = requests.get(url, params=params)\n",
    "    data = response.json()['Data']\n",
    "    df = pd.DataFrame(data)\n",
    "    df['timestamp'] = [datetime.datetime.fromtimestamp(d) for d in df.time]\n",
    "    df = df[['open', 'high', 'low', 'close', 'volumeto', 'timestamp']]\n",
    "    \n",
    "    return df"
   ]
  },
  {
   "cell_type": "code",
   "execution_count": 28,
   "metadata": {
    "collapsed": true
   },
   "outputs": [],
   "source": [
    "import sqlite3\n",
    "\n",
    "# Write function to create a database for all coins in coinlist\n",
    "def create_database(df, table_name, sqlite_file):\n",
    "    conn = sqlite3.connect(sqlite_file)\n",
    "    c = conn.cursor()\n",
    "\n",
    "    df.to_sql(table_name, conn, if_exists='replace')\n",
    "    \n",
    "    conn.commit()\n",
    "    conn.close()"
   ]
  },
  {
   "cell_type": "code",
   "execution_count": 31,
   "metadata": {
    "collapsed": true
   },
   "outputs": [],
   "source": [
    "create_database(df, \"TEST1\", 'test_db.sqlite')"
   ]
  },
  {
   "cell_type": "code",
   "execution_count": 32,
   "metadata": {},
   "outputs": [],
   "source": [
    "# Name of the database file\n",
    "sqlite_file = 'cryptocompare_db.sqlite'\n",
    "\n",
    "# Loop through coin list, get historical data, create new database\n",
    "for coin in coin_list:\n",
    "    coin_df = generate_historical_dataframe(coin)\n",
    "    create_database(coin_df, coin, sqlite_file)"
   ]
  },
  {
   "cell_type": "code",
   "execution_count": null,
   "metadata": {
    "collapsed": true
   },
   "outputs": [],
   "source": []
  }
 ],
 "metadata": {
  "kernelspec": {
   "display_name": "Python 3",
   "language": "python",
   "name": "python3"
  },
  "language_info": {
   "codemirror_mode": {
    "name": "ipython",
    "version": 3
   },
   "file_extension": ".py",
   "mimetype": "text/x-python",
   "name": "python",
   "nbconvert_exporter": "python",
   "pygments_lexer": "ipython3",
   "version": "3.6.3"
  }
 },
 "nbformat": 4,
 "nbformat_minor": 2
}
