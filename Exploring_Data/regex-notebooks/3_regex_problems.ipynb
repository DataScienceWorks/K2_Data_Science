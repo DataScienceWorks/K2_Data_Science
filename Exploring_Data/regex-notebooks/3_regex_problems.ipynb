{
 "cells": [
  {
   "cell_type": "markdown",
   "metadata": {},
   "source": [
    "# Regex Problems"
   ]
  },
  {
   "cell_type": "markdown",
   "metadata": {},
   "source": [
    "## 1. *Efficiently* Get a list of all complete URLs that use https protocol"
   ]
  },
  {
   "cell_type": "code",
   "execution_count": 1,
   "metadata": {
    "collapsed": true
   },
   "outputs": [],
   "source": [
    "import re"
   ]
  },
  {
   "cell_type": "code",
   "execution_count": 2,
   "metadata": {
    "collapsed": true
   },
   "outputs": [],
   "source": [
    "urls = ['http://www.domain.com',\n",
    "        'https://somedomain.com',\n",
    "        'http://my-domain-123.net',\n",
    "        'https://google.com',\n",
    "        'http://www.foo.com',\n",
    "        'https://bar-baz3.com',\n",
    "        'ftp://domain2.com']"
   ]
  },
  {
   "cell_type": "code",
   "execution_count": 3,
   "metadata": {},
   "outputs": [
    {
     "data": {
      "text/plain": [
       "['https://somedomain.com', 'https://google.com', 'https://bar-baz3.com']"
      ]
     },
     "execution_count": 3,
     "metadata": {},
     "output_type": "execute_result"
    }
   ],
   "source": [
    "https_urls = [url for url in urls if re.search('https', url)]\n",
    "https_urls"
   ]
  },
  {
   "cell_type": "markdown",
   "metadata": {},
   "source": [
    "## 2. Get domains (without protocols) (including extension, e.g. .com) for URLs with both http and https protocols."
   ]
  },
  {
   "cell_type": "code",
   "execution_count": 9,
   "metadata": {},
   "outputs": [
    {
     "data": {
      "text/plain": [
       "['www.domain.com',\n",
       " 'somedomain.com',\n",
       " 'my-domain-123.net',\n",
       " 'google.com',\n",
       " 'www.foo.com',\n",
       " 'bar-baz3.com']"
      ]
     },
     "execution_count": 9,
     "metadata": {},
     "output_type": "execute_result"
    }
   ],
   "source": [
    "domains = [re.search(r\"(?<=//)\\S*\", url).group() for url in urls if re.search('http', url)]\n",
    "domains"
   ]
  },
  {
   "cell_type": "markdown",
   "metadata": {},
   "source": [
    "## 3. Below is a list of language codes. Determine how many are some form of English\n",
    "\n",
    "* English codes will start with En, en, or EN"
   ]
  },
  {
   "cell_type": "code",
   "execution_count": 11,
   "metadata": {
    "collapsed": true
   },
   "outputs": [],
   "source": [
    "languages = ['Ar','It','it','En','En_gb','jp','en_GB','EN_IE','en-NZ','en','es','ES-es']"
   ]
  },
  {
   "cell_type": "code",
   "execution_count": 13,
   "metadata": {},
   "outputs": [
    {
     "data": {
      "text/plain": [
       "6"
      ]
     },
     "execution_count": 13,
     "metadata": {},
     "output_type": "execute_result"
    }
   ],
   "source": [
    "english = [lan for lan in languages if re.search(r\"^(E|e)(N|n)\", lan)]\n",
    "len(english)"
   ]
  },
  {
   "cell_type": "markdown",
   "metadata": {},
   "source": [
    "## 4. Fix all langauge codes so that they are formatted as such:\n",
    "* first two letters are lower case\n",
    "* codes with region endings use hyphen and not underscore\n",
    "* the region endings are upper case"
   ]
  },
  {
   "cell_type": "code",
   "execution_count": 49,
   "metadata": {
    "collapsed": true
   },
   "outputs": [],
   "source": [
    "languages_cleaned = list(map(lambda x: x[:2].lower() + x[2:], languages))\n"
   ]
  },
  {
   "cell_type": "code",
   "execution_count": 50,
   "metadata": {},
   "outputs": [
    {
     "data": {
      "text/plain": [
       "['ar',\n",
       " 'it',\n",
       " 'it',\n",
       " 'en',\n",
       " 'en_gb',\n",
       " 'jp',\n",
       " 'en_GB',\n",
       " 'en_IE',\n",
       " 'en-NZ',\n",
       " 'en',\n",
       " 'es',\n",
       " 'es-es']"
      ]
     },
     "execution_count": 50,
     "metadata": {},
     "output_type": "execute_result"
    }
   ],
   "source": [
    "languages_cleaned"
   ]
  },
  {
   "cell_type": "code",
   "execution_count": 51,
   "metadata": {
    "collapsed": true
   },
   "outputs": [],
   "source": [
    "languages_cleaned = [re.sub('_', '-', lan) for lan in languages_cleaned]"
   ]
  },
  {
   "cell_type": "code",
   "execution_count": 52,
   "metadata": {},
   "outputs": [
    {
     "data": {
      "text/plain": [
       "['ar',\n",
       " 'it',\n",
       " 'it',\n",
       " 'en',\n",
       " 'en-gb',\n",
       " 'jp',\n",
       " 'en-GB',\n",
       " 'en-IE',\n",
       " 'en-NZ',\n",
       " 'en',\n",
       " 'es',\n",
       " 'es-es']"
      ]
     },
     "execution_count": 52,
     "metadata": {},
     "output_type": "execute_result"
    }
   ],
   "source": [
    "languages_cleaned"
   ]
  },
  {
   "cell_type": "code",
   "execution_count": 48,
   "metadata": {},
   "outputs": [
    {
     "ename": "SyntaxError",
     "evalue": "invalid syntax (<ipython-input-48-3d348c7ba6f0>, line 1)",
     "output_type": "error",
     "traceback": [
      "\u001b[0;36m  File \u001b[0;32m\"<ipython-input-48-3d348c7ba6f0>\"\u001b[0;36m, line \u001b[0;32m1\u001b[0m\n\u001b[0;31m    languages_cleaned = [if (len(lan) > 2) lan[:3] + lan[3:].upper() else lan for lan in languages_cleaned]\u001b[0m\n\u001b[0m                          ^\u001b[0m\n\u001b[0;31mSyntaxError\u001b[0m\u001b[0;31m:\u001b[0m invalid syntax\n"
     ]
    }
   ],
   "source": [
    "languages_final = []\n",
    "\n",
    "for lan in languages_cleaned:\n",
    "    if len(lan) > 2:\n",
    "        \n",
    "        languages_cleaned = [if (len(lan) > 2) lan[:3] + lan[3:].upper() else lan for lan in languages_cleaned]"
   ]
  },
  {
   "cell_type": "code",
   "execution_count": 44,
   "metadata": {},
   "outputs": [
    {
     "data": {
      "text/plain": [
       "['en-gb', 'en-gb', 'en-ie', 'en-nz', 'es-es']"
      ]
     },
     "execution_count": 44,
     "metadata": {},
     "output_type": "execute_result"
    }
   ],
   "source": [
    "languages_cleaned"
   ]
  },
  {
   "cell_type": "code",
   "execution_count": null,
   "metadata": {
    "collapsed": true
   },
   "outputs": [],
   "source": []
  }
 ],
 "metadata": {
  "anaconda-cloud": {},
  "kernelspec": {
   "display_name": "Python 3",
   "language": "python",
   "name": "python3"
  },
  "language_info": {
   "codemirror_mode": {
    "name": "ipython",
    "version": 3
   },
   "file_extension": ".py",
   "mimetype": "text/x-python",
   "name": "python",
   "nbconvert_exporter": "python",
   "pygments_lexer": "ipython3",
   "version": "3.6.3"
  }
 },
 "nbformat": 4,
 "nbformat_minor": 2
}
