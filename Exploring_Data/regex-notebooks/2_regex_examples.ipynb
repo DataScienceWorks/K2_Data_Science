{
 "cells": [
  {
   "cell_type": "markdown",
   "metadata": {},
   "source": [
    "# Regular Expressions in Python"
   ]
  },
  {
   "cell_type": "code",
   "execution_count": 1,
   "metadata": {
    "collapsed": true
   },
   "outputs": [],
   "source": [
    "# import the \"re\" library to work with regular expressions\n",
    "import re"
   ]
  },
  {
   "cell_type": "markdown",
   "metadata": {},
   "source": [
    "## Searching strings for particular words using regex\n",
    "* Only gives results for first match\n",
    "* Suitable for checking if strings contain words or patters\n",
    "* Not suitable for extracting data from strings"
   ]
  },
  {
   "cell_type": "code",
   "execution_count": 2,
   "metadata": {},
   "outputs": [
    {
     "name": "stdout",
     "output_type": "stream",
     "text": [
      "is:  <_sre.SRE_Match object; span=(2, 4), match='is'>\n",
      "two:  None\n"
     ]
    }
   ],
   "source": [
    "# we can search a string for a particular substring\n",
    "s = 'This is a sentence.'\n",
    "result = re.search('is', s)\n",
    "# if the substring was found in the string we get a match object\n",
    "print('is: ', result)\n",
    "\n",
    "# else we get 'None'\n",
    "result2 = re.search('two', s)\n",
    "print('two: ', result2)"
   ]
  },
  {
   "cell_type": "code",
   "execution_count": 3,
   "metadata": {},
   "outputs": [
    {
     "name": "stdout",
     "output_type": "stream",
     "text": [
      "<_sre.SRE_Match object; span=(0, 2), match='Is'>\n",
      "<_sre.SRE_Match object; span=(0, 2), match='Is'>\n"
     ]
    }
   ],
   "source": [
    "# ignore case\n",
    "print(re.search('is', 'Is', flags=re.IGNORECASE))\n",
    "# or\n",
    "print(re.search('is', 'Is', flags=re.I))"
   ]
  },
  {
   "cell_type": "markdown",
   "metadata": {},
   "source": [
    "Notice the match object constains the span of indices where the first match is found, and tells us what the match is."
   ]
  },
  {
   "cell_type": "code",
   "execution_count": 4,
   "metadata": {},
   "outputs": [
    {
     "name": "stdout",
     "output_type": "stream",
     "text": [
      "(2, 4)\n",
      "is\n",
      "is\n"
     ]
    }
   ],
   "source": [
    "# we can get the span itself\n",
    "span = result.span()\n",
    "print(span)\n",
    "\n",
    "# and use it to select that substring from the string\n",
    "print(s[span[0] : span[1]])\n",
    "# alternatively\n",
    "print(s[result.start() : result.end()])"
   ]
  },
  {
   "cell_type": "code",
   "execution_count": 5,
   "metadata": {},
   "outputs": [
    {
     "name": "stdout",
     "output_type": "stream",
     "text": [
      "This is a sentence.\n"
     ]
    }
   ],
   "source": [
    "# the match object contains several other attributes and methods\n",
    "# but the only one worth mentioning now is `string`\n",
    "\n",
    "# original string\n",
    "print(result.string)"
   ]
  },
  {
   "cell_type": "markdown",
   "metadata": {},
   "source": [
    "#### Using search results in a function"
   ]
  },
  {
   "cell_type": "code",
   "execution_count": 6,
   "metadata": {
    "collapsed": true
   },
   "outputs": [],
   "source": [
    "s = 'She sells sea shells down by the sea shore'\n",
    "# get a printout telling us if a word is contained\n",
    "def word_check(substring, string):\n",
    "    if re.search(substring, string):\n",
    "        # use double quotes in case of contractions\n",
    "        print(\"{} has been found!\".format(substring))\n",
    "    else:\n",
    "        print(\"Sorry, {} is not in the string.\".format(substring))"
   ]
  },
  {
   "cell_type": "code",
   "execution_count": 7,
   "metadata": {},
   "outputs": [
    {
     "name": "stdout",
     "output_type": "stream",
     "text": [
      "shell has been found!\n"
     ]
    }
   ],
   "source": [
    "word_check('shell', s)"
   ]
  },
  {
   "cell_type": "code",
   "execution_count": 8,
   "metadata": {},
   "outputs": [
    {
     "name": "stdout",
     "output_type": "stream",
     "text": [
      "Sorry, beach is not in the string.\n"
     ]
    }
   ],
   "source": [
    "word_check('beach', s)"
   ]
  },
  {
   "cell_type": "markdown",
   "metadata": {},
   "source": [
    "## Character or sequence matching using character classes\n",
    "\n",
    "Character classes are used to match character types, ranges, and sets of specific values. Square brackets are used to denote a character set or range. For example:\n",
    "\n",
    "* `[xyz]` matches on any of `x`, `y` or `z`\n",
    "* `[^xyz]` negated set matches anything that is not `x`, `y` or `z`\n",
    "* `[a-z]` matches on any lower case letter in the english alphabet\n",
    "* `[0-9]` matches on any integer 0-9\n",
    "* `[a-zA-Z]` matches any lower or upper case letter\n",
    "* `[a-z3-9]` matches a-z and 3-9\n",
    "\n",
    "There are also shorthand character classes\n",
    "\n",
    "* `\\d` for digits\n",
    "* `\\D` not a digit\n",
    "* `\\w` words (alpha-numeric, including underscore)\n",
    "* `\\W` not alpha-numeric\n",
    "* `\\s` whitespace\n",
    "* `\\S` not whitespace\n",
    "* `.` (dot) matches any single character except line breaks"
   ]
  },
  {
   "cell_type": "markdown",
   "metadata": {},
   "source": [
    "### Search for numbers (digits)"
   ]
  },
  {
   "cell_type": "code",
   "execution_count": 9,
   "metadata": {},
   "outputs": [
    {
     "name": "stdout",
     "output_type": "stream",
     "text": [
      "<_sre.SRE_Match object; span=(30, 31), match='1'>\n",
      "<_sre.SRE_Match object; span=(30, 33), match='123'>\n",
      "<_sre.SRE_Match object; span=(34, 37), match='456'>\n",
      "<_sre.SRE_Match object; span=(38, 40), match='77'>\n"
     ]
    }
   ],
   "source": [
    "s = 'This strings contains numbers 123 456 7758'\n",
    "\n",
    "# return the first digit found using the '\\d' token\n",
    "pattern = r\"\\d\"\n",
    "print(re.search(pattern, s))\n",
    "\n",
    "# return first match of one or more consectutive digits\n",
    "pattern = r\"\\d+\"\n",
    "print(re.search(pattern, s))\n",
    "\n",
    "# return first match of one or more digits where digits are in range 4-6\n",
    "pattern = r\"[4-6]+\"\n",
    "print(re.search(pattern, s))\n",
    "\n",
    "# return first match of one or more digits where digits are in range\n",
    "# notice that only 77 is consectutive (5 breaks the pattern)\n",
    "pattern = r\"[7-9]+\"\n",
    "print(re.search(pattern, s))"
   ]
  },
  {
   "cell_type": "markdown",
   "metadata": {},
   "source": [
    "### Character matching"
   ]
  },
  {
   "cell_type": "markdown",
   "metadata": {},
   "source": [
    "#### Search for a range"
   ]
  },
  {
   "cell_type": "code",
   "execution_count": 10,
   "metadata": {},
   "outputs": [
    {
     "name": "stdout",
     "output_type": "stream",
     "text": [
      "<_sre.SRE_Match object; span=(5, 7), match='qu'>\n",
      "<_sre.SRE_Match object; span=(5, 6), match='q'>\n"
     ]
    }
   ],
   "source": [
    "# first group containing letters q, r, s, t, u, or v\n",
    "# the '+' indicates one or more (without would only match first in group)\n",
    "pattern = r\"[q-v]+\"\n",
    "print(re.search(pattern, \"In a queue\"))\n",
    "\n",
    "# without '+'\n",
    "pattern = r\"[q-v]\"\n",
    "print(re.search(pattern, \"In a queue\"))"
   ]
  },
  {
   "cell_type": "markdown",
   "metadata": {},
   "source": [
    "#### Search for letters only (excludes alpha-numeric)"
   ]
  },
  {
   "cell_type": "code",
   "execution_count": 11,
   "metadata": {},
   "outputs": [
    {
     "name": "stdout",
     "output_type": "stream",
     "text": [
      "<_sre.SRE_Match object; span=(0, 8), match='Alphanum'>\n",
      "<_sre.SRE_Match object; span=(0, 8), match='Alphanum'>\n"
     ]
    }
   ],
   "source": [
    "pattern = r\"[a-zA-z]+\"\n",
    "print(re.search(pattern, \"Alphanum3ric\"))\n",
    "\n",
    "# alternatively (search for non-digits)\n",
    "pattern = r\"(\\D+)\"\n",
    "print(re.search(pattern, \"Alphanum3ric\"))"
   ]
  },
  {
   "cell_type": "markdown",
   "metadata": {},
   "source": [
    "#### Search for non-special characters"
   ]
  },
  {
   "cell_type": "code",
   "execution_count": 12,
   "metadata": {},
   "outputs": [
    {
     "name": "stdout",
     "output_type": "stream",
     "text": [
      "<_sre.SRE_Match object; span=(0, 7), match='sp3cial'>\n",
      "<_sre.SRE_Match object; span=(0, 18), match='sp3cial_characters'>\n"
     ]
    }
   ],
   "source": [
    "pattern = r\"\\w+\"  # will include underscore\n",
    "print(re.search(pattern, \"sp3cial-characters\"))\n",
    "print(re.search(pattern, \"sp3cial_characters\"))"
   ]
  },
  {
   "cell_type": "markdown",
   "metadata": {},
   "source": [
    "#### Search for special characters"
   ]
  },
  {
   "cell_type": "code",
   "execution_count": 13,
   "metadata": {},
   "outputs": [
    {
     "name": "stdout",
     "output_type": "stream",
     "text": [
      "<_sre.SRE_Match object; span=(7, 9), match='-%'>\n"
     ]
    }
   ],
   "source": [
    "pattern = r\"\\W+\"\n",
    "print(re.search(pattern, \"sp3cial-%characters\"))"
   ]
  },
  {
   "cell_type": "markdown",
   "metadata": {},
   "source": [
    "#### Search for whitespace"
   ]
  },
  {
   "cell_type": "code",
   "execution_count": 14,
   "metadata": {},
   "outputs": [
    {
     "data": {
      "text/plain": [
       "<_sre.SRE_Match object; span=(4, 7), match='   '>"
      ]
     },
     "execution_count": 14,
     "metadata": {},
     "output_type": "execute_result"
    }
   ],
   "source": [
    "re.search(r\"\\s+\", \"Here   is a string with whitespace\")"
   ]
  },
  {
   "cell_type": "markdown",
   "metadata": {},
   "source": [
    "#### Search for non-whitespace"
   ]
  },
  {
   "cell_type": "code",
   "execution_count": 15,
   "metadata": {},
   "outputs": [
    {
     "data": {
      "text/plain": [
       "<_sre.SRE_Match object; span=(2, 6), match='Here'>"
      ]
     },
     "execution_count": 15,
     "metadata": {},
     "output_type": "execute_result"
    }
   ],
   "source": [
    "# This will find the first word\n",
    "re.search(r\"\\S+\", \"  Here is a string with leading whitespace\")"
   ]
  },
  {
   "cell_type": "markdown",
   "metadata": {},
   "source": [
    "#### Search for negation of set"
   ]
  },
  {
   "cell_type": "code",
   "execution_count": 16,
   "metadata": {},
   "outputs": [
    {
     "data": {
      "text/plain": [
       "<_sre.SRE_Match object; span=(3, 5), match='45'>"
      ]
     },
     "execution_count": 16,
     "metadata": {},
     "output_type": "execute_result"
    }
   ],
   "source": [
    "pattern = r\"[^123]+\"\n",
    "# this will return first group not containing 1, 2 or 3\n",
    "re.search(pattern, \"12345\")"
   ]
  },
  {
   "cell_type": "markdown",
   "metadata": {},
   "source": [
    "#### Use wild card"
   ]
  },
  {
   "cell_type": "code",
   "execution_count": 17,
   "metadata": {},
   "outputs": [
    {
     "data": {
      "text/plain": [
       "<_sre.SRE_Match object; span=(7, 12), match='quick'>"
      ]
     },
     "execution_count": 17,
     "metadata": {},
     "output_type": "execute_result"
    }
   ],
   "source": [
    "s = \"quark, quick\"\n",
    "# match anything with one character between 'qu' and 'ck\n",
    "# quark will not match\n",
    "pattern = r\"qu.ck\"\n",
    "re.search(pattern, s)"
   ]
  },
  {
   "cell_type": "markdown",
   "metadata": {},
   "source": [
    "#### Search for a specific date format"
   ]
  },
  {
   "cell_type": "code",
   "execution_count": 18,
   "metadata": {},
   "outputs": [
    {
     "data": {
      "text/plain": [
       "<_sre.SRE_Match object; span=(12, 21), match='August 27'>"
      ]
     },
     "execution_count": 18,
     "metadata": {},
     "output_type": "execute_result"
    }
   ],
   "source": [
    "# this will return the first instance that matches the pattern of:\n",
    "#  one or more letters followed by a space and then one or more digits\n",
    "pattern = r\"[a-zA-z]+ \\d+\"\n",
    "re.search(pattern, \"The date is August 27\")"
   ]
  },
  {
   "cell_type": "code",
   "execution_count": 19,
   "metadata": {},
   "outputs": [
    {
     "data": {
      "text/plain": [
       "<_sre.SRE_Match object; span=(23, 33), match='08/27/2017'>"
      ]
     },
     "execution_count": 19,
     "metadata": {},
     "output_type": "execute_result"
    }
   ],
   "source": [
    "# this will return the first instance that matches the pattern:\n",
    "#  one or more digits + / + one or more digits + / + one or more digits\n",
    "pattern = r\"\\d+/\\d+/\\d+\"\n",
    "re.search(pattern, \"The date is Aug 27, or 08/27/2017\")"
   ]
  },
  {
   "cell_type": "markdown",
   "metadata": {},
   "source": [
    "## Pattern matching using global searches"
   ]
  },
  {
   "cell_type": "code",
   "execution_count": 20,
   "metadata": {},
   "outputs": [
    {
     "data": {
      "text/plain": [
       "['9/25/2017', '10/21/2017', '12/12/2017']"
      ]
     },
     "execution_count": 20,
     "metadata": {},
     "output_type": "execute_result"
    }
   ],
   "source": [
    "s = \"The dates are 9/25/2017, 10/21/2017, and 12/12/2017\"\n",
    "pattern = r\"\\d+/\\d+/\\d+\"\n",
    "# return list of all dates in string matching the pattern\n",
    "re.findall(pattern, s)"
   ]
  },
  {
   "cell_type": "code",
   "execution_count": 21,
   "metadata": {},
   "outputs": [
    {
     "data": {
      "text/plain": [
       "<callable_iterator at 0x7f042c34ec18>"
      ]
     },
     "execution_count": 21,
     "metadata": {},
     "output_type": "execute_result"
    }
   ],
   "source": [
    "# we can also use finditer to get results as a generator instead of a list\n",
    "# this will give us the details for each match\n",
    "results = re.finditer(pattern, s)\n",
    "results"
   ]
  },
  {
   "cell_type": "code",
   "execution_count": 22,
   "metadata": {},
   "outputs": [
    {
     "name": "stdout",
     "output_type": "stream",
     "text": [
      "(14, 23) 9/25/2017\n",
      "(25, 35) 10/21/2017\n",
      "(41, 51) 12/12/2017\n"
     ]
    }
   ],
   "source": [
    "for d in results:\n",
    "    print(d.span(), d.group())"
   ]
  },
  {
   "cell_type": "code",
   "execution_count": 23,
   "metadata": {},
   "outputs": [
    {
     "data": {
      "text/plain": [
       "[('9', '25', '2017'), ('10', '21', '2017'), ('12', '12', '2017')]"
      ]
     },
     "execution_count": 23,
     "metadata": {},
     "output_type": "execute_result"
    }
   ],
   "source": [
    "# we can get date tuples by using () for groupings around the digit portions\n",
    "# but don't forget the forward slashes\n",
    "pattern = r\"(\\d+)/(\\d+)/(\\d+)\"\n",
    "# returns list of matches within groups\n",
    "re.findall(pattern, s)"
   ]
  },
  {
   "cell_type": "markdown",
   "metadata": {},
   "source": [
    "### Find and replace"
   ]
  },
  {
   "cell_type": "code",
   "execution_count": 24,
   "metadata": {},
   "outputs": [
    {
     "data": {
      "text/plain": [
       "'The dates are 9.25.2017, 10.21.2017, and 12.12.2017'"
      ]
     },
     "execution_count": 24,
     "metadata": {},
     "output_type": "execute_result"
    }
   ],
   "source": [
    "s = \"The dates are 9/25/2017, 10/21/2017, and 12/12/2017\"\n",
    "\n",
    "# replace slashes with points\n",
    "pattern = r\"/\"\n",
    "# the dot won't count as wild card in the replacement string\n",
    "# since it only works that way in the pattern\n",
    "repl = \".\"\n",
    "re.sub(pattern, repl, s)"
   ]
  },
  {
   "cell_type": "markdown",
   "metadata": {},
   "source": [
    "## Anchors\n",
    "\n",
    "Anchors are special characters or tokens used to indicate locations in text to match. You can see each of these anchors in use below."
   ]
  },
  {
   "cell_type": "markdown",
   "metadata": {},
   "source": [
    "#### Beginning\n",
    "Anchor: `^`"
   ]
  },
  {
   "cell_type": "code",
   "execution_count": 25,
   "metadata": {},
   "outputs": [
    {
     "name": "stdout",
     "output_type": "stream",
     "text": [
      "<_sre.SRE_Match object; span=(0, 6), match='number'>\n",
      "None\n"
     ]
    }
   ],
   "source": [
    "s1 = \"number: 1\"\n",
    "s2 = \"this is number 2\"\n",
    "# match on beginning of string\n",
    "pattern = r\"^number\"\n",
    "print(re.search(pattern, s1))  # matches\n",
    "print(re.search(pattern, s2))  # doesn't match"
   ]
  },
  {
   "cell_type": "markdown",
   "metadata": {},
   "source": [
    "#### End\n",
    "Anchor: `$`"
   ]
  },
  {
   "cell_type": "code",
   "execution_count": 26,
   "metadata": {},
   "outputs": [
    {
     "name": "stdout",
     "output_type": "stream",
     "text": [
      "None\n",
      "<_sre.SRE_Match object; span=(7, 8), match='3'>\n"
     ]
    }
   ],
   "source": [
    "s1 = \"count: ten\"\n",
    "s2 = \"count: 3\"\n",
    "# match on end of string\n",
    "pattern = r\"\\d$\"\n",
    "print(re.search(pattern, s1))  # no match\n",
    "print(re.search(pattern, s2))  # match"
   ]
  },
  {
   "cell_type": "markdown",
   "metadata": {},
   "source": [
    "#### Word boundary\n",
    "Anchor: `\\b`"
   ]
  },
  {
   "cell_type": "code",
   "execution_count": 27,
   "metadata": {},
   "outputs": [
    {
     "name": "stdout",
     "output_type": "stream",
     "text": [
      "['d', 'd']\n",
      "['d']\n"
     ]
    }
   ],
   "source": [
    "s = \"The duck called the doctor a quack\"\n",
    "# matches if there is a whitespace (boundary) before the match\n",
    "pattern = r\"\\bd\"\n",
    "print(re.findall(pattern, s))\n",
    "# boundary after match\n",
    "pattern = r\"d\\b\"\n",
    "print(re.findall(pattern, s))"
   ]
  },
  {
   "cell_type": "markdown",
   "metadata": {},
   "source": [
    "#### Not word boundary\n",
    "Anchor: `\\B`"
   ]
  },
  {
   "cell_type": "code",
   "execution_count": 28,
   "metadata": {},
   "outputs": [
    {
     "name": "stdout",
     "output_type": "stream",
     "text": [
      "['3', '5']\n",
      "['3', '1', '5']\n"
     ]
    }
   ],
   "source": [
    "s = \"Numb3r 15a\"\n",
    "# matches if there is not a boundary before match\n",
    "pattern = r\"\\B\\d\"\n",
    "print(re.findall(pattern, s))\n",
    "# if not a boundary after match\n",
    "pattern = r\"\\d\\B\"\n",
    "print(re.findall(pattern, s))"
   ]
  },
  {
   "cell_type": "markdown",
   "metadata": {},
   "source": [
    "## Quantifiers"
   ]
  },
  {
   "cell_type": "markdown",
   "metadata": {},
   "source": [
    "We have already seen the '+' quantifier, but here is a list of quantifiers\n",
    "\n",
    "* plust (`+`)\n",
    "    - used to indicate one or more of previous token\n",
    "* asterisk (`*`)\n",
    "    - used to indicate zero or more\n",
    "* curly braces (`{}`)\n",
    "    - used to specify number or range\n",
    "    - {2} indicates exactly 2\n",
    "    - {2,4} indicates 2 to 4\n",
    "    - {2,} indicates 2 or more\n",
    "* question mark (`?`)\n",
    "    - used to for 0 or 1 of previous token\n",
    "    - e.g. `r\"\\d?\"` matches 0 or 1 digits\n",
    "\n",
    "* Logical or `|`\n",
    "    - used to match tonen_a or token_b\n",
    "    - e.g. `(\\d{1,2}|400)` matches on one or two digits or the number 400\n",
    "    - e.g. `(T|N|Fr)ed` would match Ted, Ned, or Fred"
   ]
  },
  {
   "cell_type": "code",
   "execution_count": 29,
   "metadata": {},
   "outputs": [
    {
     "name": "stdout",
     "output_type": "stream",
     "text": [
      "<_sre.SRE_Match object; span=(16, 19), match='301'>\n",
      "<_sre.SRE_Match object; span=(9, 11), match='15'>\n",
      "['num15', 'num301']\n"
     ]
    }
   ],
   "source": [
    "s = \"num1, num15, num301\"\n",
    "\n",
    "# pattern matches first instance with 3 digits\n",
    "pattern = r\"\\d{3}\"\n",
    "print(re.search(pattern, s))\n",
    "\n",
    "# pattern matches first instance with 2 to 5 digits\n",
    "pattern = r\"\\d{2,5}\"\n",
    "print(re.search(pattern, s))\n",
    "\n",
    "# get all that matches 3 lower case letters immediately followed by 2-3 digits\n",
    "pattern = r\"[a-z]{3}\\d{2,3}\"\n",
    "print(re.findall(pattern, s))"
   ]
  },
  {
   "cell_type": "markdown",
   "metadata": {},
   "source": [
    "## Escaped Characters"
   ]
  },
  {
   "cell_type": "markdown",
   "metadata": {},
   "source": [
    "These are simply ways of inserting characters that would otherwise be interpreted as quantifiers or other non-string parts of the expression. They are common escape characters preceeded by a backslash:\n",
    "\n",
    "* `\\.`\n",
    "* `\\[`\n",
    "* `\\+`\n",
    "* etc."
   ]
  },
  {
   "cell_type": "markdown",
   "metadata": {},
   "source": [
    "## Groups and Lookahead"
   ]
  },
  {
   "cell_type": "markdown",
   "metadata": {},
   "source": [
    "### Groups\n",
    "\n",
    "Groups are formed by placing () around certain parts of the expression (pattern). When you run searches on patterns that contain groups, you can refer to these groups in the in a couple ways, allowing you to get creative with how you use results. The methods are\n",
    "\n",
    "* using the `group()` method\n",
    "* using backreference (an example with this in a bit)"
   ]
  },
  {
   "cell_type": "markdown",
   "metadata": {},
   "source": [
    "#### Capturing groups\n",
    "\n",
    "These are \"captured\" into the resulant matching groups, meaning they can be called using the `group(i)` method, where i is the group number. Group number 0 is the entire match as one string. Groups 1+ are the individual groups from the match, in the order they appear in the string."
   ]
  },
  {
   "cell_type": "code",
   "execution_count": 30,
   "metadata": {},
   "outputs": [
    {
     "name": "stdout",
     "output_type": "stream",
     "text": [
      "Name: Sierra Johnson\n",
      "Name:\n",
      "Sierra Johnson\n"
     ]
    }
   ],
   "source": [
    "s = \"Name: Sierra Johnson Foo\"\n",
    "pattern = r\"(Name:) (\\w+ \\w+)\"\n",
    "results = re.search(pattern, s)\n",
    "print(results.group(0))\n",
    "print(results.group(1))\n",
    "print(results.group(2))"
   ]
  },
  {
   "cell_type": "markdown",
   "metadata": {},
   "source": [
    "#### Non-capturing groups\n",
    "\n",
    "This simply means any group labeled as non-capturing in the pattern will not be included in the groups."
   ]
  },
  {
   "cell_type": "code",
   "execution_count": 31,
   "metadata": {},
   "outputs": [
    {
     "data": {
      "text/plain": [
       "'Sierra Johnson'"
      ]
     },
     "execution_count": 31,
     "metadata": {},
     "output_type": "execute_result"
    }
   ],
   "source": [
    "s = \"Name: Sierra Johnson Foo\"\n",
    "# using '?:' at the beginning of a group makes it non-capturing\n",
    "pattern = r\"(?:Name:) (\\w+ \\w+)\"\n",
    "results = re.search(pattern, s)\n",
    "# group 1 is now just Sierra Johnson instead of 'Name:'\n",
    "results.group(1)"
   ]
  },
  {
   "cell_type": "markdown",
   "metadata": {},
   "source": [
    "#### Using backreference"
   ]
  },
  {
   "cell_type": "code",
   "execution_count": 32,
   "metadata": {},
   "outputs": [
    {
     "data": {
      "text/plain": [
       "'The dates are 9.2017, 10.2017, and 12.2017'"
      ]
     },
     "execution_count": 32,
     "metadata": {},
     "output_type": "execute_result"
    }
   ],
   "source": [
    "# find/replace multiple groups\n",
    "\n",
    "# replace slashes with points\n",
    "# and change remove the day from date\n",
    "s = \"The dates are 9/25/2017, 10/21/2017, and 12/12/2017\"\n",
    "pattern = r\"(\\d+)/(\\d+)/(\\d+)\"\n",
    "\n",
    "# we reference groups using '\\group_num' (this is called backreference)\n",
    "# replaces orig dates with month.year (group1.group3)\n",
    "repl = r\"\\1.\\3\"\n",
    "re.sub(pattern, repl, s)"
   ]
  },
  {
   "cell_type": "markdown",
   "metadata": {},
   "source": [
    "### Lookahead\n",
    "\n",
    "Lookahead has positive and negative directions, allowing us to match classes that either do preceed (positive) or don't preceed (negative) other specific classes/patterns."
   ]
  },
  {
   "cell_type": "markdown",
   "metadata": {},
   "source": [
    "#### Positive lookahead"
   ]
  },
  {
   "cell_type": "code",
   "execution_count": 46,
   "metadata": {},
   "outputs": [
    {
     "data": {
      "text/plain": [
       "<_sre.SRE_Match object; span=(0, 6), match='number'>"
      ]
     },
     "execution_count": 46,
     "metadata": {},
     "output_type": "execute_result"
    }
   ],
   "source": [
    "s = \"number 123\"\n",
    "# match a pattern that is alpha-numeric and preceeds space+digits\n",
    "pattern = r\"\\w+(?= \\d+)\"\n",
    "re.search(pattern, s)"
   ]
  },
  {
   "cell_type": "markdown",
   "metadata": {},
   "source": [
    "#### Negative lookahead"
   ]
  },
  {
   "cell_type": "code",
   "execution_count": 47,
   "metadata": {},
   "outputs": [
    {
     "data": {
      "text/plain": [
       "<_sre.SRE_Match object; span=(0, 5), match='numbe'>"
      ]
     },
     "execution_count": 47,
     "metadata": {},
     "output_type": "execute_result"
    }
   ],
   "source": [
    "s = \"number 123\"\n",
    "# match a pattern that is alpha-numeric and does not preceed space+digits\n",
    "pattern = r\"\\w+(?! \\d+)\"\n",
    "# this will result in 'numbe' becuse it is the first sequence of one or more\n",
    "# letters that is not followed by space+digits\n",
    "re.search(pattern, s)"
   ]
  },
  {
   "cell_type": "markdown",
   "metadata": {},
   "source": [
    "### Lookbehind\n",
    "\n",
    "Lookbehind is the flipped version of lookahead, and the lookbehind expression must come first. Lookbehind requires fixed-width expressions in the lookbehind."
   ]
  },
  {
   "cell_type": "markdown",
   "metadata": {},
   "source": [
    "#### Positive lookbehind"
   ]
  },
  {
   "cell_type": "code",
   "execution_count": 48,
   "metadata": {},
   "outputs": [
    {
     "data": {
      "text/plain": [
       "<_sre.SRE_Match object; span=(7, 10), match='123'>"
      ]
     },
     "execution_count": 48,
     "metadata": {},
     "output_type": "execute_result"
    }
   ],
   "source": [
    "s = \"number 123\"\n",
    "# get first match of digits that follows 'number '\n",
    "pattern = r\"(?<=number )\\d+\"\n",
    "re.search(pattern, s)"
   ]
  },
  {
   "cell_type": "code",
   "execution_count": null,
   "metadata": {},
   "outputs": [],
   "source": [
    "# not a fixed-width pattern; won't work\n",
    "pattern = r\"(?<=\\w+ )\\d+\"\n",
    "# raises error\n",
    "re.search(pattern, s)"
   ]
  },
  {
   "cell_type": "markdown",
   "metadata": {},
   "source": [
    "#### Negative lookbehind (negation)\n",
    "\n",
    "Format: (?<!expression)expression"
   ]
  },
  {
   "cell_type": "markdown",
   "metadata": {},
   "source": [
    "## Handing multi-line text\n",
    "\n",
    "Multi-line text won't work with anchors without using the multiline flag"
   ]
  },
  {
   "cell_type": "code",
   "execution_count": 35,
   "metadata": {},
   "outputs": [
    {
     "data": {
      "text/plain": [
       "'This is line one,\\nthis is line two,\\nthis is line three\\nand this is line four.'"
      ]
     },
     "execution_count": 35,
     "metadata": {},
     "output_type": "execute_result"
    }
   ],
   "source": [
    "s = \"\"\"This is line one,\n",
    "this is line two,\n",
    "this is line three\n",
    "and this is line four.\"\"\"\n",
    "# the output contains \\n new line chars\n",
    "s"
   ]
  },
  {
   "cell_type": "code",
   "execution_count": 36,
   "metadata": {},
   "outputs": [
    {
     "name": "stdout",
     "output_type": "stream",
     "text": [
      "This is line one,\n",
      "this is line two,\n",
      "this is line three\n",
      "and this is line four.\n"
     ]
    }
   ],
   "source": [
    "print(s)"
   ]
  },
  {
   "cell_type": "code",
   "execution_count": 37,
   "metadata": {},
   "outputs": [
    {
     "name": "stdout",
     "output_type": "stream",
     "text": [
      "['This']\n",
      "['This', 'this', 'this']\n"
     ]
    }
   ],
   "source": [
    "# use the re.MULTILINE flag to let regex work with metachars (anchors) line start (^) and end ($) \n",
    "pattern = r\"^this\"\n",
    "\n",
    "# without multiline flag\n",
    "print(re.findall(pattern, s, re.IGNORECASE))\n",
    "\n",
    "# with multiline flag\n",
    "# we can use multiple flags by placing the or symbol (vertical bar) between them \n",
    "print(re.findall(pattern, s, re.IGNORECASE | re.MULTILINE))"
   ]
  },
  {
   "cell_type": "markdown",
   "metadata": {},
   "source": [
    "## Compiling patterns\n",
    "\n",
    "This allows us to compile a patter to be used on multiple strings of text. Without this, the same pattern is read and processed for every single string we compare to."
   ]
  },
  {
   "cell_type": "code",
   "execution_count": 38,
   "metadata": {},
   "outputs": [
    {
     "name": "stdout",
     "output_type": "stream",
     "text": [
      "['2/26/2017', '9/2/2017', '12/2/2017']\n",
      "['2/18/2017', '9/24/2017', '12/24/2017']\n",
      "['2/19/2017', '9/27/2017', '12/27/2017']\n",
      "['2/10/2017', '9/5/2017', '12/5/2017']\n"
     ]
    }
   ],
   "source": [
    "from numpy.random import randint\n",
    "# create four strings with random dates\n",
    "strings = [\"The dates are 2/{0}/2017, 9/{1}/2017, and 12/{1}/2017\".format(randint(1, 29), randint(1,32))\n",
    "           for i in range(4)]\n",
    "# compile pattern for multiple uses\n",
    "pattern = re.compile(r\"\\d+/\\d+/\\d+\")\n",
    "for s in strings:\n",
    "    # now we don't add the pattern arg each time to findall()\n",
    "    print(pattern.findall(s))"
   ]
  }
 ],
 "metadata": {
  "anaconda-cloud": {},
  "kernelspec": {
   "display_name": "Python 3",
   "language": "python",
   "name": "python3"
  },
  "language_info": {
   "codemirror_mode": {
    "name": "ipython",
    "version": 3
   },
   "file_extension": ".py",
   "mimetype": "text/x-python",
   "name": "python",
   "nbconvert_exporter": "python",
   "pygments_lexer": "ipython3",
   "version": "3.6.3"
  }
 },
 "nbformat": 4,
 "nbformat_minor": 2
}
