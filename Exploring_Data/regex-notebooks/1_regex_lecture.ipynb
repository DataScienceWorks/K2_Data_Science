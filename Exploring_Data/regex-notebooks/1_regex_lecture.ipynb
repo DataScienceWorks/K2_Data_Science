{
 "cells": [
  {
   "cell_type": "code",
   "execution_count": 1,
   "metadata": {},
   "outputs": [
    {
     "data": {
      "text/html": [
       "\n",
       "<style>\n",
       "    p {\n",
       "        font-size: 1.2em;\n",
       "        line-height: 1.5em;\n",
       "    }\n",
       "</style>\n"
      ],
      "text/plain": [
       "<IPython.core.display.HTML object>"
      ]
     },
     "execution_count": 1,
     "metadata": {},
     "output_type": "execute_result"
    }
   ],
   "source": [
    "from IPython.core.display import HTML\n",
    "\n",
    "HTML(\"\"\"\n",
    "<style>\n",
    "    p {\n",
    "        font-size: 1.2em;\n",
    "        line-height: 1.5em;\n",
    "    }\n",
    "</style>\n",
    "\"\"\")"
   ]
  },
  {
   "cell_type": "markdown",
   "metadata": {},
   "source": [
    "## Pattern Tables\n",
    "\n",
    "Now let’s see some of the more complicated types of pattern that can be\n",
    "specified:\n",
    "\n",
    "![table 1](table_1.png)\n",
    "![table 2](table_2.png)\n",
    "![table 3](table_3.png)"
   ]
  },
  {
   "cell_type": "markdown",
   "metadata": {},
   "source": [
    "There are others, and regular expression syntax can vary a little bit between\n",
    "languages and libraries. However, these should be enough to get you started.\n",
    "The nongreedy character deserves some special explanation. Let’s say that\n",
    "we have the following XML data:\n",
    "\n",
    "```xml\n",
    "<name>Jane</name><name>Bob</name>\n",
    "```\n",
    "\n",
    "and we want to pull out the name fields. You might try to use the regular\n",
    "expression\n",
    "\n",
    "```xml\n",
    "<name>.*</name>\n",
    "```\n",
    "\n",
    "but that will end up matching the entire string. This is because “</\n",
    "name><name” in the middle matches the “.*”, and regular expression try to\n",
    "match as much text as possible. If instead you say\n",
    "\n",
    "```xml\n",
    "<name>.*?</name>\n",
    "```\n",
    "\n",
    "then you will get the two matches, because it tries to match “.*” to as little text\n",
    "as possible.\n",
    "\n",
    "Python’s implementation is a relatively lightweight library called `re`. The following\n",
    "Python code shows how to read in a file and use regular expressions to\n",
    "look for street addresses. It’s not perfect, but it will work pretty well.\n",
    "\n",
    "```python\n",
    "import re\n",
    "# This matches \"1600 Pennsylvania Ave.\"\n",
    "# It does NOT match \"5 Stony Brook St\"\n",
    "# because there is a space in \"Stony Brook\"\n",
    "street_pattern = r\"^[0-9]\\s[A-Z][a-z]*\" + r\"(Street|St|Rd|Road|Ave|Avenue|Blvd|Way|Wy)\\.?$\"\n",
    "\n",
    "# Like the one above, this assumes\n",
    "# there is no space in the town name\n",
    "city_pattern = r\"^[A-Z][a-z]*,\\s[A-Z]{2},[0-9]{5}$\"\n",
    "address_pattern = street_pattern + r\"\\n\" + city_pattern\n",
    "\n",
    "# Compile the string into a regular expression object\n",
    "address_re = re.compile(address_pattern)\n",
    "text = open(\"some_file.txt\", \"r\").read()\n",
    "matches = re.findall(address_re, text)\n",
    "\n",
    "# list of all strings that match\n",
    "open(\"addresses_w_space_between.txt\", \"w\").write(\"\\n\\n\".join(matches))\n",
    "\n",
    "\n",
    "```"
   ]
  },
  {
   "cell_type": "markdown",
   "metadata": {},
   "source": [
    "You should notice the following things about that code:\n",
    "\n",
    "1) It’s very powerful! This is only a few lines, but it is doing a very complicated task.\n",
    "\n",
    "2) It’s limited. There are many idiosyncrasies of addresses that the human eye\n",
    "can spot that will elude this regular expression. It won’t handle apartment\n",
    "numbers, multiword street names, or even \"32nd street.\" You can patch\n",
    "these problems up as you find them, but you risk the code becoming\n",
    "unwieldy.\n",
    "\n",
    "3) We are declaring our strings as \"raw strings,\" by putting an r in front of the\n",
    "opening quote.\n",
    "\n",
    "The last thing is a practical measure when doing regular expressions in\n",
    "Python, because using the escape character \\ can become a massive pain. The\n",
    "problem is that if we say\n",
    "\n",
    "```python\n",
    "    pattern = \"\\n\"\n",
    "\n",
    "    # trying to match a newline\n",
    "    my_re = re.compile(pattern) \n",
    "    \n",
    "```\n",
    "we have not done what we intended to do. The string called pattern is a one-character\n",
    "string, consisting of the newline character. But re.compile would\n",
    "require a two‐character string, with the first character being a slash and the\n",
    "second being an n. We could instead have said\n",
    "\n",
    "```python\n",
    "    # Escape the slash w another\n",
    "    slash pattern = \"\\\\n\"\n",
    "    \n",
    "    # This matches a newline\n",
    "    newline_re = re.compile(pattern)\n",
    "    \n",
    "```\n",
    "\n",
    "But this becomes extremely unwieldy if we want to, say, include the slash\n",
    "character in the pattern we are looking for. The pattern to match a single slash\n",
    "would be \"\\\\\\\\\"."
   ]
  },
  {
   "cell_type": "code",
   "execution_count": null,
   "metadata": {
    "collapsed": true
   },
   "outputs": [],
   "source": []
  }
 ],
 "metadata": {
  "anaconda-cloud": {},
  "kernelspec": {
   "display_name": "Python 3",
   "language": "python",
   "name": "python3"
  },
  "language_info": {
   "codemirror_mode": {
    "name": "ipython",
    "version": 3
   },
   "file_extension": ".py",
   "mimetype": "text/x-python",
   "name": "python",
   "nbconvert_exporter": "python",
   "pygments_lexer": "ipython3",
   "version": "3.6.3"
  }
 },
 "nbformat": 4,
 "nbformat_minor": 1
}
