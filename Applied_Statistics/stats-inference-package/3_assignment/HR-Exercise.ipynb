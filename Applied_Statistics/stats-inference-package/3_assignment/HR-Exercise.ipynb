{
 "cells": [
  {
   "cell_type": "markdown",
   "metadata": {},
   "source": [
    "# HR Dataset - Statistics Review"
   ]
  },
  {
   "cell_type": "markdown",
   "metadata": {},
   "source": [
    "## Explore the data\n",
    "\n",
    "The data set we will use for this exercise comes from a Kaggle challenge and is often used for predictive analytics, namely to predict why the best and most experienced employees tend to leave the company.  We won't be using it for any predictive purposes here, but will instead use this data set to review many of the concepts explored in the Statistical Inference lectures.\n",
    "\n",
    "This data contains fields for various measures of employee performance and reported satisfaction levels, as well as categorical variables for events and salary level.  For now, just explore the data a bit to get a general idea of what is going on."
   ]
  },
  {
   "cell_type": "code",
   "execution_count": 68,
   "metadata": {
    "collapsed": true
   },
   "outputs": [],
   "source": [
    "import pandas as pd\n",
    "import numpy as np\n",
    "import scipy.stats as stats\n",
    "import matplotlib.pyplot as plt\n",
    "import random\n",
    "\n",
    "% matplotlib inline"
   ]
  },
  {
   "cell_type": "code",
   "execution_count": 3,
   "metadata": {},
   "outputs": [],
   "source": [
    "# Load data into a dataframe\n",
    "data = pd.read_csv('HR_comma_sep.csv')"
   ]
  },
  {
   "cell_type": "code",
   "execution_count": 10,
   "metadata": {},
   "outputs": [
    {
     "data": {
      "text/html": [
       "<div>\n",
       "<style scoped>\n",
       "    .dataframe tbody tr th:only-of-type {\n",
       "        vertical-align: middle;\n",
       "    }\n",
       "\n",
       "    .dataframe tbody tr th {\n",
       "        vertical-align: top;\n",
       "    }\n",
       "\n",
       "    .dataframe thead th {\n",
       "        text-align: right;\n",
       "    }\n",
       "</style>\n",
       "<table border=\"1\" class=\"dataframe\">\n",
       "  <thead>\n",
       "    <tr style=\"text-align: right;\">\n",
       "      <th></th>\n",
       "      <th>satisfaction_level</th>\n",
       "      <th>last_evaluation</th>\n",
       "      <th>number_project</th>\n",
       "      <th>average_montly_hours</th>\n",
       "      <th>time_spend_company</th>\n",
       "      <th>Work_accident</th>\n",
       "      <th>left</th>\n",
       "      <th>promotion_last_5years</th>\n",
       "      <th>sales</th>\n",
       "      <th>salary</th>\n",
       "    </tr>\n",
       "  </thead>\n",
       "  <tbody>\n",
       "    <tr>\n",
       "      <th>0</th>\n",
       "      <td>0.38</td>\n",
       "      <td>0.53</td>\n",
       "      <td>2</td>\n",
       "      <td>157</td>\n",
       "      <td>3</td>\n",
       "      <td>0</td>\n",
       "      <td>1</td>\n",
       "      <td>0</td>\n",
       "      <td>sales</td>\n",
       "      <td>low</td>\n",
       "    </tr>\n",
       "    <tr>\n",
       "      <th>1</th>\n",
       "      <td>0.80</td>\n",
       "      <td>0.86</td>\n",
       "      <td>5</td>\n",
       "      <td>262</td>\n",
       "      <td>6</td>\n",
       "      <td>0</td>\n",
       "      <td>1</td>\n",
       "      <td>0</td>\n",
       "      <td>sales</td>\n",
       "      <td>medium</td>\n",
       "    </tr>\n",
       "    <tr>\n",
       "      <th>2</th>\n",
       "      <td>0.11</td>\n",
       "      <td>0.88</td>\n",
       "      <td>7</td>\n",
       "      <td>272</td>\n",
       "      <td>4</td>\n",
       "      <td>0</td>\n",
       "      <td>1</td>\n",
       "      <td>0</td>\n",
       "      <td>sales</td>\n",
       "      <td>medium</td>\n",
       "    </tr>\n",
       "    <tr>\n",
       "      <th>3</th>\n",
       "      <td>0.72</td>\n",
       "      <td>0.87</td>\n",
       "      <td>5</td>\n",
       "      <td>223</td>\n",
       "      <td>5</td>\n",
       "      <td>0</td>\n",
       "      <td>1</td>\n",
       "      <td>0</td>\n",
       "      <td>sales</td>\n",
       "      <td>low</td>\n",
       "    </tr>\n",
       "    <tr>\n",
       "      <th>4</th>\n",
       "      <td>0.37</td>\n",
       "      <td>0.52</td>\n",
       "      <td>2</td>\n",
       "      <td>159</td>\n",
       "      <td>3</td>\n",
       "      <td>0</td>\n",
       "      <td>1</td>\n",
       "      <td>0</td>\n",
       "      <td>sales</td>\n",
       "      <td>low</td>\n",
       "    </tr>\n",
       "  </tbody>\n",
       "</table>\n",
       "</div>"
      ],
      "text/plain": [
       "   satisfaction_level  last_evaluation  number_project  average_montly_hours  \\\n",
       "0                0.38             0.53               2                   157   \n",
       "1                0.80             0.86               5                   262   \n",
       "2                0.11             0.88               7                   272   \n",
       "3                0.72             0.87               5                   223   \n",
       "4                0.37             0.52               2                   159   \n",
       "\n",
       "   time_spend_company  Work_accident  left  promotion_last_5years  sales  \\\n",
       "0                   3              0     1                      0  sales   \n",
       "1                   6              0     1                      0  sales   \n",
       "2                   4              0     1                      0  sales   \n",
       "3                   5              0     1                      0  sales   \n",
       "4                   3              0     1                      0  sales   \n",
       "\n",
       "   salary  \n",
       "0     low  \n",
       "1  medium  \n",
       "2  medium  \n",
       "3     low  \n",
       "4     low  "
      ]
     },
     "execution_count": 10,
     "metadata": {},
     "output_type": "execute_result"
    }
   ],
   "source": [
    "# Simple exploration\n",
    "data.head()"
   ]
  },
  {
   "cell_type": "code",
   "execution_count": 5,
   "metadata": {},
   "outputs": [
    {
     "name": "stdout",
     "output_type": "stream",
     "text": [
      "<class 'pandas.core.frame.DataFrame'>\n",
      "RangeIndex: 14999 entries, 0 to 14998\n",
      "Data columns (total 10 columns):\n",
      "satisfaction_level       14999 non-null float64\n",
      "last_evaluation          14999 non-null float64\n",
      "number_project           14999 non-null int64\n",
      "average_montly_hours     14999 non-null int64\n",
      "time_spend_company       14999 non-null int64\n",
      "Work_accident            14999 non-null int64\n",
      "left                     14999 non-null int64\n",
      "promotion_last_5years    14999 non-null int64\n",
      "sales                    14999 non-null object\n",
      "salary                   14999 non-null object\n",
      "dtypes: float64(2), int64(6), object(2)\n",
      "memory usage: 1.1+ MB\n"
     ]
    }
   ],
   "source": [
    "data.info()"
   ]
  },
  {
   "cell_type": "code",
   "execution_count": 6,
   "metadata": {},
   "outputs": [
    {
     "data": {
      "text/html": [
       "<div>\n",
       "<style scoped>\n",
       "    .dataframe tbody tr th:only-of-type {\n",
       "        vertical-align: middle;\n",
       "    }\n",
       "\n",
       "    .dataframe tbody tr th {\n",
       "        vertical-align: top;\n",
       "    }\n",
       "\n",
       "    .dataframe thead th {\n",
       "        text-align: right;\n",
       "    }\n",
       "</style>\n",
       "<table border=\"1\" class=\"dataframe\">\n",
       "  <thead>\n",
       "    <tr style=\"text-align: right;\">\n",
       "      <th></th>\n",
       "      <th>count</th>\n",
       "      <th>mean</th>\n",
       "      <th>std</th>\n",
       "      <th>min</th>\n",
       "      <th>25%</th>\n",
       "      <th>50%</th>\n",
       "      <th>75%</th>\n",
       "      <th>max</th>\n",
       "    </tr>\n",
       "  </thead>\n",
       "  <tbody>\n",
       "    <tr>\n",
       "      <th>satisfaction_level</th>\n",
       "      <td>14999.0</td>\n",
       "      <td>0.612834</td>\n",
       "      <td>0.248631</td>\n",
       "      <td>0.09</td>\n",
       "      <td>0.44</td>\n",
       "      <td>0.64</td>\n",
       "      <td>0.82</td>\n",
       "      <td>1.0</td>\n",
       "    </tr>\n",
       "    <tr>\n",
       "      <th>last_evaluation</th>\n",
       "      <td>14999.0</td>\n",
       "      <td>0.716102</td>\n",
       "      <td>0.171169</td>\n",
       "      <td>0.36</td>\n",
       "      <td>0.56</td>\n",
       "      <td>0.72</td>\n",
       "      <td>0.87</td>\n",
       "      <td>1.0</td>\n",
       "    </tr>\n",
       "    <tr>\n",
       "      <th>number_project</th>\n",
       "      <td>14999.0</td>\n",
       "      <td>3.803054</td>\n",
       "      <td>1.232592</td>\n",
       "      <td>2.00</td>\n",
       "      <td>3.00</td>\n",
       "      <td>4.00</td>\n",
       "      <td>5.00</td>\n",
       "      <td>7.0</td>\n",
       "    </tr>\n",
       "    <tr>\n",
       "      <th>average_montly_hours</th>\n",
       "      <td>14999.0</td>\n",
       "      <td>201.050337</td>\n",
       "      <td>49.943099</td>\n",
       "      <td>96.00</td>\n",
       "      <td>156.00</td>\n",
       "      <td>200.00</td>\n",
       "      <td>245.00</td>\n",
       "      <td>310.0</td>\n",
       "    </tr>\n",
       "    <tr>\n",
       "      <th>time_spend_company</th>\n",
       "      <td>14999.0</td>\n",
       "      <td>3.498233</td>\n",
       "      <td>1.460136</td>\n",
       "      <td>2.00</td>\n",
       "      <td>3.00</td>\n",
       "      <td>3.00</td>\n",
       "      <td>4.00</td>\n",
       "      <td>10.0</td>\n",
       "    </tr>\n",
       "    <tr>\n",
       "      <th>Work_accident</th>\n",
       "      <td>14999.0</td>\n",
       "      <td>0.144610</td>\n",
       "      <td>0.351719</td>\n",
       "      <td>0.00</td>\n",
       "      <td>0.00</td>\n",
       "      <td>0.00</td>\n",
       "      <td>0.00</td>\n",
       "      <td>1.0</td>\n",
       "    </tr>\n",
       "    <tr>\n",
       "      <th>left</th>\n",
       "      <td>14999.0</td>\n",
       "      <td>0.238083</td>\n",
       "      <td>0.425924</td>\n",
       "      <td>0.00</td>\n",
       "      <td>0.00</td>\n",
       "      <td>0.00</td>\n",
       "      <td>0.00</td>\n",
       "      <td>1.0</td>\n",
       "    </tr>\n",
       "    <tr>\n",
       "      <th>promotion_last_5years</th>\n",
       "      <td>14999.0</td>\n",
       "      <td>0.021268</td>\n",
       "      <td>0.144281</td>\n",
       "      <td>0.00</td>\n",
       "      <td>0.00</td>\n",
       "      <td>0.00</td>\n",
       "      <td>0.00</td>\n",
       "      <td>1.0</td>\n",
       "    </tr>\n",
       "  </tbody>\n",
       "</table>\n",
       "</div>"
      ],
      "text/plain": [
       "                         count        mean        std    min     25%     50%  \\\n",
       "satisfaction_level     14999.0    0.612834   0.248631   0.09    0.44    0.64   \n",
       "last_evaluation        14999.0    0.716102   0.171169   0.36    0.56    0.72   \n",
       "number_project         14999.0    3.803054   1.232592   2.00    3.00    4.00   \n",
       "average_montly_hours   14999.0  201.050337  49.943099  96.00  156.00  200.00   \n",
       "time_spend_company     14999.0    3.498233   1.460136   2.00    3.00    3.00   \n",
       "Work_accident          14999.0    0.144610   0.351719   0.00    0.00    0.00   \n",
       "left                   14999.0    0.238083   0.425924   0.00    0.00    0.00   \n",
       "promotion_last_5years  14999.0    0.021268   0.144281   0.00    0.00    0.00   \n",
       "\n",
       "                          75%    max  \n",
       "satisfaction_level       0.82    1.0  \n",
       "last_evaluation          0.87    1.0  \n",
       "number_project           5.00    7.0  \n",
       "average_montly_hours   245.00  310.0  \n",
       "time_spend_company       4.00   10.0  \n",
       "Work_accident            0.00    1.0  \n",
       "left                     0.00    1.0  \n",
       "promotion_last_5years    0.00    1.0  "
      ]
     },
     "execution_count": 6,
     "metadata": {},
     "output_type": "execute_result"
    }
   ],
   "source": [
    "data.describe().T"
   ]
  },
  {
   "cell_type": "code",
   "execution_count": 7,
   "metadata": {},
   "outputs": [
    {
     "data": {
      "text/html": [
       "<div>\n",
       "<style scoped>\n",
       "    .dataframe tbody tr th:only-of-type {\n",
       "        vertical-align: middle;\n",
       "    }\n",
       "\n",
       "    .dataframe tbody tr th {\n",
       "        vertical-align: top;\n",
       "    }\n",
       "\n",
       "    .dataframe thead th {\n",
       "        text-align: right;\n",
       "    }\n",
       "</style>\n",
       "<table border=\"1\" class=\"dataframe\">\n",
       "  <thead>\n",
       "    <tr style=\"text-align: right;\">\n",
       "      <th></th>\n",
       "      <th>count</th>\n",
       "      <th>unique</th>\n",
       "      <th>top</th>\n",
       "      <th>freq</th>\n",
       "    </tr>\n",
       "  </thead>\n",
       "  <tbody>\n",
       "    <tr>\n",
       "      <th>sales</th>\n",
       "      <td>14999</td>\n",
       "      <td>10</td>\n",
       "      <td>sales</td>\n",
       "      <td>4140</td>\n",
       "    </tr>\n",
       "    <tr>\n",
       "      <th>salary</th>\n",
       "      <td>14999</td>\n",
       "      <td>3</td>\n",
       "      <td>low</td>\n",
       "      <td>7316</td>\n",
       "    </tr>\n",
       "  </tbody>\n",
       "</table>\n",
       "</div>"
      ],
      "text/plain": [
       "        count unique    top  freq\n",
       "sales   14999     10  sales  4140\n",
       "salary  14999      3    low  7316"
      ]
     },
     "execution_count": 7,
     "metadata": {},
     "output_type": "execute_result"
    }
   ],
   "source": [
    "data.describe(include=['O']).T"
   ]
  },
  {
   "cell_type": "code",
   "execution_count": 11,
   "metadata": {},
   "outputs": [
    {
     "data": {
      "text/html": [
       "<div>\n",
       "<style scoped>\n",
       "    .dataframe tbody tr th:only-of-type {\n",
       "        vertical-align: middle;\n",
       "    }\n",
       "\n",
       "    .dataframe tbody tr th {\n",
       "        vertical-align: top;\n",
       "    }\n",
       "\n",
       "    .dataframe thead th {\n",
       "        text-align: right;\n",
       "    }\n",
       "</style>\n",
       "<table border=\"1\" class=\"dataframe\">\n",
       "  <thead>\n",
       "    <tr style=\"text-align: right;\">\n",
       "      <th></th>\n",
       "      <th>satisfaction_level</th>\n",
       "      <th>last_evaluation</th>\n",
       "      <th>number_project</th>\n",
       "      <th>average_monthly_hours</th>\n",
       "      <th>time_spend_company</th>\n",
       "      <th>work_accident</th>\n",
       "      <th>left</th>\n",
       "      <th>promotion_last_5years</th>\n",
       "      <th>sales</th>\n",
       "      <th>salary</th>\n",
       "    </tr>\n",
       "  </thead>\n",
       "  <tbody>\n",
       "    <tr>\n",
       "      <th>0</th>\n",
       "      <td>0.38</td>\n",
       "      <td>0.53</td>\n",
       "      <td>2</td>\n",
       "      <td>157</td>\n",
       "      <td>3</td>\n",
       "      <td>0</td>\n",
       "      <td>1</td>\n",
       "      <td>0</td>\n",
       "      <td>sales</td>\n",
       "      <td>low</td>\n",
       "    </tr>\n",
       "    <tr>\n",
       "      <th>1</th>\n",
       "      <td>0.80</td>\n",
       "      <td>0.86</td>\n",
       "      <td>5</td>\n",
       "      <td>262</td>\n",
       "      <td>6</td>\n",
       "      <td>0</td>\n",
       "      <td>1</td>\n",
       "      <td>0</td>\n",
       "      <td>sales</td>\n",
       "      <td>medium</td>\n",
       "    </tr>\n",
       "    <tr>\n",
       "      <th>2</th>\n",
       "      <td>0.11</td>\n",
       "      <td>0.88</td>\n",
       "      <td>7</td>\n",
       "      <td>272</td>\n",
       "      <td>4</td>\n",
       "      <td>0</td>\n",
       "      <td>1</td>\n",
       "      <td>0</td>\n",
       "      <td>sales</td>\n",
       "      <td>medium</td>\n",
       "    </tr>\n",
       "    <tr>\n",
       "      <th>3</th>\n",
       "      <td>0.72</td>\n",
       "      <td>0.87</td>\n",
       "      <td>5</td>\n",
       "      <td>223</td>\n",
       "      <td>5</td>\n",
       "      <td>0</td>\n",
       "      <td>1</td>\n",
       "      <td>0</td>\n",
       "      <td>sales</td>\n",
       "      <td>low</td>\n",
       "    </tr>\n",
       "    <tr>\n",
       "      <th>4</th>\n",
       "      <td>0.37</td>\n",
       "      <td>0.52</td>\n",
       "      <td>2</td>\n",
       "      <td>159</td>\n",
       "      <td>3</td>\n",
       "      <td>0</td>\n",
       "      <td>1</td>\n",
       "      <td>0</td>\n",
       "      <td>sales</td>\n",
       "      <td>low</td>\n",
       "    </tr>\n",
       "  </tbody>\n",
       "</table>\n",
       "</div>"
      ],
      "text/plain": [
       "   satisfaction_level  last_evaluation  number_project  average_monthly_hours  \\\n",
       "0                0.38             0.53               2                    157   \n",
       "1                0.80             0.86               5                    262   \n",
       "2                0.11             0.88               7                    272   \n",
       "3                0.72             0.87               5                    223   \n",
       "4                0.37             0.52               2                    159   \n",
       "\n",
       "   time_spend_company  work_accident  left  promotion_last_5years  sales  \\\n",
       "0                   3              0     1                      0  sales   \n",
       "1                   6              0     1                      0  sales   \n",
       "2                   4              0     1                      0  sales   \n",
       "3                   5              0     1                      0  sales   \n",
       "4                   3              0     1                      0  sales   \n",
       "\n",
       "   salary  \n",
       "0     low  \n",
       "1  medium  \n",
       "2  medium  \n",
       "3     low  \n",
       "4     low  "
      ]
     },
     "execution_count": 11,
     "metadata": {},
     "output_type": "execute_result"
    }
   ],
   "source": [
    "# Rename two columns to fix typo, convert to lowercase\n",
    "data.rename(columns={'average_montly_hours': 'average_monthly_hours',\n",
    "                     'Work_accident': 'work_accident'}, inplace=True)\n",
    "data.head()"
   ]
  },
  {
   "cell_type": "markdown",
   "metadata": {},
   "source": [
    "## Probability, Expectation Values, and Variance\n",
    "\n",
    "The concepts of probability, expectation values, and variance are the bedrock of statistical inference.  Let's begin by employing some of these concepts to see if we can find some interesting paths to go down which may provide some insight into the inner workings of this company.\n",
    "\n",
    "1. What is the probability that a randomly selected employee left the company?  What about experienced a work accident?  Also compute the probability that a randomly selected employee left the company and experienced a work accident.\n",
    "1. Compute the 25th, 50th, and 90th percentiles for the satisfaction level score for all employees that left the company.  Compare these results to the same percentiles for those that did not leave.  What can you say about the results?\n",
    "1. Compute the variance and standard deviation of hours worked.\n",
    "1. Compare the variance between the satisfaction levels of employees who left versus those who stayed.  Which is larger?  What does this mean?\n",
    "1. Compute the mean satisfaction level for each salary category.  Comment on your results.\n",
    "1. Given an employees salary level (low, medium, or high), calculate the probability that they worked more than two standard deviations of the average monthly hours across all groups.  In other words, compute\n",
    "$$P(hours > 2\\sigma \\vert salary ) = \\dfrac{P(salary \\vert hours > 2\\sigma) P(hours > 2\\sigma)}{P(salary)}$$\n",
    "1. What can you say about your results in part 6?\n",
    "1. Repeat parts 6 and 7 for \n",
    "$$P(left \\vert salary ) = \\dfrac{P(salary \\vert left) P(left)}{P(salary)}$$\n",
    "1. What is the odds ratio of an employee with a high salary getting a promotion within the past five years versus a low salary employee?  Comment on your results.\n",
    "1. Suppose we were to pull a random sample of size 50 of employee satisfaction levels.  What would approximately be the mean of this sample?  What would be the mean of, say, 10 sets of random samples?  Demonstrate your assertions by writing some python code to do just that.\n"
   ]
  },
  {
   "cell_type": "code",
   "execution_count": 26,
   "metadata": {},
   "outputs": [
    {
     "name": "stdout",
     "output_type": "stream",
     "text": [
      "Probability of selecting an employee that left: 23.81%\n",
      "Probability of selecting an employee that had an accident: 14.46%\n",
      "Probability of selecting an employee that left and had an accident: 1.13%\n"
     ]
    }
   ],
   "source": [
    "# Question 1\n",
    "# Get total number of employees that left, find proportion of total\n",
    "left_count = data.left.value_counts()[1]\n",
    "prob_left = left_count / len(data.left)\n",
    "\n",
    "# Get total number of employees who experienced an accident, find proportion of total\n",
    "accident_count = data.work_accident.value_counts()[1]\n",
    "prob_accident = accident_count / len(data.work_accident)\n",
    "\n",
    "# Get total number of employees who left and had an accident, find proportion of total\n",
    "left_accident_count = len(data[(data.left == 1) & (data.work_accident == 1)])\n",
    "prob_left_accident = left_accident_count / len(data.left)\n",
    "\n",
    "print('Probability of selecting an employee that left: %0.2f%%' % (prob_left*100))\n",
    "print('Probability of selecting an employee that had an accident: %0.2f%%' % (prob_accident*100))\n",
    "print('Probability of selecting an employee that left and had an accident: %0.2f%%' % (prob_left_accident*100))"
   ]
  },
  {
   "cell_type": "code",
   "execution_count": 30,
   "metadata": {},
   "outputs": [
    {
     "name": "stdout",
     "output_type": "stream",
     "text": [
      "Satisfaction levels for 25th, 50th, and 90th percentile for employees who left:\n",
      "0.13, 0.41, 0.84\n",
      "Satisfaction levels for 25th, 50th, and 90th percentile for employees who stayed:\n",
      "0.54, 0.69, 0.94\n"
     ]
    }
   ],
   "source": [
    "# Question 2\n",
    "# Get dataframes for those who stayed and left\n",
    "left_df = data[data.left == 1]\n",
    "stay_df = data[data.left == 0]\n",
    "\n",
    "l1, l2, l3 = left_df.satisfaction_level.quantile(q=[0.25, 0.5, 0.9])\n",
    "s1, s2, s3 = stay_df.satisfaction_level.quantile(q=[0.25, 0.5, 0.9])\n",
    "\n",
    "print('Satisfaction levels for 25th, 50th, and 90th percentile for employees who left:')\n",
    "print('{}, {}, {}'.format(l1, l2, l3))\n",
    "print('Satisfaction levels for 25th, 50th, and 90th percentile for employees who stayed:')\n",
    "print('{}, {}, {}'.format(s1, s2, s3))\n"
   ]
  },
  {
   "cell_type": "code",
   "execution_count": 35,
   "metadata": {},
   "outputs": [
    {
     "data": {
      "text/html": [
       "<div>\n",
       "<style scoped>\n",
       "    .dataframe tbody tr th:only-of-type {\n",
       "        vertical-align: middle;\n",
       "    }\n",
       "\n",
       "    .dataframe tbody tr th {\n",
       "        vertical-align: top;\n",
       "    }\n",
       "\n",
       "    .dataframe thead th {\n",
       "        text-align: right;\n",
       "    }\n",
       "</style>\n",
       "<table border=\"1\" class=\"dataframe\">\n",
       "  <thead>\n",
       "    <tr style=\"text-align: right;\">\n",
       "      <th></th>\n",
       "      <th>0.25</th>\n",
       "      <th>0.5</th>\n",
       "      <th>0.9</th>\n",
       "    </tr>\n",
       "    <tr>\n",
       "      <th>left</th>\n",
       "      <th></th>\n",
       "      <th></th>\n",
       "      <th></th>\n",
       "    </tr>\n",
       "  </thead>\n",
       "  <tbody>\n",
       "    <tr>\n",
       "      <th>0</th>\n",
       "      <td>0.54</td>\n",
       "      <td>0.69</td>\n",
       "      <td>0.94</td>\n",
       "    </tr>\n",
       "    <tr>\n",
       "      <th>1</th>\n",
       "      <td>0.13</td>\n",
       "      <td>0.41</td>\n",
       "      <td>0.84</td>\n",
       "    </tr>\n",
       "  </tbody>\n",
       "</table>\n",
       "</div>"
      ],
      "text/plain": [
       "      0.25  0.50  0.90\n",
       "left                  \n",
       "0     0.54  0.69  0.94\n",
       "1     0.13  0.41  0.84"
      ]
     },
     "execution_count": 35,
     "metadata": {},
     "output_type": "execute_result"
    }
   ],
   "source": [
    "# Alternative solution using groupby\n",
    "data.groupby('left').satisfaction_level.quantile(q=[0.25, 0.5, 0.9]).unstack()"
   ]
  },
  {
   "cell_type": "code",
   "execution_count": 45,
   "metadata": {},
   "outputs": [
    {
     "name": "stdout",
     "output_type": "stream",
     "text": [
      "Variance of hours worked: 2494.31\n",
      "Standard deviation of hours worked: 49.94\n"
     ]
    }
   ],
   "source": [
    "# Question 3\n",
    "var_hours_worked = data['average_monthly_hours'].var()\n",
    "std_hours_worked = data['average_monthly_hours'].std()\n",
    "mean_hours_worked = data['average_monthly_hours'].mean()\n",
    "\n",
    "print('Variance of hours worked: {0:.2f}'.format(var_hours_worked))\n",
    "print('Standard deviation of hours worked: {0:.2f}'.format(std_hours_worked))"
   ]
  },
  {
   "cell_type": "code",
   "execution_count": 36,
   "metadata": {},
   "outputs": [
    {
     "data": {
      "text/plain": [
       "var    2494.313175\n",
       "std      49.943099\n",
       "Name: average_monthly_hours, dtype: float64"
      ]
     },
     "execution_count": 36,
     "metadata": {},
     "output_type": "execute_result"
    }
   ],
   "source": [
    "# Alternative\n",
    "data.average_monthly_hours.agg(['var', 'std'])"
   ]
  },
  {
   "cell_type": "code",
   "execution_count": 44,
   "metadata": {},
   "outputs": [
    {
     "data": {
      "text/plain": [
       "left\n",
       "0    0.047134\n",
       "1    0.069661\n",
       "Name: satisfaction_level, dtype: float64"
      ]
     },
     "execution_count": 44,
     "metadata": {},
     "output_type": "execute_result"
    }
   ],
   "source": [
    "# Question 4\n",
    "data.groupby('left').satisfaction_level.var()"
   ]
  },
  {
   "cell_type": "code",
   "execution_count": 43,
   "metadata": {},
   "outputs": [
    {
     "data": {
      "text/plain": [
       "salary\n",
       "high      0.637470\n",
       "low       0.600753\n",
       "medium    0.621817\n",
       "Name: satisfaction_level, dtype: float64"
      ]
     },
     "execution_count": 43,
     "metadata": {},
     "output_type": "execute_result"
    }
   ],
   "source": [
    "# Question 5\n",
    "data.groupby('salary').satisfaction_level.mean()"
   ]
  },
  {
   "cell_type": "code",
   "execution_count": 47,
   "metadata": {},
   "outputs": [],
   "source": [
    "# Question 6\n",
    "ave_hours_plus2std = mean_hours_worked + (2 * std_hours_worked)\n",
    "\n",
    "# Compute the components of Bayes theorem\n",
    "N = len(data)\n",
    "\n",
    "# P(hours > ave hours plus2)\n",
    "p_hours = len(data[data.average_monthly_hours > ave_hours_plus2std]) / N\n",
    "\n",
    "# P(salary), just proportions of each salary type in data\n",
    "p_salary = data.salary.value_counts() / N\n",
    "\n",
    "# P(salary | hours > ave hours plus2)\n",
    "# The number of each salary type that works > ave hours plus2\n",
    "# divided by the total number of workers who work > ave hours plus2\n",
    "p_salary_hours = (data[data.average_monthly_hours > ave_hours_plus2std].salary.value_counts() /\n",
    "                     len(data[data.average_monthly_hours > ave_hours_plus2std]))\n",
    "\n",
    "# Finally use Bayes Theorem\n",
    "p_hours_salary = (p_salary_hours * p_hours) / p_salary"
   ]
  },
  {
   "cell_type": "code",
   "execution_count": 48,
   "metadata": {},
   "outputs": [
    {
     "data": {
      "text/plain": [
       "low       0.013532\n",
       "medium    0.008998\n",
       "high      0.001617\n",
       "Name: salary, dtype: float64"
      ]
     },
     "execution_count": 48,
     "metadata": {},
     "output_type": "execute_result"
    }
   ],
   "source": [
    "p_hours_salary"
   ]
  },
  {
   "cell_type": "code",
   "execution_count": 49,
   "metadata": {},
   "outputs": [
    {
     "data": {
      "text/plain": [
       "0.01060070671378092"
      ]
     },
     "execution_count": 49,
     "metadata": {},
     "output_type": "execute_result"
    }
   ],
   "source": [
    "# Question 7\n",
    "p_hours"
   ]
  },
  {
   "cell_type": "code",
   "execution_count": 50,
   "metadata": {},
   "outputs": [
    {
     "data": {
      "text/plain": [
       "low       0.487766\n",
       "medium    0.429762\n",
       "high      0.082472\n",
       "Name: salary, dtype: float64"
      ]
     },
     "execution_count": 50,
     "metadata": {},
     "output_type": "execute_result"
    }
   ],
   "source": [
    "p_salary"
   ]
  },
  {
   "cell_type": "code",
   "execution_count": 52,
   "metadata": {},
   "outputs": [
    {
     "data": {
      "text/plain": [
       "low       0.622642\n",
       "medium    0.364780\n",
       "high      0.012579\n",
       "Name: salary, dtype: float64"
      ]
     },
     "execution_count": 52,
     "metadata": {},
     "output_type": "execute_result"
    }
   ],
   "source": [
    "p_salary_hours"
   ]
  },
  {
   "cell_type": "code",
   "execution_count": 57,
   "metadata": {},
   "outputs": [],
   "source": [
    "# Question 8\n",
    "# Find P(left | salary)\n",
    "p_left = prob_left\n",
    "\n",
    "# Need P(salary | left) to apply Bayes Theorem\n",
    "p_salary_left = data[data.left == 1].salary.value_counts() / len(data[data.left == 1])\n",
    "\n",
    "# Apply Bayes theorem\n",
    "p_left_salary = (p_salary_left * p_left) / p_salary"
   ]
  },
  {
   "cell_type": "code",
   "execution_count": 58,
   "metadata": {},
   "outputs": [
    {
     "data": {
      "text/plain": [
       "low       0.296884\n",
       "medium    0.204313\n",
       "high      0.066289\n",
       "Name: salary, dtype: float64"
      ]
     },
     "execution_count": 58,
     "metadata": {},
     "output_type": "execute_result"
    }
   ],
   "source": [
    "p_left_salary"
   ]
  },
  {
   "cell_type": "code",
   "execution_count": 59,
   "metadata": {},
   "outputs": [
    {
     "data": {
      "text/plain": [
       "low       0.608233\n",
       "medium    0.368804\n",
       "high      0.022963\n",
       "Name: salary, dtype: float64"
      ]
     },
     "execution_count": 59,
     "metadata": {},
     "output_type": "execute_result"
    }
   ],
   "source": [
    "p_salary_left"
   ]
  },
  {
   "cell_type": "code",
   "execution_count": 66,
   "metadata": {},
   "outputs": [
    {
     "data": {
      "text/plain": [
       "6.788919235271166"
      ]
     },
     "execution_count": 66,
     "metadata": {},
     "output_type": "execute_result"
    }
   ],
   "source": [
    "# Question 9\n",
    "N = data.salary.value_counts()\n",
    "\n",
    "# Proportion of employees promoted and not promoted by salary type\n",
    "got_p = data[data.promotion_last_5years == 1].salary.value_counts() / N\n",
    "not_p = data[data.promotion_last_5years == 0].salary.value_counts() / N\n",
    "\n",
    "# Compute odds for high and low respectively then the ratio of the two\n",
    "odds = (got_p['high'] / not_p['high']) / (got_p['low'] / not_p['low'])\n",
    "odds"
   ]
  },
  {
   "cell_type": "code",
   "execution_count": 77,
   "metadata": {},
   "outputs": [
    {
     "data": {
      "text/plain": [
       "0.6216"
      ]
     },
     "execution_count": 77,
     "metadata": {},
     "output_type": "execute_result"
    }
   ],
   "source": [
    "# Question 10\n",
    "sample = np.random.choice(a=data.satisfaction_level, size=50)\n",
    "samples = [data.sample(50).satisfaction_level.mean() for _ in range(10)]\n",
    "samples_arr = np.array(samples)\n",
    "samples_arr.mean()"
   ]
  },
  {
   "cell_type": "code",
   "execution_count": 78,
   "metadata": {},
   "outputs": [
    {
     "data": {
      "text/plain": [
       "0.6128335222348166"
      ]
     },
     "execution_count": 78,
     "metadata": {},
     "output_type": "execute_result"
    }
   ],
   "source": [
    "data.satisfaction_level.mean()"
   ]
  },
  {
   "cell_type": "markdown",
   "metadata": {
    "collapsed": true
   },
   "source": [
    "## Distributions and The Central Limit Theorem\n",
    "### The Bernoulli Distribution\n",
    "Bernoulli distributions are the result of a random variable with a binary outcome, like a coin flip or medical test giving a positive or negative result.  Typically we represent the outcomes of a Bernoulli Random variable $X$ of only taking values of 0 or 1, with probabilities $p$ and $1 - p$ respectively, mean $p$, variance $p(1 - p)$, and PMF given by\n",
    "\n",
    "$$ P(X = x) = p^x (1 - p)^{1 - x} $$\n",
    "\n",
    "Where $x$ is the outcome and $p$ is the probability of the positive outcome (1).\n",
    "\n",
    "Bernoulli random variables crop up very often in statistical analysis &mdash; most often in the form of Binomial trials, or, as a sum of independent Bernoulli variables with PMF given by \n",
    "$$ P(X = x) = {n \\choose x} p^x (1 - p)^{n - x} $$\n",
    "where\n",
    "$$ {n \\choose x} = \\frac{n!}{x!(n - x)!} $$\n",
    "In this exercise you'll take a look at the HR data and apply these concepts to gain some insight."
   ]
  },
  {
   "cell_type": "markdown",
   "metadata": {},
   "source": [
    "Using the HR data, answer the following.\n",
    "1. Which variables in the HR data can be said to be Bernoulli random variables?\n",
    "2. For the variables you identified in part 1, compute the probabilities $p_k$, of each having a positive $(x = 1)$ result, where $k$ is a placeholder for each variable.\n",
    "3. Compute the variance of each of the variables in part 2 using $p_k$ as described above.\n",
    "4. For each of the k variables, compute the probability of randomly selecting 3500 employees with a positive result.  Comment on your answer.\n",
    "5. For each of the k variables, compute the probability of randomly selecting 3500 **or less** with a positive result.  Comment on your answer.\n",
    "6. Now plot both the PMF and CDF as a function of the number of drawn samples for each of the k variables.  Comment on your results."
   ]
  },
  {
   "cell_type": "markdown",
   "metadata": {
    "collapsed": true
   },
   "source": [
    "**Question 1**\n",
    "The following can be considered Bernoulli random variablesin the HR dataset:\n",
    "`work_accident`, `left`, `promotion_last_5years`"
   ]
  },
  {
   "cell_type": "code",
   "execution_count": 79,
   "metadata": {},
   "outputs": [
    {
     "data": {
      "text/plain": [
       "(0.1446096406427095, 0.2380825388359224, 0.021268084538969265)"
      ]
     },
     "execution_count": 79,
     "metadata": {},
     "output_type": "execute_result"
    }
   ],
   "source": [
    "# Question 2\n",
    "N = len(data)\n",
    "\n",
    "p_accident = len(data[data.work_accident == 1]) / N\n",
    "p_left = len(data[data.left == 1]) / N\n",
    "p_promotion = len(data[data.promotion_last_5years == 1]) / N\n",
    "\n",
    "p_accident, p_left, p_promotion"
   ]
  },
  {
   "cell_type": "code",
   "execution_count": 80,
   "metadata": {
    "collapsed": true
   },
   "outputs": [],
   "source": [
    "# Alternative solution because binary (0,1) outcomes\n",
    "p = data[['work_accident', 'left', 'promotion_last_5years']].mean()"
   ]
  },
  {
   "cell_type": "code",
   "execution_count": 81,
   "metadata": {},
   "outputs": [
    {
     "data": {
      "text/plain": [
       "work_accident            0.144610\n",
       "left                     0.238083\n",
       "promotion_last_5years    0.021268\n",
       "dtype: float64"
      ]
     },
     "execution_count": 81,
     "metadata": {},
     "output_type": "execute_result"
    }
   ],
   "source": [
    "p"
   ]
  },
  {
   "cell_type": "code",
   "execution_count": 82,
   "metadata": {},
   "outputs": [
    {
     "data": {
      "text/plain": [
       "work_accident            0.123706\n",
       "left                     0.181411\n",
       "promotion_last_5years    0.020817\n",
       "dtype: float64"
      ]
     },
     "execution_count": 82,
     "metadata": {},
     "output_type": "execute_result"
    }
   ],
   "source": [
    "# Question 3\n",
    "var = data[['work_accident', 'left', 'promotion_last_5years']].var()\n",
    "var"
   ]
  },
  {
   "cell_type": "code",
   "execution_count": 83,
   "metadata": {},
   "outputs": [
    {
     "data": {
      "text/plain": [
       "work_accident            0.123698\n",
       "left                     0.181399\n",
       "promotion_last_5years    0.020816\n",
       "dtype: float64"
      ]
     },
     "execution_count": 83,
     "metadata": {},
     "output_type": "execute_result"
    }
   ],
   "source": [
    "# Alternatively using equation\n",
    "var = p * (1 - p)\n",
    "var"
   ]
  },
  {
   "cell_type": "code",
   "execution_count": 84,
   "metadata": {},
   "outputs": [
    {
     "data": {
      "text/plain": [
       "{'left': 0.0030366192962612546,\n",
       " 'promotion_last_5years': 0.0,\n",
       " 'work_accident': 3.3494533716445012e-183}"
      ]
     },
     "execution_count": 84,
     "metadata": {},
     "output_type": "execute_result"
    }
   ],
   "source": [
    "# Question 4\n",
    "N = len(data)\n",
    "\n",
    "# Create a dict to hold the variables and their probabilities\n",
    "b = {}\n",
    "\n",
    "# Iterate through the p values for each variable\n",
    "# The 'to_dict' method will convert the series 'p' to a dict\n",
    "# and the for loop iterates through the keys of the dict\n",
    "for x in p.to_dict():\n",
    "    # Instantiate a binomial dist using our parameters\n",
    "    myBinom = stats.binom(n=N, p=p[x])\n",
    "    \n",
    "    # Add the probability of selecting 3500 positives from this dist\n",
    "    b[x] = myBinom.pmf(3500)\n",
    "    \n",
    "b"
   ]
  },
  {
   "cell_type": "code",
   "execution_count": 85,
   "metadata": {},
   "outputs": [
    {
     "data": {
      "text/plain": [
       "{'left': 0.08803118104327311,\n",
       " 'promotion_last_5years': 0.9999999999999999,\n",
       " 'work_accident': 0.9999999999999999}"
      ]
     },
     "execution_count": 85,
     "metadata": {},
     "output_type": "execute_result"
    }
   ],
   "source": [
    "# Question 5\n",
    "c = {}\n",
    "\n",
    "for x in p.to_dict():\n",
    "    my_binom = stats.binom(n=N, p=p[x])\n",
    "    c[x] = my_binom.cdf(3500)\n",
    "    \n",
    "c"
   ]
  },
  {
   "cell_type": "code",
   "execution_count": 86,
   "metadata": {
    "collapsed": true
   },
   "outputs": [],
   "source": [
    "# Question 6\n",
    "b_pmf = {}\n",
    "\n",
    "for x in p.to_dict():\n",
    "    y = []\n",
    "    for i in range(N):\n",
    "        my_binom = stats.binom(n=N, p=p[x])\n",
    "        y.append(my_binom.pmf(i))\n",
    "    b_pmf[x] = y"
   ]
  },
  {
   "cell_type": "code",
   "execution_count": 87,
   "metadata": {
    "collapsed": true
   },
   "outputs": [
    {
     "data": {
      "image/png": "[encoded data removed]",
      "text/plain": [
       "<matplotlib.figure.Figure at 0x1a14f33ef0>"
      ]
     },
     "metadata": {},
     "output_type": "display_data"
    }
   ],
   "source": [
    "# Plot b_pmf\n",
    "plt.figure(figsize=(10,6))\n",
    "\n",
    "plt.plot(b_pmf['work_accident'], 'r', label='work_accident')\n",
    "plt.plot(b_pmf['left'], 'g', label='left')\n",
    "plt.plot(b_pmf['promotion_last_5years'], 'b', label='promotion_last_5years')\n",
    "\n",
    "plt.legend()\n",
    "\n",
    "plt.title('PMF')\n",
    "plt.show()"
   ]
  },
  {
   "cell_type": "code",
   "execution_count": 89,
   "metadata": {},
   "outputs": [],
   "source": [
    "# Now for cdf\n",
    "c_cdf = {}\n",
    "\n",
    "for x in p.to_dict():\n",
    "    y = []\n",
    "    for i in range(N):\n",
    "        my_binom = stats.binom(n=N, p=p[x])\n",
    "        y.append(my_binom.cdf(i))\n",
    "        \n",
    "    c_cdf[x] = y"
   ]
  },
  {
   "cell_type": "code",
   "execution_count": 90,
   "metadata": {},
   "outputs": [
    {
     "data": {
      "image/png": "[encoded data removed]",
      "text/plain": [
       "<matplotlib.figure.Figure at 0x1a13fb1a20>"
      ]
     },
     "metadata": {},
     "output_type": "display_data"
    }
   ],
   "source": [
    "plt.figure(figsize=(10,6))\n",
    "\n",
    "plt.plot(c_cdf['work_accident'], 'r', label='work_accident')\n",
    "plt.plot(c_cdf['left'], 'g', label='left')\n",
    "plt.plot(c_cdf['promotion_last_5years'], 'b', label='promotion_last_5years')\n",
    "\n",
    "plt.title('CDF')\n",
    "plt.legend()\n",
    "\n",
    "plt.show()"
   ]
  },
  {
   "cell_type": "code",
   "execution_count": 91,
   "metadata": {},
   "outputs": [
    {
     "data": {
      "text/plain": [
       "work_accident            2169.0\n",
       "left                     3571.0\n",
       "promotion_last_5years     319.0\n",
       "dtype: float64"
      ]
     },
     "execution_count": 91,
     "metadata": {},
     "output_type": "execute_result"
    }
   ],
   "source": [
    "# Look at expected values\n",
    "p * N"
   ]
  },
  {
   "cell_type": "markdown",
   "metadata": {},
   "source": [
    "### The Normal Distribution\n",
    "The Normal distribution (or sometimes called the Bell Curve or Gaussian) is by far the most prevalent and useful distribution in any field that utilizes statistical techniques.  In fact, in can be shown that the means of random variables sampled repeatedly from **any** distribution eventually form a normal given a sufficiently large sample size.\n",
    "\n",
    "A normal distribution is characterized by the PDF given by\n",
    "$$p(x|\\mu,\\sigma) = \\frac{1}{\\sqrt{(2\\pi\\sigma^2)}}e^{-\\frac{(x - \\mu)^2}{2\\sigma^2}} $$"
   ]
  },
  {
   "cell_type": "markdown",
   "metadata": {},
   "source": [
    "where $\\mu$ is the mean and $\\sigma^2$ is the variance, thus the distribution is characterized by mean and variance alone.  In this exercise, you'll examine some of the variables in the HR dataset and construct some normal distributions approximating them.\n",
    "\n",
    "Using the HR data, answer the following\n",
    "\n",
    "1. Which variables may be approximately normal?\n",
    "2. For the variables in part 1, plot some histograms.\n",
    "3. Compute the mean and variance for each of the variables used in parts 1 and 2.\n",
    "4. Using the mean and variance in part 3, construct normal distributions for each and overlay them on top of the histograms you made in part one.  Are they well approximated by normals?"
   ]
  },
  {
   "cell_type": "code",
   "execution_count": 92,
   "metadata": {
    "collapsed": true
   },
   "outputs": [],
   "source": [
    "# Question 1"
   ]
  },
  {
   "cell_type": "markdown",
   "metadata": {},
   "source": [
    "It looks like `satisfaction_level`, `last_evaluation`, and `average_monthly_hours` are the ones we want to take a look at.  Both `time_spent_company` and `number_projects` could both be too but well treat those as discrete."
   ]
  },
  {
   "cell_type": "code",
   "execution_count": 99,
   "metadata": {},
   "outputs": [
    {
     "data": {
      "image/png": "[encoded data removed]",
      "text/plain": [
       "<matplotlib.figure.Figure at 0x1a1506a320>"
      ]
     },
     "metadata": {},
     "output_type": "display_data"
    }
   ],
   "source": [
    "# Question 2\n",
    "# Initialize a set of subplots\n",
    "f, axarr = plt.subplots(2, 2, figsize=(10, 6))\n",
    "\n",
    "# Each subplot has a coordinate in axarr\n",
    "# Plot a hist for each variable at each of three of the four subplots\n",
    "axarr[0,0].hist(data.satisfaction_level, normed=True, bins='auto')\n",
    "axarr[0,1].hist(data.last_evaluation, normed=True, bins='auto')\n",
    "axarr[1,0].hist(data.average_monthly_hours, normed=True, bins='auto')\n",
    "\n",
    "plt.show()"
   ]
  },
  {
   "cell_type": "code",
   "execution_count": 102,
   "metadata": {},
   "outputs": [
    {
     "name": "stdout",
     "output_type": "stream",
     "text": [
      "satisfaction_level         0.612834\n",
      "last_evaluation            0.716102\n",
      "average_monthly_hours    201.050337\n",
      "dtype: float64\n",
      "satisfaction_level          0.061817\n",
      "last_evaluation             0.029299\n",
      "average_monthly_hours    2494.313175\n",
      "dtype: float64\n"
     ]
    }
   ],
   "source": [
    "means = data[['satisfaction_level', 'last_evaluation', 'average_monthly_hours']].mean()\n",
    "var = data[['satisfaction_level', 'last_evaluation', 'average_monthly_hours']].var()\n",
    "print(means)\n",
    "print(var)"
   ]
  },
  {
   "cell_type": "code",
   "execution_count": 104,
   "metadata": {},
   "outputs": [],
   "source": [
    "# Get stds as well\n",
    "stds = data[['satisfaction_level', 'last_evaluation', 'average_monthly_hours']].std()\n",
    "\n",
    "normals = {}\n",
    "\n",
    "x = {}\n",
    "\n",
    "for col in data[['satisfaction_level', 'last_evaluation', 'average_monthly_hours']]:\n",
    "    normals[col] = stats.norm(loc=means[col], scale=stds[col])\n",
    "    \n",
    "    x[col] = np.linspace(normals[col].ppf(0.01),\n",
    "                         normals[col].ppf(0.99),\n",
    "                         100)"
   ]
  },
  {
   "cell_type": "code",
   "execution_count": 106,
   "metadata": {},
   "outputs": [
    {
     "data": {
      "image/png": "[encoded data removed]",
      "text/plain": [
       "<matplotlib.figure.Figure at 0x1a15ce7e48>"
      ]
     },
     "metadata": {},
     "output_type": "display_data"
    }
   ],
   "source": [
    "# Plot the hists from before, but include normal curve on top of each\n",
    "f, axarr = plt.subplots(2, 2, figsize=(10,7))\n",
    "\n",
    "axarr[0,0].hist(data.satisfaction_level, bins='auto', normed=True)\n",
    "axarr[0,0].plot(x['satisfaction_level'], normals['satisfaction_level'].pdf(x['satisfaction_level']))\n",
    "\n",
    "axarr[0,1].hist(data.last_evaluation, bins='auto', normed=True)\n",
    "axarr[0,1].plot(x['last_evaluation'], normals['last_evaluation'].pdf(x['last_evaluation']))\n",
    "\n",
    "axarr[1,0].hist(data.average_monthly_hours, bins='auto', normed=True)\n",
    "axarr[1,0].plot(x['average_monthly_hours'], normals['average_monthly_hours'].pdf(x['average_monthly_hours']))\n",
    "\n",
    "plt.show()"
   ]
  },
  {
   "cell_type": "markdown",
   "metadata": {},
   "source": [
    "### The Poisson Distribution\n",
    "The Poisson distribution is very versatile but is typically used to model counts per unit time or space, such as the number of ad clicks or arriving flights, each per unit time. It has a PDF given by\n",
    "$$ P(X = x, \\lambda) = \\frac{\\lambda^x e^{-\\lambda}}{x!} $$\n",
    "where the mean and variance are both equal to $\\lambda$\n",
    "\n",
    "Using the HR data, answer the following.\n",
    "\n",
    "1. What variables would be good candidates for modeling with a Poisson distribution?\n",
    "2. For each variable in part 1, divide each by salary and fit a Poisson distribution to each.\n",
    "3. For each salary level, compute the probability of obtaining at least the mean of each variable &mdash; regardless of salary level &mdash; by using the Poisson distributions you constructed in part 2.  Comment on your results."
   ]
  },
  {
   "cell_type": "markdown",
   "metadata": {
    "collapsed": true
   },
   "source": [
    "**Question 1**\n",
    "\n",
    "Both `number_project` and `time_spend_company` are good to be modeled with Poisson dist"
   ]
  },
  {
   "cell_type": "code",
   "execution_count": 111,
   "metadata": {},
   "outputs": [
    {
     "name": "stdout",
     "output_type": "stream",
     "text": [
      "number_project low 3.799890650628759 3.799890650628759\n",
      "number_project medium 3.8135277691591685 3.8135277691591685\n",
      "number_project high 3.767178658043654 3.767178658043654\n",
      "time_spend_company low 3.4382176052487696 3.4382176052487696\n",
      "time_spend_company medium 3.52901023890785 3.52901023890785\n",
      "time_spend_company high 3.692805173807599 3.692805173807599\n"
     ]
    }
   ],
   "source": [
    "# Question 2\n",
    "# Get specific dataframe\n",
    "poisson_df = data[['number_project', 'time_spend_company', 'salary']]\n",
    "sal_cats = data.salary.unique()\n",
    "\n",
    "dist_dict = {}\n",
    "\n",
    "for col in ('number_project', 'time_spend_company'):\n",
    "    cat_sub = {}\n",
    "    for cat in sal_cats:\n",
    "        lam = data[data.salary == cat][col].mean()\n",
    "        cat_sub[cat] = stats.poisson(mu=lam)\n",
    "        print(col, cat, lam, cat_sub[cat].mean())\n",
    "    dist_dict[col] = cat_sub"
   ]
  },
  {
   "cell_type": "code",
   "execution_count": 114,
   "metadata": {},
   "outputs": [],
   "source": [
    "# Question 3\n",
    "probs = {}\n",
    "\n",
    "for col in ('number_project', 'time_spend_company'):\n",
    "    col_mean = data[col].mean()\n",
    "    cat_sub = {}\n",
    "    for cat in sal_cats:\n",
    "        cat_sub[cat] = dist_dict[col][cat].sf(col_mean)\n",
    "    probs[col] = cat_sub\n",
    "    "
   ]
  },
  {
   "cell_type": "code",
   "execution_count": 115,
   "metadata": {},
   "outputs": [
    {
     "data": {
      "text/plain": [
       "{'number_project': {'high': 0.5197772989110967,\n",
       "  'low': 0.526492784895537,\n",
       "  'medium': 0.5292788234607604},\n",
       " 'time_spend_company': {'high': 0.5043440311168106,\n",
       "  'low': 0.4499786914651107,\n",
       "  'medium': 0.4696141528359114}}"
      ]
     },
     "execution_count": 115,
     "metadata": {},
     "output_type": "execute_result"
    }
   ],
   "source": [
    "probs"
   ]
  },
  {
   "cell_type": "markdown",
   "metadata": {},
   "source": [
    "### The Central Limit Theorem\n",
    "The Central Limit Theorem is perhaps one of the most remarkable results in statistics and mathematics in general.  In short, it says that the distribution of means of independent random variables, sampled from **any** distribution, tends to approach a normal distribution as the sample size increases.\n",
    "\n",
    "An example of this would be taking a pair of dice, rolling them, and recording the mean of each result.  The Central Limit Theorem states, that after enough rolls, the distribution of the means will be approximately normal.  Stated formally, the result is\n",
    "    $$ \\bar{X_n} \\sim N(\\mu, \\sigma^2/n) = \\frac{\\sqrt{n}}{\\sigma \\sqrt{2\\pi}}e^{-n(\\bar{X_n} - \\mu)^2/\\sigma^2}$$\n",
    "In this exercise, you'll conduct some simulation experiments to explore this idea.\n",
    "\n",
    "Using the HR data, answer the following.\n",
    "1. Choose two variables which may be good candidates to test this theorem.\n",
    "2. Using the variables chosen in part 1, randomly select a set of `n = 10` samples and take the mean.  Repeat this 1000 times for each variable.\n",
    "3. Plot a histogram for each variable used in part 2.  Comment on your results.\n",
    "4. Repeat parts 2-3 for `n = 100`, `n = 500`, and `n = 1000`.  Comment on your results.\n",
    "5. Overlay an normal curve on your `n = 1000` plots, using the mean and variance computed from the data.  Comment on your results."
   ]
  },
  {
   "cell_type": "code",
   "execution_count": 116,
   "metadata": {
    "collapsed": true
   },
   "outputs": [],
   "source": [
    "# Question 1\n",
    "# Pick the two variables of interest and construct a dataframe\n",
    "clt_df = data[['satisfaction_level', 'number_project']]"
   ]
  },
  {
   "cell_type": "code",
   "execution_count": 119,
   "metadata": {},
   "outputs": [],
   "source": [
    "# Question 2\n",
    "sample_means_satisfaction = [clt_df.satisfaction_level.sample(10).mean() for _ in range(1000)]\n",
    "sample_means_project = [clt_df.number_project.sample(10).mean() for _ in range(1000)]"
   ]
  },
  {
   "cell_type": "code",
   "execution_count": 125,
   "metadata": {},
   "outputs": [
    {
     "data": {
      "image/png": "[encoded data removed]",
      "text/plain": [
       "<matplotlib.figure.Figure at 0x1a155cb1d0>"
      ]
     },
     "metadata": {},
     "output_type": "display_data"
    }
   ],
   "source": [
    "# # Question 3\n",
    "#Plot histograms of data\n",
    "fig, ax = plt.subplots(2, figsize=(10,7))\n",
    "\n",
    "ax[0].hist(sample_means_satisfaction, bins='auto', normed=True)\n",
    "ax[1].hist(sample_means_project, bins='auto', normed=True)\n",
    "\n",
    "plt.show()\n"
   ]
  },
  {
   "cell_type": "code",
   "execution_count": 127,
   "metadata": {},
   "outputs": [
    {
     "data": {
      "image/png": "[encoded data removed]",
      "text/plain": [
       "<matplotlib.figure.Figure at 0x1a15c29c88>"
      ]
     },
     "metadata": {},
     "output_type": "display_data"
    }
   ],
   "source": [
    "# Question 4\n",
    "sample_means_satisfaction = [clt_df.satisfaction_level.sample(1000).mean() for _ in range(1000)]\n",
    "sample_means_project = [clt_df.number_project.sample(1000).mean() for _ in range(1000)]\n",
    "\n",
    "#Plot histograms of data\n",
    "fig, ax = plt.subplots(2, figsize=(10,7))\n",
    "\n",
    "ax[0].hist(sample_means_satisfaction, bins='auto', normed=True)\n",
    "ax[1].hist(sample_means_project, bins='auto', normed=True)\n",
    "\n",
    "plt.show()"
   ]
  },
  {
   "cell_type": "code",
   "execution_count": 129,
   "metadata": {},
   "outputs": [
    {
     "data": {
      "image/png": "[encoded data removed]",
      "text/plain": [
       "<matplotlib.figure.Figure at 0x1a157a0b00>"
      ]
     },
     "metadata": {},
     "output_type": "display_data"
    }
   ],
   "source": [
    "# Question 5\n",
    "# Get normal dists based on mean, std for each variable\n",
    "means = clt_df.mean()\n",
    "stds = clt_df.std()\n",
    "\n",
    "normals = {}\n",
    "x = {}\n",
    "\n",
    "for col in clt_df.columns:\n",
    "    normals[col] = stats.norm(loc=means[col], scale=stds[col]/np.sqrt(1000))\n",
    "    x[col] = np.linspace(normals[col].ppf(0.01),\n",
    "                         normals[col].ppf(0.99),\n",
    "                         100)\n",
    "\n",
    "\n",
    "sample_means_satisfaction = [clt_df.satisfaction_level.sample(1000).mean() for _ in range(1000)]\n",
    "sample_means_project = [clt_df.number_project.sample(1000).mean() for _ in range(1000)]\n",
    "\n",
    "#Plot histograms of data\n",
    "fig, ax = plt.subplots(2, figsize=(10,7))\n",
    "\n",
    "ax[0].hist(sample_means_satisfaction, bins='auto', normed=True)\n",
    "ax[0].plot(x['satisfaction_level'], normals['satisfaction_level'].pdf(x['satisfaction_level']))\n",
    "\n",
    "ax[1].hist(sample_means_project, bins='auto', normed=True)\n",
    "ax[1].plot(x['number_project'], normals['number_project'].pdf(x['number_project']))\n",
    "\n",
    "plt.show()"
   ]
  },
  {
   "cell_type": "markdown",
   "metadata": {},
   "source": [
    "## Hypothesis Testing\n",
    "Hypothesis testing is essentially using the data to answer questions of interest.  For example, does a new medication provide any benefit over placebo?  Or is a subset of the population disproportionately more susceptible to a particular disease?  Or is the difference between two companies profits' significant or due to chance alone?\n",
    "\n",
    "Before doing some hypothesis testing on the HR data, recall that hypothesis typically come in pairs of the form $H_0$, called the null hypothesis, versus $H_a$, called the alternative hypothesis.  The null hypothesis represents the \"default\" assumption -- that a medication has no effect for example, while the alternative hypothesis represents what exactly we are looking to discover, in the medication case, whether it provides a significant benefit.  Another common case is testing the difference between two means.  Here, the null hypothesis is that there is no difference between two population means, whereas the alternative hypothesis is that there is a difference.  Stated more precisely\n",
    "$$H_0: \\mu_1 - \\mu_2 = 0$$\n",
    "$$H_a: \\mu_1 - \\mu_2 \\ne 0$$\n",
    "\n",
    "Hypotheses are usually tested by constructing a confidence interval around the test statistic and selecting a \"cut-off\" significance level denoted $\\alpha$.  A typical $\\alpha$ significance is 0.05 and is often called a \"p-value\".  If a test produces a p-value of $\\alpha$ or below, then the null hypothesis can be rejected, strengthening the case of the alternative hypothesis.  It is very important to remember that hypothesis testing can only tell you if your hypothesis is statistically significant -- this does **not** mean that your result may be scientifically significant which requires much more evidence.\n",
    "\n",
    "In this exercise you'll explore the HR data more and test some hypothesis.\n",
    "\n",
    "Using the HR data, answer the following.\n",
    "\n",
    "1. Compute a confidence interval for satisfaction levels, at the 95% confidence level, of employees who left the company and those who didn't.  Do this using both a t distribution and a normal.  Comment on your results.\n",
    "2. Use a t-test to test the hypothesis that employees who left the company, had lower satisfaction levels than those who did not.  If significant, is the mean difference?  Comment on your results.  (Hint: Do the two populations have equal variance?)\n",
    "3. Fit a normal curve to each group in part 2 and put them on the same plot next to each other.  Comment on your results.\n",
    "4. Test the hypothesis that the satisfaction level between each salary group, denoted k, differs signicantly from the mean.  Namely\n",
    "    - $H_0: \\mu - \\mu_k = 0$\n",
    "    - $H_a: \\mu - \\mu_k \\ne 0$\n",
    "5. How would you interpret your results in part 5?\n",
    "6. Generate plots for part 5 as you did in part 3.  What conclusions can you draw from the plot?\n",
    "7. Repeat parts 4-6 on a hypothesis of your choosing.\n",
    "8. Recall that Power is the probability of failing to reject the null hypothesis when it is false (thus more power is good).  Compute the power for the hypothesis that the satisfaction level of high paid employees is different than that of medium paid employees using a t distribution."
   ]
  },
  {
   "cell_type": "code",
   "execution_count": 131,
   "metadata": {},
   "outputs": [
    {
     "name": "stderr",
     "output_type": "stream",
     "text": [
      "/Users/Frank/anaconda3/lib/python3.6/site-packages/statsmodels/compat/pandas.py:56: FutureWarning: The pandas.core.datetools module is deprecated and will be removed in a future version. Please use the pandas.tseries module instead.\n",
      "  from pandas.core import datetools\n"
     ]
    },
    {
     "data": {
      "text/plain": [
       "{'left': (0.4314384713317101, 0.44875755219111313),\n",
       " 'stayed': (0.6628287359038344, 0.6707904450552143)}"
      ]
     },
     "execution_count": 131,
     "metadata": {},
     "output_type": "execute_result"
    }
   ],
   "source": [
    "# Question 1\n",
    "import statsmodels.stats.api as sm\n",
    "\n",
    "# Compute confidence intervals using t-dist for satisfaction level for both stayed and left\n",
    "{'stayed': sm.DescrStatsW(data[data.left == 0].satisfaction_level).tconfint_mean(alpha=0.05),\n",
    " 'left': sm.DescrStatsW(data[data.left == 1].satisfaction_level).tconfint_mean(alpha=0.05)}"
   ]
  },
  {
   "cell_type": "code",
   "execution_count": 132,
   "metadata": {},
   "outputs": [
    {
     "data": {
      "text/plain": [
       "{'left': (0.43144140722566204, 0.4487546162971612),\n",
       " 'stayed': (0.6628291575610661, 0.6707900233979827)}"
      ]
     },
     "execution_count": 132,
     "metadata": {},
     "output_type": "execute_result"
    }
   ],
   "source": [
    "# Compute confidence interevales using normal dist for the same\n",
    "{'stayed': sm.DescrStatsW(data[data.left == 0].satisfaction_level).zconfint_mean(alpha=0.05),\n",
    " 'left': sm.DescrStatsW(data[data.left == 1].satisfaction_level).zconfint_mean(alpha=0.05)}"
   ]
  },
  {
   "cell_type": "code",
   "execution_count": 134,
   "metadata": {},
   "outputs": [
    {
     "data": {
      "text/plain": [
       "Ttest_indResult(statistic=46.63641435277572, pvalue=0.0)"
      ]
     },
     "execution_count": 134,
     "metadata": {},
     "output_type": "execute_result"
    }
   ],
   "source": [
    "# Question 2\n",
    "# Perform two-sided t-test for the two samples (left, stayed)\n",
    "stats.ttest_ind(data[data.left == 0].satisfaction_level,\n",
    "                data[data.left == 1].satisfaction_level,\n",
    "                equal_var=False)"
   ]
  },
  {
   "cell_type": "code",
   "execution_count": 135,
   "metadata": {},
   "outputs": [
    {
     "data": {
      "text/plain": [
       "0.22671157871810688"
      ]
     },
     "execution_count": 135,
     "metadata": {},
     "output_type": "execute_result"
    }
   ],
   "source": [
    "data[data.left == 0].satisfaction_level.mean() - data[data.left == 1].satisfaction_level.mean()"
   ]
  },
  {
   "cell_type": "code",
   "execution_count": 138,
   "metadata": {},
   "outputs": [
    {
     "data": {
      "image/png": "[encoded data removed]",
      "text/plain": [
       "<matplotlib.figure.Figure at 0x1a1578ad68>"
      ]
     },
     "metadata": {},
     "output_type": "display_data"
    }
   ],
   "source": [
    "# Question 3\n",
    "# Get mean, std in dict for each group\n",
    "means = {'stayed': data[data.left == 0].satisfaction_level.mean(),\n",
    "         'left': data[data.left == 1].satisfaction_level.mean()}\n",
    "stds = {'stayed': data[data.left == 0].satisfaction_level.std() / np.sqrt(len(data[data.left == 0])),\n",
    "         'left': data[data.left == 1].satisfaction_level.std() / np.sqrt(len(data[data.left == 1]))}\n",
    "\n",
    "# Initialize dicts to hold normal dists and x space\n",
    "normals = {}\n",
    "x = {}\n",
    "\n",
    "# Iterate over each group and fit a normal dist based on mean, std, then calculate x space\n",
    "for dec in ('stayed', 'left'):\n",
    "    normals[dec] = stats.norm(loc=means[dec], scale=stds[dec])\n",
    "    x[dec] = np.linspace(normals[dec].ppf(0.001),\n",
    "                         normals[dec].ppf(0.999),\n",
    "                         100)\n",
    "    \n",
    "# Plot each on same chart\n",
    "plt.figure(figsize=(10,7))\n",
    "\n",
    "plt.plot(x['stayed'], normals['stayed'].pdf(x['stayed']), label='stayed')\n",
    "plt.plot(x['left'], normals['left'].pdf(x['left']), label='left')\n",
    "\n",
    "plt.legend()\n",
    "plt.show()"
   ]
  },
  {
   "cell_type": "code",
   "execution_count": 143,
   "metadata": {},
   "outputs": [
    {
     "data": {
      "text/plain": [
       "{'high': Ttest_1sampResult(statistic=3.82059975018617, pvalue=0.00013974368695866474),\n",
       " 'low': Ttest_1sampResult(statistic=-4.058538121602221, pvalue=4.9895149767038095e-05),\n",
       " 'medium': Ttest_1sampResult(statistic=2.9429521364929117, pvalue=0.0032625787024487714)}"
      ]
     },
     "execution_count": 143,
     "metadata": {},
     "output_type": "execute_result"
    }
   ],
   "source": [
    "# Question 4\n",
    "# Get sample means for satisfactory level for each salary group\n",
    "mean_satisfaction = data.satisfaction_level.mean()\n",
    "\n",
    "t_group = {}\n",
    "\n",
    "for group in data.salary.unique():\n",
    "    t_group[group] = stats.ttest_1samp(data[data.salary == group].satisfaction_level, mean_satisfaction)\n",
    "    \n",
    "t_group"
   ]
  },
  {
   "cell_type": "code",
   "execution_count": 145,
   "metadata": {},
   "outputs": [],
   "source": [
    "# Question 5\n",
    "# Means for all groups differ significantly from the mean of the overall group, \n",
    "# as seen through the low p-values for each test."
   ]
  },
  {
   "cell_type": "code",
   "execution_count": 148,
   "metadata": {},
   "outputs": [
    {
     "data": {
      "image/png": "[encoded data removed]",
      "text/plain": [
       "<matplotlib.figure.Figure at 0x1a15b872b0>"
      ]
     },
     "metadata": {},
     "output_type": "display_data"
    }
   ],
   "source": [
    "# Question 6\n",
    "means = {'low': data[data.salary == 'low'].satisfaction_level.mean(),\n",
    "         'medium': data[data.salary == 'medium'].satisfaction_level.mean(),\n",
    "         'high': data[data.salary == 'high'].satisfaction_level.mean()}\n",
    "\n",
    "stds = {'low': data[data.salary == 'low'].satisfaction_level.std() / np.sqrt(len(data[data.salary == 'low'])),\n",
    "        'medium': data[data.salary == 'medium'].satisfaction_level.std() / np.sqrt(len(data[data.salary == 'medium'])),\n",
    "        'high': data[data.salary == 'high'].satisfaction_level.std() / np.sqrt(len(data[data.salary == 'high']))}\n",
    "\n",
    "normals = {}\n",
    "x = {}\n",
    "\n",
    "for salary in means.keys():\n",
    "    normals[salary] = stats.norm(loc=means[salary], scale=stds[salary])\n",
    "    x[salary] = np.linspace(normals[salary].ppf(0.01),\n",
    "                            normals[salary].ppf(0.99),\n",
    "                            100)\n",
    "    \n",
    "# Plot\n",
    "plt.figure(figsize=(10,7))\n",
    "\n",
    "plt.plot(x['low'], normals['low'].pdf(x['low']), label='low')\n",
    "plt.plot(x['medium'], normals['medium'].pdf(x['medium']), label='medium')\n",
    "plt.plot(x['high'], normals['high'].pdf(x['high']), label='high')\n",
    "\n",
    "plt.title('Normal Dists of Satisfaction Level\\nby Salary Group')\n",
    "plt.legend()\n",
    "\n",
    "plt.show()"
   ]
  },
  {
   "cell_type": "code",
   "execution_count": 152,
   "metadata": {},
   "outputs": [
    {
     "data": {
      "text/plain": [
       "0.7704654392194535"
      ]
     },
     "execution_count": 152,
     "metadata": {},
     "output_type": "execute_result"
    }
   ],
   "source": [
    "# Question 8\n",
    "# Compute the high-medium effect size (difference of means)\n",
    "effect_size = (data[data.salary == 'high'].satisfaction_level.mean() -\n",
    "               data[data.salary == 'medium'].satisfaction_level.mean())\n",
    "\n",
    "# Divide by std\n",
    "effect_size = effect_size / data.satisfaction_level.std()\n",
    "\n",
    "# Compute the high/medium count ratio\n",
    "r = len(data[data.salary == 'high']) / len(data[data.salary == 'medium'])\n",
    "\n",
    "# Use statsmodels api to compute the power using the desired alpha\n",
    "sm.TTestIndPower().power(effect_size, len(data[data.left == 0]), alpha=0.05, ratio = r)"
   ]
  },
  {
   "cell_type": "markdown",
   "metadata": {},
   "source": [
    "## Bootstrapping\n",
    "Bootstrapping is an immensely useful technique in practice.  Very often you may find yourself in a situation where you want to compute some statistic, but lack sufficient data to do so.  Bootstrapping works as a remedy to this problem.\n",
    "\n",
    "Recall that the bootstrapping algorithm breaks down as follows:\n",
    "1. Sample n observations with replacement from the observed data resulting in one simulated complete data set. \n",
    "1. Take the statistic of the simulated data set\n",
    "1. Repeat these two steps B times, resulting in B simulated statistics\n",
    "1. These statistics are approximately drawn from the sampling distribution of the statistic of n observations\n",
    "    - This is a lot like what you did when drawing many sample means\n",
    "\n",
    "In this exercise you will implement this algorithm on the HR data.\n",
    "\n",
    "Write a function that can perform bootrapping for the median of a set of n samples in the HR data set.  Test this function on the `satisfaction_level` with `n = 100` and `b = 100` and compare your results to the true median.  Also compute the standard deviation of the bootstrapped median."
   ]
  },
  {
   "cell_type": "code",
   "execution_count": 155,
   "metadata": {
    "collapsed": true
   },
   "outputs": [],
   "source": [
    "def merge_bstrap(col, n, b):\n",
    "    ''' Perform bootstrap of the median for a given column of data\n",
    "    \n",
    "        col: a column of data\n",
    "        n: sample size\n",
    "        b: number of bootstrapped samples\n",
    "    '''\n",
    "    # List to store sample medians\n",
    "    med = []\n",
    "    # Iterate through b loops\n",
    "    for _ in range(b):\n",
    "        # Get a random sample with replacement of size n\n",
    "        data_temp = col.sample(n=n, replace=True)\n",
    "        # Compute median of sample\n",
    "        med_temp = np.median(data_temp)\n",
    "        # Store sample median in list\n",
    "        med.append(med_temp)\n",
    "    return med"
   ]
  },
  {
   "cell_type": "code",
   "execution_count": 157,
   "metadata": {},
   "outputs": [
    {
     "data": {
      "text/plain": [
       "0.6438000000000001"
      ]
     },
     "execution_count": 157,
     "metadata": {},
     "output_type": "execute_result"
    }
   ],
   "source": [
    "test = merge_bstrap(data['satisfaction_level'], 100, 100)\n",
    "np.mean(test)"
   ]
  },
  {
   "cell_type": "code",
   "execution_count": 158,
   "metadata": {},
   "outputs": [
    {
     "data": {
      "text/plain": [
       "0.64"
      ]
     },
     "execution_count": 158,
     "metadata": {},
     "output_type": "execute_result"
    }
   ],
   "source": [
    "np.median(data['satisfaction_level'])"
   ]
  },
  {
   "cell_type": "code",
   "execution_count": 159,
   "metadata": {},
   "outputs": [
    {
     "data": {
      "text/plain": [
       "0.035784913022110315"
      ]
     },
     "execution_count": 159,
     "metadata": {},
     "output_type": "execute_result"
    }
   ],
   "source": [
    "np.std(test)"
   ]
  },
  {
   "cell_type": "code",
   "execution_count": null,
   "metadata": {
    "collapsed": true
   },
   "outputs": [],
   "source": []
  }
 ],
 "metadata": {
  "anaconda-cloud": {},
  "kernelspec": {
   "display_name": "Python 3",
   "language": "python",
   "name": "python3"
  },
  "language_info": {
   "codemirror_mode": {
    "name": "ipython",
    "version": 3
   },
   "file_extension": ".py",
   "mimetype": "text/x-python",
   "name": "python",
   "nbconvert_exporter": "python",
   "pygments_lexer": "ipython3",
   "version": "3.6.3"
  }
 },
 "nbformat": 4,
 "nbformat_minor": 2
}
