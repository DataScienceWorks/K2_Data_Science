{
 "cells": [
  {
   "cell_type": "markdown",
   "metadata": {},
   "source": [
    "# Coding Challenges\n",
    "\n",
    "\n",
    "- [Good introductory article on the basics of Big-O](https://justin.abrah.ms/computer-science/big-o-notation-explained.html)\n",
    "- Hash table is another name for dictionary\n",
    "\n",
    "<hr>"
   ]
  },
  {
   "cell_type": "markdown",
   "metadata": {},
   "source": [
    "## Fizz Buzz\n",
    "\n",
    "We will start off with the infamous Fizz buzz challenge. This challenge has been used frequently in the\n",
    "past as an initial coding challenge to filter out people who cannot write a simple solution. The general\n",
    "problem is:\n",
    "\n",
    "*Print out all the numbers from 1 to 100. But for every number divisible by 3 print replace it with the\n",
    "word “Fizz,” for any number divisible by 5 replace it with the word “Buzz” and for a number divisible\n",
    "by both 3 and 5 replace it with the word “FizzBuzz.”\n",
    "So your program should output:*\n",
    "\n",
    "    1\n",
    "    2\n",
    "    Fizz\n",
    "    4\n",
    "    Buzz\n",
    "    Fizz\n",
    "    7\n",
    "    .\n",
    "    .\n",
    "    .\n"
   ]
  },
  {
   "cell_type": "code",
   "execution_count": 1,
   "metadata": {
    "collapsed": true
   },
   "outputs": [
    {
     "name": "stdout",
     "output_type": "stream",
     "text": [
      "1\n",
      "2\n",
      "Fizz\n",
      "4\n",
      "Buzz\n",
      "Fizz\n",
      "7\n",
      "8\n",
      "Fizz\n",
      "Buzz\n",
      "11\n",
      "Fizz\n",
      "13\n",
      "14\n",
      "FizzBuzz\n",
      "16\n",
      "17\n",
      "Fizz\n",
      "19\n",
      "Buzz\n",
      "Fizz\n",
      "22\n",
      "23\n",
      "Fizz\n",
      "Buzz\n",
      "26\n",
      "Fizz\n",
      "28\n",
      "29\n",
      "FizzBuzz\n",
      "31\n",
      "32\n",
      "Fizz\n",
      "34\n",
      "Buzz\n",
      "Fizz\n",
      "37\n",
      "38\n",
      "Fizz\n",
      "Buzz\n",
      "41\n",
      "Fizz\n",
      "43\n",
      "44\n",
      "FizzBuzz\n",
      "46\n",
      "47\n",
      "Fizz\n",
      "49\n",
      "Buzz\n",
      "Fizz\n",
      "52\n",
      "53\n",
      "Fizz\n",
      "Buzz\n",
      "56\n",
      "Fizz\n",
      "58\n",
      "59\n",
      "FizzBuzz\n",
      "61\n",
      "62\n",
      "Fizz\n",
      "64\n",
      "Buzz\n",
      "Fizz\n",
      "67\n",
      "68\n",
      "Fizz\n",
      "Buzz\n",
      "71\n",
      "Fizz\n",
      "73\n",
      "74\n",
      "FizzBuzz\n",
      "76\n",
      "77\n",
      "Fizz\n",
      "79\n",
      "Buzz\n",
      "Fizz\n",
      "82\n",
      "83\n",
      "Fizz\n",
      "Buzz\n",
      "86\n",
      "Fizz\n",
      "88\n",
      "89\n",
      "FizzBuzz\n",
      "91\n",
      "92\n",
      "Fizz\n",
      "94\n",
      "Buzz\n",
      "Fizz\n",
      "97\n",
      "98\n",
      "Fizz\n",
      "Buzz\n"
     ]
    }
   ],
   "source": [
    "# Solution to FizzBuzz\n",
    "for i in range(1, 101):\n",
    "    if i % 15 == 0:\n",
    "        print('FizzBuzz')\n",
    "    elif i % 5 == 0:\n",
    "        print('Buzz')\n",
    "    elif i % 3 == 0:\n",
    "        print('Fizz')\n",
    "    else:\n",
    "        print(i)"
   ]
  },
  {
   "cell_type": "markdown",
   "metadata": {},
   "source": [
    "# Two Sum Problem"
   ]
  },
  {
   "cell_type": "markdown",
   "metadata": {},
   "source": [
    "The two sum problem is a classic coding interview question asked at both coding bootcamps and job\n",
    "interviews. The problem is as follows:\n",
    "\n",
    "*You are given an array and some number S. Determine if any two numbers within the array sum to S.*"
   ]
  },
  {
   "cell_type": "code",
   "execution_count": 5,
   "metadata": {
    "collapsed": true
   },
   "outputs": [],
   "source": [
    "def solution_2_sum(arr, S):\n",
    "    ''' This is a solution to the Two Sum Problem.  Inputs are array and number S.  Returns True/False \n",
    "        if any two numbers within array sum to S/otherwise.\n",
    "    '''\n",
    "    i = 0\n",
    "    while i < len(arr):\n",
    "        solution = S - arr[i]\n",
    "        for j in range(i+1, len(arr)):\n",
    "            if solution == arr[j]:\n",
    "                return True\n",
    "        i += 1\n",
    "        \n",
    "    return False\n",
    "\n",
    "test1 = [1, 1, 1, 1]\n",
    "test2 = [1, 2, 3, 4, 5]\n",
    "test3 = [23, 0, -4, 98, 453]\n",
    "test4 = []\n",
    "test5 = [5]\n",
    "\n",
    "assert solution_2_sum(test1, 2) == True\n",
    "assert solution_2_sum(test2, 9) == True\n",
    "assert solution_2_sum(test2, 100) == False\n",
    "assert solution_2_sum(test3, -4) == True\n",
    "assert solution_2_sum(test3, -56) == False\n",
    "assert solution_2_sum(test4, 4) == False\n",
    "assert solution_2_sum(test5, 5) == False"
   ]
  },
  {
   "cell_type": "markdown",
   "metadata": {},
   "source": [
    "# Calculate the Sum of Nested Array"
   ]
  },
  {
   "cell_type": "markdown",
   "metadata": {},
   "source": [
    "This problem asks you to sum up all of the numbers within an array, but the array may also contains\n",
    "other arrays with numbers. This is what we call a nested array. For example:\n",
    "\n",
    "    [1, 1, 1, [3, 4, [8]], [5]]\n",
    "\n",
    "is a nested array and summing all the elements should produce 23."
   ]
  },
  {
   "cell_type": "code",
   "execution_count": 24,
   "metadata": {
    "collapsed": true
   },
   "outputs": [],
   "source": [
    "def sum_nested_arr(arr):\n",
    "    total = 0\n",
    "    for i in range(len(arr)):\n",
    "        if type(arr[i]) == int:\n",
    "            total += arr[i]\n",
    "        elif type(arr[i]) == list:\n",
    "            total += sum_nested_arr(arr[i])\n",
    "        else:\n",
    "            print('Cannot sum because type is not int or list')\n",
    "    return total\n",
    "\n",
    "x = [1]\n",
    "y = [5, [5, 5]]\n",
    "z = []\n",
    "\n",
    "a = [[1], [[[3, 4], 4, 2], 2], 4, 5, 6, 7]\n",
    "b = [[[[5]]]]\n",
    "\n",
    "assert sum_nested_arr(x) == 1\n",
    "assert sum_nested_arr(y) == 15\n",
    "assert sum_nested_arr(z) == 0\n",
    "assert sum_nested_arr(a) == 38\n",
    "assert sum_nested_arr(b) == 5"
   ]
  },
  {
   "cell_type": "markdown",
   "metadata": {},
   "source": [
    "# Calculate the Angle on a Clock"
   ]
  },
  {
   "cell_type": "markdown",
   "metadata": {},
   "source": [
    "This problem asks you to determine the angle between the to hands on a clock. For example, if the\n",
    "minute hand is on the 3 and the hour hand is on the 12, then this forms a 90 degree angle. If the hour\n",
    "hand is slightly past the 2 and the minute hand is on the 4, then the angle formed between the hands\n",
    "is 50 degrees. Check out the [wiki article](https://en.wikipedia.org/wiki/Clock_angle_problem) for a more detailed description."
   ]
  },
  {
   "cell_type": "code",
   "execution_count": 31,
   "metadata": {
    "collapsed": true
   },
   "outputs": [],
   "source": [
    "def calc_clock_angle(min_hand, hr_hand):\n",
    "    ''' This function takes in two inputs for the position of the min and hr hands of a clock and returns\n",
    "        the angle between them in degrees\n",
    "    '''\n",
    "    minute = min_hand % 12\n",
    "    hour = hr_hand % 12\n",
    "    \n",
    "    diff = abs(minute - hour)\n",
    "    angle = diff * (360 / 12)\n",
    "    \n",
    "    if angle > 180:\n",
    "        return 360 - angle\n",
    "    return angle\n",
    "\n",
    "assert calc_clock_angle(12, 3) == 90\n",
    "assert calc_clock_angle(1, 5) == 120\n",
    "assert calc_clock_angle(0, 12) == 0\n",
    "assert calc_clock_angle(11, 1) == 60\n",
    "assert calc_clock_angle(2.5, 4) == 45"
   ]
  },
  {
   "cell_type": "markdown",
   "metadata": {},
   "source": [
    "# Determine if N is a Prime Number"
   ]
  },
  {
   "cell_type": "markdown",
   "metadata": {},
   "source": [
    "This is a classic coding questins that asks you to write a program to determine whether or not some\n",
    "input N is a prime number. A prime number is a number that is divisible only by 1 and itself. The first\n",
    "few prime numbers are: 2, 3, 5, 7, 11, 17, …"
   ]
  },
  {
   "cell_type": "code",
   "execution_count": 39,
   "metadata": {
    "collapsed": true
   },
   "outputs": [],
   "source": [
    "def is_prime(N):\n",
    "    if N < 4:\n",
    "        return True\n",
    "    \n",
    "    check_start = 2\n",
    "    check_end = N // 2\n",
    "    for i in range(check_start, check_end + 1):\n",
    "        if N % i == 0:\n",
    "            return False\n",
    "    return True\n",
    "\n",
    "assert is_prime(4) == False\n",
    "assert is_prime(5) == True\n",
    "assert is_prime(10) == False\n",
    "assert is_prime(11) == True\n",
    "assert is_prime(37) == True\n",
    "assert is_prime(407) == False"
   ]
  },
  {
   "cell_type": "markdown",
   "metadata": {},
   "source": [
    "# Implement Map and Filter"
   ]
  },
  {
   "cell_type": "markdown",
   "metadata": {},
   "source": [
    "Map and filter are common functional programming methods that you’ve most likely used when\n",
    "coding. They are both functions that take in a list, perform some operation on that list without\n",
    "changing the original list, and then return a new lists. The functions do not change any other variables\n",
    "and do not touch anything else except those lists they were given. JavaScript, Python, and Ruby all\n",
    "have their own built-in versions of these functions, but we are going to impement our own.\n",
    "\n",
    "**Map** works by taking a list and a function, and it applies the function to each element in the list and\n",
    "returns a new list. For example, you may want to square every number in an array or append a string\n",
    "to every element in an array. We want an implementation where we can pass in two parameters, one\n",
    "being the array and the second being some function that will be mapped onto every element.\n",
    "\n",
    "**Filter** works by taking a list and a conditional statement, and it returns a new list where every\n",
    "element in the original list passes the conditional (returns true). For example, you may have a list of\n",
    "ages and you want a new list of ages where each one is between 21 and 35. We want an\n",
    "implementation where, similar to the map function, we pass in a list and a function that contains\n",
    "within it a conditional statement."
   ]
  },
  {
   "cell_type": "code",
   "execution_count": 15,
   "metadata": {
    "collapsed": true
   },
   "outputs": [],
   "source": [
    "def my_map(arr, f):\n",
    "    return [f(x) for x in arr]\n",
    "\n",
    "def my_filter(arr, f):\n",
    "    return [x for x in arr if f(x)]\n",
    "\n",
    "f1 = lambda x: x * x\n",
    "f2 = lambda x: x + 5\n",
    "f3 = lambda x: str(x)\n",
    "\n",
    "c1 = lambda x: x % 2 == 0\n",
    "c2 = lambda x: x > 2\n",
    "c3 = lambda x: x < 25\n",
    "\n",
    "assert my_map([1, 2, 3, 4, 5], f1) == [1, 4, 9, 16, 25]\n",
    "assert my_map([1, 2, 3, 4, 5], f2) == [6, 7, 8, 9, 10]\n",
    "assert my_map([1, 2, 3, 4, 5], f3) == ['1', '2', '3', '4', '5']\n",
    "\n",
    "assert my_filter([23, 45, 1, 3, 6, 76], c1) == [6, 76]\n",
    "assert my_filter([34, 35, 36, 23, 1, 2, 3, 4], c2) == [34, 35, 36, 23, 3, 4]\n",
    "assert my_filter([25, 24, 26, 0, -1, 100], c3) == [24, 0, -1]"
   ]
  },
  {
   "cell_type": "markdown",
   "metadata": {},
   "source": [
    "# Remove Set of Characters from a String"
   ]
  },
  {
   "cell_type": "markdown",
   "metadata": {},
   "source": [
    "These types of challenges are very common for people who have recently learned how to code. The problem description is:\n",
    "\n",
    "*You are given an array of characters and a string S. Write a function to return the string S with all the\n",
    "characters from the array removed.*"
   ]
  },
  {
   "cell_type": "code",
   "execution_count": 42,
   "metadata": {
    "collapsed": true
   },
   "outputs": [],
   "source": [
    "def remove_char_set(arr, S):\n",
    "    arr_index = 0\n",
    "    while arr_index < len(arr):\n",
    "        if arr[arr_index] in S:\n",
    "            S = S.replace(arr[arr_index], '')\n",
    "        arr_index += 1\n",
    "    return S\n",
    "\n",
    "arr1 = ['a', 'b', 'c']\n",
    "S1 = 'abra cadabra'\n",
    "\n",
    "arr2 = ['x', 'y', 'z']\n",
    "S2 = 'this test string should look the same'\n",
    "\n",
    "arr3 = ['f', 'f', 'd', 'd']\n",
    "S3 = 'ffddffddabc'\n",
    "\n",
    "assert remove_char_set(arr1, S1) == 'r dr'\n",
    "assert remove_char_set(arr2, S2) == 'this test string should look the same'\n",
    "assert remove_char_set(arr3, S3) == 'abc'"
   ]
  },
  {
   "cell_type": "markdown",
   "metadata": {},
   "source": [
    "# Check if Valid Number of Parenthesis"
   ]
  },
  {
   "cell_type": "markdown",
   "metadata": {},
   "source": [
    "This problem asks you to determine if there is a valid number of matching parenthsis in a string, or\n",
    "more formally:\n",
    "\n",
    "*You are given a string with the symbols ( and ) and you need to write a function that will determine if\n",
    "the parenthsis are correctly nested in the string which means every opening ( has a closing )*\n",
    "\n",
    "There are countless ways to actually nest parenthsis and have them be valid, for example:\n",
    "\n",
    "    ()\n",
    "    (())\n",
    "    ()()()\n",
    "    ((()()))\n",
    "\n",
    "Below are examples of some invalid matchings:\n",
    "\n",
    "    (()\n",
    "    ((((\n",
    "    ())()\n",
    "    ()()())"
   ]
  },
  {
   "cell_type": "code",
   "execution_count": 47,
   "metadata": {
    "collapsed": true
   },
   "outputs": [],
   "source": [
    "def check_valid_paren(S):\n",
    "    opener = '('\n",
    "    closer = ')'\n",
    "    paren_arr = []\n",
    "    \n",
    "    for i in range(len(S)):\n",
    "        if len(paren_arr) == 0:\n",
    "            if S[i] == closer:\n",
    "                return False\n",
    "            else:\n",
    "                paren_arr.append(opener)\n",
    "        else:\n",
    "            if S[i] == closer:\n",
    "                paren_arr.pop()\n",
    "            else:\n",
    "                paren_arr.append(opener)\n",
    "    \n",
    "    if len(paren_arr) == 0:\n",
    "        return True\n",
    "    return False\n",
    "\n",
    "S1 = '((((((())))))'\n",
    "S2 = '()()()()()()()()'\n",
    "S3 = '(())(())()())'\n",
    "S4 = '))'\n",
    "\n",
    "assert check_valid_paren(S1) == False\n",
    "assert check_valid_paren(S2) == True\n",
    "assert check_valid_paren(S3) == False\n",
    "assert check_valid_paren(S4) == False\n",
    "assert check_valid_paren('') == True\n",
    "assert check_valid_paren('()(())(())(()))()()') == False"
   ]
  },
  {
   "cell_type": "markdown",
   "metadata": {},
   "source": [
    "# First Non-Repeating Character"
   ]
  },
  {
   "cell_type": "markdown",
   "metadata": {},
   "source": [
    "For this challenge you are given a string and you should return the first character that is unique in the\n",
    "entire string. For example:\n",
    "\n",
    "If string is “hello henry” then the first non-repeating character is the letter “o” because\n",
    "the first three characters in the string appear multiple times."
   ]
  },
  {
   "cell_type": "code",
   "execution_count": 58,
   "metadata": {
    "collapsed": true
   },
   "outputs": [],
   "source": [
    "def first_unique_char(S):\n",
    "    char_count = {}\n",
    "    \n",
    "    for char in S:\n",
    "        if char in char_count:\n",
    "            char_count[char] += 1\n",
    "        else:\n",
    "            char_count[char] = 1\n",
    "            \n",
    "    for i in range(len(S)):\n",
    "        if char_count[S[i]] == 1:\n",
    "            return S[i]\n",
    "        \n",
    "    return None\n",
    "\n",
    "assert first_unique_char('hello henry') == 'o'\n",
    "assert first_unique_char('ffffff') == None\n",
    "assert first_unique_char('this is a test') == 'h'\n",
    "assert first_unique_char('ljjmjjmjljmjd 343 d 3 ') == '4'"
   ]
  },
  {
   "cell_type": "markdown",
   "metadata": {},
   "source": [
    "# Count Words that have at Least 3 Continuous Vowels"
   ]
  },
  {
   "cell_type": "markdown",
   "metadata": {},
   "source": [
    "This challenge will require us to take a string, separate it into words, and then loop through the words\n",
    "and count how many words have at least 3 vowels."
   ]
  },
  {
   "cell_type": "code",
   "execution_count": 65,
   "metadata": {
    "collapsed": true
   },
   "outputs": [],
   "source": [
    "def count_words_3_vowels(S):\n",
    "    total = 0\n",
    "    vowels = ['a', 'e', 'i', 'o', 'u']\n",
    "    word_list = S.split(' ')\n",
    "    \n",
    "    for word in word_list:\n",
    "        vowel_count = 0\n",
    "        for i in range(len(word)):\n",
    "            if word[i] in vowels:\n",
    "                vowel_count += 1\n",
    "                if vowel_count == 3:\n",
    "                    total += 1\n",
    "                    continue\n",
    "            else:\n",
    "                vowel_count = 0\n",
    "    return total\n",
    "\n",
    "assert count_words_3_vowels('eee eee eee dfjkadfj kdfkjasf') == 3\n",
    "assert count_words_3_vowels('') == 0\n",
    "assert count_words_3_vowels('this is the test string') == 0\n",
    "assert count_words_3_vowels('aie oue oui auo') == 4\n",
    "assert count_words_3_vowels('eee aaa iii ooo uuu fdkjalk fddeeefdeded dedede') == 6"
   ]
  },
  {
   "cell_type": "markdown",
   "metadata": {},
   "source": [
    "# Remove All Adjacent Matching Characters"
   ]
  },
  {
   "cell_type": "markdown",
   "metadata": {},
   "source": [
    "This challenge asks you to remove all matching adjacent pairs of letters from a string and return the\n",
    "modified string. For example, if the string is “aaagykkok” then your program would return\n",
    "“agyok” because “aa” and “kk” had been removed."
   ]
  },
  {
   "cell_type": "code",
   "execution_count": 2,
   "metadata": {
    "collapsed": true
   },
   "outputs": [],
   "source": [
    "def remove_adj_match(S):\n",
    "    Snew = ''\n",
    "    i = 0\n",
    "    \n",
    "    while i < len(S):\n",
    "        if i == (len(S) - 1):\n",
    "            Snew += S[i]\n",
    "            i += 1\n",
    "        else:\n",
    "            if S[i] == S[i+1]:\n",
    "                i += 2\n",
    "            else:\n",
    "                Snew += S[i]\n",
    "                i += 1\n",
    "    return Snew\n",
    "\n",
    "assert remove_adj_match('aaagykkok') == 'agyok'\n",
    "assert remove_adj_match('teststringg') == 'teststrin'\n",
    "assert remove_adj_match('gg') == ''\n",
    "assert remove_adj_match('aagg') == ''\n",
    "assert remove_adj_match('aabbc') == 'c'\n",
    "assert remove_adj_match('cccaaabbb') == 'cab'\n",
    "assert remove_adj_match('aaaaaabbbbccd') == 'd'"
   ]
  },
  {
   "cell_type": "markdown",
   "metadata": {},
   "source": [
    "# Find the Majority Element"
   ]
  },
  {
   "cell_type": "markdown",
   "metadata": {},
   "source": [
    "Finding the majority element in an array involves finding an element that appears strictly more than\n",
    "n/2 times where n is the size of the array. For example, in the array [1, 4, 5, 5, 5, 5] the\n",
    "element 5 appears 4 times and n/2 = 6/2 = 3, so the element 5 is the majority element. If on the other\n",
    "hand the array was [1, 4, 4, 5, 5] then the element 5 is not the majority element. There\n",
    "actually is no majority element because no element appears more than n/2 = 5/2 = 2 times."
   ]
  },
  {
   "cell_type": "code",
   "execution_count": 3,
   "metadata": {
    "collapsed": true
   },
   "outputs": [],
   "source": [
    "def find_majority_element(arr):\n",
    "    d = {}\n",
    "    half_size = len(arr) // 2\n",
    "    for el in arr:\n",
    "        if el in d:\n",
    "            d[el] += 1\n",
    "            if d[el] > half_size:\n",
    "                return el\n",
    "        else:\n",
    "            d[el] = 1\n",
    "    return None"
   ]
  },
  {
   "cell_type": "code",
   "execution_count": 4,
   "metadata": {
    "collapsed": true
   },
   "outputs": [],
   "source": [
    "assert find_majority_element([1, 1, 1, 1, 3]) == 1\n",
    "assert find_majority_element([1, 1, 2, 3, 3, 2]) == None\n",
    "assert find_majority_element([1, 2, 3, 4]) == None\n",
    "assert find_majority_element([1, 5, 5, 5, 5, 5]) == 5"
   ]
  },
  {
   "cell_type": "markdown",
   "metadata": {},
   "source": [
    "# Switching Light Bulbs Problem"
   ]
  },
  {
   "cell_type": "markdown",
   "metadata": {},
   "source": [
    "This problem has a lot of different variations, but the one we will cover here is the following: Imagine\n",
    "there are 100 light bulbs, labeled from 1 to 100, lined up all set to off initially. There are also 100\n",
    "people each numbered 1 to 100 as well. Person 1 will go through all the light bulbs and flip the switch\n",
    "turning all of them on. Then person number 2 will go through all the light bulbs and flip the switch on\n",
    "each 2nd element turning them off, namely: light bulbs #2, #4, #6, #8, etc. Then person 3 will go and\n",
    "do the same for the 3rd ligh bulb, 6th, 9th, etc. Then questions are usually asked about the light bulbs,\n",
    "for example:\n",
    "\n",
    "• How many light bulbs will be on after 100 people have gone through them?\n",
    "\n",
    "• What is the status of the Nth light bulb (34th, 62nd, etc.)? Is it on or off?\n",
    "\n",
    "• How many people need to go through the line of light bulbs until exactly K light bulbs are set\n",
    "to on?"
   ]
  },
  {
   "cell_type": "code",
   "execution_count": 13,
   "metadata": {},
   "outputs": [],
   "source": [
    "def final_lb_layout(n):\n",
    "    lb_list = [False]*100\n",
    "    if n < 1:\n",
    "        return lb_list\n",
    "    \n",
    "    for person in range(1, n + 1):\n",
    "        lb_list = [not x if (i+1) % person == 0 else x for i, x in enumerate(lb_list)]\n",
    "        \n",
    "    return lb_list"
   ]
  },
  {
   "cell_type": "code",
   "execution_count": 14,
   "metadata": {},
   "outputs": [
    {
     "data": {
      "text/plain": [
       "10"
      ]
     },
     "execution_count": 14,
     "metadata": {},
     "output_type": "execute_result"
    }
   ],
   "source": [
    "# Number of light bulbs on after 100 people go through\n",
    "on_after_100 = len([x for x in final_lb_layout(100) if x])\n",
    "on_after_100"
   ]
  },
  {
   "cell_type": "code",
   "execution_count": 18,
   "metadata": {
    "collapsed": true
   },
   "outputs": [],
   "source": [
    "def check_status(lb_list, N):\n",
    "    return 'On' if lb_list[N - 1] else 'Off'"
   ]
  },
  {
   "cell_type": "code",
   "execution_count": 19,
   "metadata": {},
   "outputs": [
    {
     "name": "stdout",
     "output_type": "stream",
     "text": [
      "On\n",
      "On\n",
      "Off\n"
     ]
    }
   ],
   "source": [
    "lb1 = final_lb_layout(1)\n",
    "lb2 = final_lb_layout(2)\n",
    "lb23 = final_lb_layout(23)\n",
    "\n",
    "print(check_status(lb1, 10))\n",
    "print(check_status(lb2, 11))\n",
    "print(check_status(lb23, 99))"
   ]
  },
  {
   "cell_type": "code",
   "execution_count": 31,
   "metadata": {
    "collapsed": true
   },
   "outputs": [],
   "source": [
    "def to_get_K_on(K):\n",
    "    lb_list = [False]*100\n",
    "    num_on = len([x for x in lb_list if x])\n",
    "    person = 0\n",
    "    while (num_on != K) and (person < 1001):\n",
    "        person += 1\n",
    "        lb_list = final_lb_layout(person)\n",
    "        num_on = len([x for x in lb_list if x])\n",
    "    \n",
    "    return person if person < 1001 else 'More than 1000'\n",
    "    "
   ]
  },
  {
   "cell_type": "code",
   "execution_count": 32,
   "metadata": {},
   "outputs": [
    {
     "name": "stdout",
     "output_type": "stream",
     "text": [
      "More than 1000\n"
     ]
    }
   ],
   "source": [
    "assert to_get_K_on(100) == 1\n",
    "assert to_get_K_on(50) == 2\n",
    "\n",
    "print(to_get_K_on(8))"
   ]
  },
  {
   "cell_type": "markdown",
   "metadata": {},
   "source": [
    "# List of Integers that Overlap in 2 Ranges"
   ]
  },
  {
   "cell_type": "markdown",
   "metadata": {},
   "source": [
    "For this problem you’ll need to find all the numbers that overlap between two ranges, for example:\n",
    "between the two ranges of [5, 20] and [17, 21] the overlapping integers are [17, 18, 19, 20, 21]."
   ]
  },
  {
   "cell_type": "code",
   "execution_count": 17,
   "metadata": {
    "collapsed": true
   },
   "outputs": [],
   "source": [
    "def overlap(r1, r2):\n",
    "    overlap = []\n",
    "    \n",
    "    # check if the two arrays overlap at all\n",
    "    if (r1[0] > r2[-1]) | (r2[0] > r1[-1]):\n",
    "        return overlap\n",
    "    \n",
    "    # change range values into int arrs\n",
    "    arr1 = list(range(r1[0], r1[-1] + 1))\n",
    "    arr2 = list(range(r2[0], r2[-1] + 1))\n",
    "    \n",
    "    # get first value and initial indexes of each arr\n",
    "    if arr1[0] < arr2[0]:\n",
    "        start_value = arr2[0]\n",
    "    else:\n",
    "        start_value = arr1[0]\n",
    "        \n",
    "    index1 = arr1.index(start_value)\n",
    "    index2 = arr2.index(start_value)\n",
    "    \n",
    "    # while arrs are overlapping append values to overlap\n",
    "    while (index1 < len(arr1)) & (index2 < len(arr2)):\n",
    "        overlap.append(arr1[index1])\n",
    "        index1 += 1\n",
    "        index2 += 1\n",
    "        \n",
    "    return overlap"
   ]
  },
  {
   "cell_type": "code",
   "execution_count": 18,
   "metadata": {},
   "outputs": [
    {
     "data": {
      "text/plain": [
       "[5, 6]"
      ]
     },
     "execution_count": 18,
     "metadata": {},
     "output_type": "execute_result"
    }
   ],
   "source": [
    "overlap([1, 58], [5, 6])"
   ]
  },
  {
   "cell_type": "code",
   "execution_count": 19,
   "metadata": {
    "collapsed": true
   },
   "outputs": [],
   "source": [
    "assert overlap([5, 20], [17, 23]) == [17, 18, 19, 20]\n",
    "assert overlap([5, 20], [23, 24]) == []\n",
    "assert overlap([5, 20], [1, 3]) == []\n",
    "assert overlap([15, 20], [17, 18]) == [17, 18]"
   ]
  },
  {
   "cell_type": "markdown",
   "metadata": {},
   "source": [
    "# Return Mean, Median, and Mode of an Array"
   ]
  },
  {
   "cell_type": "markdown",
   "metadata": {},
   "source": [
    "This is more of a simpler question that doesn’t require too much complex code to solve. It simply\n",
    "requires you to do 3 things, calculcate the mean which is the average of all the numbers, the median\n",
    "which is the middle number when the array is sorted, and the mode which is the number that\n",
    "appears the most."
   ]
  },
  {
   "cell_type": "code",
   "execution_count": 37,
   "metadata": {
    "collapsed": true
   },
   "outputs": [],
   "source": [
    "def mean_median_mode(arr):\n",
    "    # MEAN\n",
    "    s = 0.0\n",
    "    for el in arr:\n",
    "        s += el\n",
    "    mean = s / len(arr)\n",
    "    \n",
    "    # MEDIAN\n",
    "    arr.sort()\n",
    "    if len(arr) % 2 == 0:\n",
    "        median = (arr[len(arr) // 2] + (arr[(len(arr) // 2) - 1])) / 2.0\n",
    "    else:\n",
    "        median = arr[(len(arr) // 2)]\n",
    "        \n",
    "    # MODE\n",
    "    from collections import Counter\n",
    "    c = Counter(arr)\n",
    "    mode = c.most_common(1)\n",
    "    \n",
    "    return mean, median, mode[0][0]"
   ]
  },
  {
   "cell_type": "code",
   "execution_count": 38,
   "metadata": {},
   "outputs": [
    {
     "data": {
      "text/plain": [
       "(3.5, 3.5, 1)"
      ]
     },
     "execution_count": 38,
     "metadata": {},
     "output_type": "execute_result"
    }
   ],
   "source": [
    "mean_median_mode([1, 2, 3, 4, 5, 6])"
   ]
  },
  {
   "cell_type": "code",
   "execution_count": 39,
   "metadata": {
    "collapsed": true
   },
   "outputs": [],
   "source": [
    "assert mean_median_mode([1, 2, 3, 4, 5, 6]) == (3.5, 3.5, 1)\n",
    "assert mean_median_mode([1, 1, 1, 1, 1, 1]) == (1.0, 1.0, 1)\n",
    "assert mean_median_mode([2, 2, 2, 2]) == (2.0, 2.0, 2)\n",
    "assert mean_median_mode([1, 2, 2, 2, 2, 3]) == (2.0, 2.0, 2)\n",
    "assert mean_median_mode([1, 1, 1, 1, 1, 5]) == ((10.0/6), 1.0, 1)"
   ]
  },
  {
   "cell_type": "markdown",
   "metadata": {},
   "source": [
    "# Encode Consonants within a String"
   ]
  },
  {
   "cell_type": "markdown",
   "metadata": {},
   "source": [
    "This challenge asks you to take a string composed of only lowercase letters and space characters, for\n",
    "example `“hello world”` and replace every consonant in the string with the next consontant in the\n",
    "alphabet. So in the above example, the output should be `“jemmo xosmf”` and you can see that we\n",
    "left every vowel in place and only changed the consonants. You should notice that the last letter\n",
    "changed was from d to f and not from d to e because e is a vowel."
   ]
  },
  {
   "cell_type": "code",
   "execution_count": 4,
   "metadata": {
    "collapsed": true
   },
   "outputs": [],
   "source": [
    "def encode_consonants(s):\n",
    "    vowels = 'aeiou'\n",
    "    encoding = ''\n",
    "    for char in s:\n",
    "        if (char in vowels) or (char == ' '):\n",
    "            encoding += char\n",
    "        else:\n",
    "            new_char = chr(ord(char) + 1)\n",
    "            if new_char in vowels:\n",
    "                new_char = chr(ord(new_char) + 1)\n",
    "            \n",
    "            encoding += new_char\n",
    "    return encoding\n",
    "\n",
    "assert encode_consonants('hello world') == 'jemmo xosmf'\n",
    "assert encode_consonants('abc') == 'acd'\n",
    "assert encode_consonants('string test') == 'tvsiph vetv'\n",
    "assert encode_consonants('    ') == '    '\n",
    "assert encode_consonants('aeiou') == 'aeiou'"
   ]
  },
  {
   "cell_type": "markdown",
   "metadata": {},
   "source": [
    "# Convert an Array of Strings into an Object"
   ]
  },
  {
   "cell_type": "markdown",
   "metadata": {},
   "source": [
    "This challenge doesn’t strictly have a single output like the previous challenges, rather this challenge\n",
    "focuses on you using certain data structures correctly. Imagine you have several users entering\n",
    "information through a form, and on the back-end you get the information as a comma separated\n",
    "string of information. The information the user will enter in the form is: Name, Email, Age, and\n",
    "Occupation all in that order. Each user’s piece of information will be separated by a comma, and each\n",
    "user will be separated by a space, but some pieces of information can be blank for a user (excluding\n",
    "the name), for example:\n",
    "\n",
    "    “Daniel,me@test.com,56,Coder John,,,Teacher Michael,mike@test.com,,”\n",
    "\n",
    "You can see above that all the information exists for Daniel, but email and age are missing for\n",
    "John, and age and occupation are missing for Michael. "
   ]
  },
  {
   "cell_type": "code",
   "execution_count": 36,
   "metadata": {},
   "outputs": [
    {
     "data": {
      "text/plain": [
       "[{'Age': '56',\n",
       "  'Email': 'me@test.com',\n",
       "  'Name': 'Daniel',\n",
       "  'Occupation': 'Coder'},\n",
       " {'Age': '', 'Email': '', 'Name': 'John', 'Occupation': 'Teacher'},\n",
       " {'Age': '', 'Email': 'mike@test.com', 'Name': 'Michael', 'Occupation': ''}]"
      ]
     },
     "execution_count": 36,
     "metadata": {},
     "output_type": "execute_result"
    }
   ],
   "source": [
    "def string_to_object_list(S):\n",
    "    people_list = S.split(' ')\n",
    "    object = {}\n",
    "    for person in people_list:\n",
    "        p = {}\n",
    "        values = person.split(',')\n",
    "        p['Email'] = values[1] or None\n",
    "        p['Age'] = int(values[2]) if values[2] else None\n",
    "        p['Occupation'] = values[3] or None\n",
    "        \n",
    "        \n",
    "        \n",
    "        object_list.append(p)\n",
    "    return object_list\n",
    "\n",
    "s1 = 'Daniel,me@test.com,56,Coder John,,,Teacher Michael,mike@test.com,,'\n",
    "\n",
    "list1 = string_to_object_list(s1)\n",
    "\n",
    "list1\n"
   ]
  },
  {
   "cell_type": "markdown",
   "metadata": {},
   "source": [
    "# Three Sum Problem"
   ]
  },
  {
   "cell_type": "markdown",
   "metadata": {},
   "source": [
    "The three sum problem is very similar to the two sum problem we covered at the beginning of the\n",
    "chapter, except the problem statement now naturally changes to 3 elements instead of two:\n",
    "\n",
    "*You are given an array and some number S. Determine if any three numbers within the array sum to S.*"
   ]
  },
  {
   "cell_type": "code",
   "execution_count": 8,
   "metadata": {
    "collapsed": true
   },
   "outputs": [],
   "source": [
    "def solution_3_sum(arr, S):\n",
    "    for i in range(len(arr)):\n",
    "        for j in range(i+1, len(arr)):\n",
    "            arr2 = [arr[i] + arr[j]]\n",
    "            for k in range(len(arr)):\n",
    "                if (k != i) and (k != j):\n",
    "                    arr2.append(arr[k])\n",
    "            if solution_2_sum(arr2, S):\n",
    "                return True\n",
    "    return False\n",
    "\n",
    "assert solution_3_sum([1, 2, 3, 4, 5], 11) == True\n",
    "assert solution_3_sum([1, 2, 3, 4, 5], 25) == False\n",
    "assert solution_3_sum([1, 2, 3, 4, 5], 2) == False\n",
    "assert solution_3_sum([1, 1, 1, 2, 2, 2, 3], 6) == True\n",
    "assert solution_3_sum([1, 2, 3, 4, 45], 49) == True\n",
    "assert solution_3_sum([1, 2, 3, 4, 5], 0) == False"
   ]
  },
  {
   "cell_type": "code",
   "execution_count": null,
   "metadata": {
    "collapsed": true
   },
   "outputs": [],
   "source": []
  }
 ],
 "metadata": {
  "anaconda-cloud": {},
  "kernelspec": {
   "display_name": "Python 3",
   "language": "python",
   "name": "python3"
  },
  "language_info": {
   "codemirror_mode": {
    "name": "ipython",
    "version": 3
   },
   "file_extension": ".py",
   "mimetype": "text/x-python",
   "name": "python",
   "nbconvert_exporter": "python",
   "pygments_lexer": "ipython3",
   "version": "3.6.3"
  }
 },
 "nbformat": 4,
 "nbformat_minor": 1
}
